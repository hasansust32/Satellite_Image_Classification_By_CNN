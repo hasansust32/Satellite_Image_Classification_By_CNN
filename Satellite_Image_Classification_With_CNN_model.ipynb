{
  "nbformat": 4,
  "nbformat_minor": 0,
  "metadata": {
    "colab": {
      "provenance": []
    },
    "kernelspec": {
      "name": "python3",
      "display_name": "Python 3"
    },
    "language_info": {
      "name": "python"
    }
  },
  "cells": [
    {
      "cell_type": "markdown",
      "source": [
        "# Satellite Image Classification"
      ],
      "metadata": {
        "id": "D5ECZAebjvIB"
      }
    },
    {
      "cell_type": "code",
      "source": [
        "import pandas as pd\n",
        "import os\n",
        "data = pd.DataFrame(columns = ['image_path', 'label'])\n",
        "\n",
        "labels ={'/content/drive/MyDrive/Interview Prep/Satellite Image ML AI/data/cloudy' : 'Cloudy',\n",
        "         '/content/drive/MyDrive/Interview Prep/Satellite Image ML AI/data/desert' : 'Desert',\n",
        "         '/content/drive/MyDrive/Interview Prep/Satellite Image ML AI/data/green_area' : 'Green_area',\n",
        "         '/content/drive/MyDrive/Interview Prep/Satellite Image ML AI/data/water' : 'Water',\n",
        "\n",
        "         }\n"
      ],
      "metadata": {
        "id": "W_uefHJdjuNp"
      },
      "execution_count": null,
      "outputs": []
    },
    {
      "cell_type": "code",
      "source": [
        "# for folder in labels:\n",
        "#   for image_name in os.listdir(folder):\n",
        "#     image_path = os.path.join(folder, image_name)\n",
        "#     label = labels[folder]\n",
        "#     data = data.append({'image_path':image_path, 'label': label }, ignore_index=True)\n",
        "\n",
        "\n",
        "\n",
        "data_list = []  # Create an empty list to hold data dictionaries\n",
        "\n",
        "for folder, label in labels.items():\n",
        "    for image_name in os.listdir(folder):\n",
        "        image_path = os.path.join(folder, image_name)\n",
        "        # label = labels[folder]\n",
        "        data_list.append({'image_path': image_path, 'label': label})\n",
        "\n",
        "data = pd.concat([pd.DataFrame(data_dict, index=[0]) for data_dict in data_list], ignore_index=True)\n",
        "\n",
        "# Now the 'data' DataFrame contains the image paths and labels\n"
      ],
      "metadata": {
        "id": "crUOUahLjuKg"
      },
      "execution_count": null,
      "outputs": []
    },
    {
      "cell_type": "code",
      "source": [
        "data.to_csv('image_dataset.csv', index = True)"
      ],
      "metadata": {
        "id": "Z_SJEIG6juHe"
      },
      "execution_count": null,
      "outputs": []
    },
    {
      "cell_type": "code",
      "source": [
        "import pandas as pd\n",
        "import numpy as np\n",
        "\n",
        "from sklearn.model_selection import train_test_split\n",
        "from keras.preprocessing.image import ImageDataGenerator\n",
        "\n",
        "from keras.models import Sequential\n",
        "from keras.layers import Conv2D, MaxPooling2D, Flatten, Dense, Dropout"
      ],
      "metadata": {
        "id": "JnTQR1RKjuEw"
      },
      "execution_count": null,
      "outputs": []
    },
    {
      "cell_type": "code",
      "source": [
        "df = pd.read_csv('image_dataset.csv')"
      ],
      "metadata": {
        "id": "xtUlpixtjuB9"
      },
      "execution_count": null,
      "outputs": []
    },
    {
      "cell_type": "code",
      "source": [
        "df"
      ],
      "metadata": {
        "colab": {
          "base_uri": "https://localhost:8080/",
          "height": 1000
        },
        "id": "UvtSJyhejt_L",
        "outputId": "adc9e498-ed07-41e0-bca1-157f1b2a47e6"
      },
      "execution_count": 193,
      "outputs": [
        {
          "output_type": "execute_result",
          "data": {
            "text/plain": [
              "      Unnamed: 0                                         image_path   label\n",
              "0              0  /content/drive/MyDrive/Interview Prep/Satellit...  Cloudy\n",
              "1              1  /content/drive/MyDrive/Interview Prep/Satellit...  Cloudy\n",
              "2              2  /content/drive/MyDrive/Interview Prep/Satellit...  Cloudy\n",
              "3              3  /content/drive/MyDrive/Interview Prep/Satellit...  Cloudy\n",
              "4              4  /content/drive/MyDrive/Interview Prep/Satellit...  Cloudy\n",
              "...          ...                                                ...     ...\n",
              "5626        5626  /content/drive/MyDrive/Interview Prep/Satellit...   Water\n",
              "5627        5627  /content/drive/MyDrive/Interview Prep/Satellit...   Water\n",
              "5628        5628  /content/drive/MyDrive/Interview Prep/Satellit...   Water\n",
              "5629        5629  /content/drive/MyDrive/Interview Prep/Satellit...   Water\n",
              "5630        5630  /content/drive/MyDrive/Interview Prep/Satellit...   Water\n",
              "\n",
              "[5631 rows x 3 columns]"
            ],
            "text/html": [
              "\n",
              "  <div id=\"df-5729bfe2-7533-4982-a378-2aaf9dd9a7f8\" class=\"colab-df-container\">\n",
              "    <div>\n",
              "<style scoped>\n",
              "    .dataframe tbody tr th:only-of-type {\n",
              "        vertical-align: middle;\n",
              "    }\n",
              "\n",
              "    .dataframe tbody tr th {\n",
              "        vertical-align: top;\n",
              "    }\n",
              "\n",
              "    .dataframe thead th {\n",
              "        text-align: right;\n",
              "    }\n",
              "</style>\n",
              "<table border=\"1\" class=\"dataframe\">\n",
              "  <thead>\n",
              "    <tr style=\"text-align: right;\">\n",
              "      <th></th>\n",
              "      <th>Unnamed: 0</th>\n",
              "      <th>image_path</th>\n",
              "      <th>label</th>\n",
              "    </tr>\n",
              "  </thead>\n",
              "  <tbody>\n",
              "    <tr>\n",
              "      <th>0</th>\n",
              "      <td>0</td>\n",
              "      <td>/content/drive/MyDrive/Interview Prep/Satellit...</td>\n",
              "      <td>Cloudy</td>\n",
              "    </tr>\n",
              "    <tr>\n",
              "      <th>1</th>\n",
              "      <td>1</td>\n",
              "      <td>/content/drive/MyDrive/Interview Prep/Satellit...</td>\n",
              "      <td>Cloudy</td>\n",
              "    </tr>\n",
              "    <tr>\n",
              "      <th>2</th>\n",
              "      <td>2</td>\n",
              "      <td>/content/drive/MyDrive/Interview Prep/Satellit...</td>\n",
              "      <td>Cloudy</td>\n",
              "    </tr>\n",
              "    <tr>\n",
              "      <th>3</th>\n",
              "      <td>3</td>\n",
              "      <td>/content/drive/MyDrive/Interview Prep/Satellit...</td>\n",
              "      <td>Cloudy</td>\n",
              "    </tr>\n",
              "    <tr>\n",
              "      <th>4</th>\n",
              "      <td>4</td>\n",
              "      <td>/content/drive/MyDrive/Interview Prep/Satellit...</td>\n",
              "      <td>Cloudy</td>\n",
              "    </tr>\n",
              "    <tr>\n",
              "      <th>...</th>\n",
              "      <td>...</td>\n",
              "      <td>...</td>\n",
              "      <td>...</td>\n",
              "    </tr>\n",
              "    <tr>\n",
              "      <th>5626</th>\n",
              "      <td>5626</td>\n",
              "      <td>/content/drive/MyDrive/Interview Prep/Satellit...</td>\n",
              "      <td>Water</td>\n",
              "    </tr>\n",
              "    <tr>\n",
              "      <th>5627</th>\n",
              "      <td>5627</td>\n",
              "      <td>/content/drive/MyDrive/Interview Prep/Satellit...</td>\n",
              "      <td>Water</td>\n",
              "    </tr>\n",
              "    <tr>\n",
              "      <th>5628</th>\n",
              "      <td>5628</td>\n",
              "      <td>/content/drive/MyDrive/Interview Prep/Satellit...</td>\n",
              "      <td>Water</td>\n",
              "    </tr>\n",
              "    <tr>\n",
              "      <th>5629</th>\n",
              "      <td>5629</td>\n",
              "      <td>/content/drive/MyDrive/Interview Prep/Satellit...</td>\n",
              "      <td>Water</td>\n",
              "    </tr>\n",
              "    <tr>\n",
              "      <th>5630</th>\n",
              "      <td>5630</td>\n",
              "      <td>/content/drive/MyDrive/Interview Prep/Satellit...</td>\n",
              "      <td>Water</td>\n",
              "    </tr>\n",
              "  </tbody>\n",
              "</table>\n",
              "<p>5631 rows × 3 columns</p>\n",
              "</div>\n",
              "    <div class=\"colab-df-buttons\">\n",
              "\n",
              "  <div class=\"colab-df-container\">\n",
              "    <button class=\"colab-df-convert\" onclick=\"convertToInteractive('df-5729bfe2-7533-4982-a378-2aaf9dd9a7f8')\"\n",
              "            title=\"Convert this dataframe to an interactive table.\"\n",
              "            style=\"display:none;\">\n",
              "\n",
              "  <svg xmlns=\"http://www.w3.org/2000/svg\" height=\"24px\" viewBox=\"0 -960 960 960\">\n",
              "    <path d=\"M120-120v-720h720v720H120Zm60-500h600v-160H180v160Zm220 220h160v-160H400v160Zm0 220h160v-160H400v160ZM180-400h160v-160H180v160Zm440 0h160v-160H620v160ZM180-180h160v-160H180v160Zm440 0h160v-160H620v160Z\"/>\n",
              "  </svg>\n",
              "    </button>\n",
              "\n",
              "  <style>\n",
              "    .colab-df-container {\n",
              "      display:flex;\n",
              "      gap: 12px;\n",
              "    }\n",
              "\n",
              "    .colab-df-convert {\n",
              "      background-color: #E8F0FE;\n",
              "      border: none;\n",
              "      border-radius: 50%;\n",
              "      cursor: pointer;\n",
              "      display: none;\n",
              "      fill: #1967D2;\n",
              "      height: 32px;\n",
              "      padding: 0 0 0 0;\n",
              "      width: 32px;\n",
              "    }\n",
              "\n",
              "    .colab-df-convert:hover {\n",
              "      background-color: #E2EBFA;\n",
              "      box-shadow: 0px 1px 2px rgba(60, 64, 67, 0.3), 0px 1px 3px 1px rgba(60, 64, 67, 0.15);\n",
              "      fill: #174EA6;\n",
              "    }\n",
              "\n",
              "    .colab-df-buttons div {\n",
              "      margin-bottom: 4px;\n",
              "    }\n",
              "\n",
              "    [theme=dark] .colab-df-convert {\n",
              "      background-color: #3B4455;\n",
              "      fill: #D2E3FC;\n",
              "    }\n",
              "\n",
              "    [theme=dark] .colab-df-convert:hover {\n",
              "      background-color: #434B5C;\n",
              "      box-shadow: 0px 1px 3px 1px rgba(0, 0, 0, 0.15);\n",
              "      filter: drop-shadow(0px 1px 2px rgba(0, 0, 0, 0.3));\n",
              "      fill: #FFFFFF;\n",
              "    }\n",
              "  </style>\n",
              "\n",
              "    <script>\n",
              "      const buttonEl =\n",
              "        document.querySelector('#df-5729bfe2-7533-4982-a378-2aaf9dd9a7f8 button.colab-df-convert');\n",
              "      buttonEl.style.display =\n",
              "        google.colab.kernel.accessAllowed ? 'block' : 'none';\n",
              "\n",
              "      async function convertToInteractive(key) {\n",
              "        const element = document.querySelector('#df-5729bfe2-7533-4982-a378-2aaf9dd9a7f8');\n",
              "        const dataTable =\n",
              "          await google.colab.kernel.invokeFunction('convertToInteractive',\n",
              "                                                    [key], {});\n",
              "        if (!dataTable) return;\n",
              "\n",
              "        const docLinkHtml = 'Like what you see? Visit the ' +\n",
              "          '<a target=\"_blank\" href=https://colab.research.google.com/notebooks/data_table.ipynb>data table notebook</a>'\n",
              "          + ' to learn more about interactive tables.';\n",
              "        element.innerHTML = '';\n",
              "        dataTable['output_type'] = 'display_data';\n",
              "        await google.colab.output.renderOutput(dataTable, element);\n",
              "        const docLink = document.createElement('div');\n",
              "        docLink.innerHTML = docLinkHtml;\n",
              "        element.appendChild(docLink);\n",
              "      }\n",
              "    </script>\n",
              "  </div>\n",
              "\n",
              "\n",
              "<div id=\"df-10c70cb2-ec7d-4f00-8e68-fefa7be5b719\">\n",
              "  <button class=\"colab-df-quickchart\" onclick=\"quickchart('df-10c70cb2-ec7d-4f00-8e68-fefa7be5b719')\"\n",
              "            title=\"Suggest charts.\"\n",
              "            style=\"display:none;\">\n",
              "\n",
              "<svg xmlns=\"http://www.w3.org/2000/svg\" height=\"24px\"viewBox=\"0 0 24 24\"\n",
              "     width=\"24px\">\n",
              "    <g>\n",
              "        <path d=\"M19 3H5c-1.1 0-2 .9-2 2v14c0 1.1.9 2 2 2h14c1.1 0 2-.9 2-2V5c0-1.1-.9-2-2-2zM9 17H7v-7h2v7zm4 0h-2V7h2v10zm4 0h-2v-4h2v4z\"/>\n",
              "    </g>\n",
              "</svg>\n",
              "  </button>\n",
              "\n",
              "<style>\n",
              "  .colab-df-quickchart {\n",
              "    background-color: #E8F0FE;\n",
              "    border: none;\n",
              "    border-radius: 50%;\n",
              "    cursor: pointer;\n",
              "    display: none;\n",
              "    fill: #1967D2;\n",
              "    height: 32px;\n",
              "    padding: 0 0 0 0;\n",
              "    width: 32px;\n",
              "  }\n",
              "\n",
              "  .colab-df-quickchart:hover {\n",
              "    background-color: #E2EBFA;\n",
              "    box-shadow: 0px 1px 2px rgba(60, 64, 67, 0.3), 0px 1px 3px 1px rgba(60, 64, 67, 0.15);\n",
              "    fill: #174EA6;\n",
              "  }\n",
              "\n",
              "  [theme=dark] .colab-df-quickchart {\n",
              "    background-color: #3B4455;\n",
              "    fill: #D2E3FC;\n",
              "  }\n",
              "\n",
              "  [theme=dark] .colab-df-quickchart:hover {\n",
              "    background-color: #434B5C;\n",
              "    box-shadow: 0px 1px 3px 1px rgba(0, 0, 0, 0.15);\n",
              "    filter: drop-shadow(0px 1px 2px rgba(0, 0, 0, 0.3));\n",
              "    fill: #FFFFFF;\n",
              "  }\n",
              "</style>\n",
              "\n",
              "  <script>\n",
              "    async function quickchart(key) {\n",
              "      const charts = await google.colab.kernel.invokeFunction(\n",
              "          'suggestCharts', [key], {});\n",
              "    }\n",
              "    (() => {\n",
              "      let quickchartButtonEl =\n",
              "        document.querySelector('#df-10c70cb2-ec7d-4f00-8e68-fefa7be5b719 button');\n",
              "      quickchartButtonEl.style.display =\n",
              "        google.colab.kernel.accessAllowed ? 'block' : 'none';\n",
              "    })();\n",
              "  </script>\n",
              "</div>\n",
              "    </div>\n",
              "  </div>\n"
            ]
          },
          "metadata": {},
          "execution_count": 193
        },
        {
          "output_type": "display_data",
          "data": {
            "text/plain": [
              "<google.colab._quickchart_helpers.SectionTitle at 0x781ce2eb16f0>"
            ],
            "text/html": [
              "<h4 class=\"colab-quickchart-section-title\">Values</h4>\n",
              "<style>\n",
              "  .colab-quickchart-section-title {\n",
              "      clear: both;\n",
              "  }\n",
              "</style>"
            ]
          },
          "metadata": {}
        },
        {
          "output_type": "display_data",
          "data": {
            "text/plain": [
              "import numpy as np\n",
              "from google.colab import autoviz\n",
              "\n",
              "def value_plot(df, y, figscale=1):\n",
              "  from matplotlib import pyplot as plt\n",
              "  df[y].plot(kind='line', figsize=(8 * figscale, 4 * figscale), title=y)\n",
              "  plt.gca().spines[['top', 'right']].set_visible(False)\n",
              "  plt.tight_layout()\n",
              "  return autoviz.MplChart.from_current_mpl_state()\n",
              "\n",
              "chart = value_plot(df, *['Unnamed: 0'], **{})\n",
              "chart"
            ],
            "text/html": [
              "      <div class=\"colab-quickchart-chart-with-code\" id=\"chart-12ef3199-2134-4347-a5b0-3cf0cb7c0fdb\">\n",
              "        <img src=\"data:image/png;base64,iVBORw0KGgoAAAANSUhEUgAAAYwAAADECAYAAACMRRb/AAAAOXRFWHRTb2Z0d2FyZQBNYXRwbG90\n",
              "bGliIHZlcnNpb24zLjcuMSwgaHR0cHM6Ly9tYXRwbG90bGliLm9yZy/bCgiHAAAACXBIWXMAAA9h\n",
              "AAAPYQGoP6dpAAAgz0lEQVR4nO3de3TT9f0/8Gfa9E4v0HubflKBgmJpC6VNFAUVEHQqFUSQVEGP\n",
              "P+am383hnDplwLYj6kHOmLqzHf2NuTWIIBdFBZSLgN/ZtNzEgigFmqSlaem90DZNk/f3j8AHq4hp\n",
              "KM3t+TiHc+D1bpP3hw/tk0/Sz+ulEEIIEBER/YQgT2+AiIh8AwODiIhcwsAgIiKXMDCIiMglDAwi\n",
              "InIJA4OIiFzCwCAiIpcwMIiIyCUMDCIicgkDg8gH3XTTTViyZImnt0EBhoFBPi8zMxNvvfXWD+q3\n",
              "3HILXnjhBQ/syDsdPnwYEyZMQFRUFNLS0rBkyRKwMxD1BQODKAC0t7dj6tSpGD9+PBoaGrBt2za8\n",
              "9dZb+Mtf/uLprZEPYWBQQKiqqoJCocDbb7+N3NxcREdHQ6vV4ujRo/LHzJ8/H3PmzMETTzyB+Ph4\n",
              "JCcnY9GiRfJ6V1cXZs2ahfT0dERHR2PkyJF44403ej1PZmYmlixZgqlTp2LQoEHIysrCzp078dln\n",
              "nyEnJwfR0dGYPHkyLBZLr8f9/e9/j2HDhmHw4MGYMGECDh48KK/39PTgd7/7HVJSUpCYmIjnnnuu\n",
              "z8e/YcMG2O12/OlPf0JERARGjx6Np59+Gq+//nqfH4sCFwODAsp//vMfbN26FWfOnIFKpcIvfvGL\n",
              "XusbN27ETTfdhPr6emzatAkvvfQSdu3aBQAQQuDOO+/EkSNH0NraihUrVmDhwoXYtm1br8dYtWoV\n",
              "XnnlFbS2tuKee+6BTqfDX//6V+zYsQOnT59GR0cHFi9eLH/8Y489hrKyMuzevRtnzpzB/fffj6lT\n",
              "p6KlpQUA8Morr2Dt2rXYuXMnqquroVQqYTAYej3nL3/5S9x1110/etyHDh3CmDFjoFQq5VpBQQFO\n",
              "njyJtrY2t/4uKfAwMCig/OEPf0BqairCw8Px8MMPo7y8vNf6+PHjMWfOHAQHB+OGG25AXl4eysrK\n",
              "AAARERF4+OGHERcXh6CgIPzsZz/DtGnT8Mknn/R6jEcffRS5ubkIDg7GQw89BIvFgqeffhqJiYmI\n",
              "jo7GzJkz5cdsbGzE22+/jTfeeAMqlQpKpRJPPPEEYmNj8eGHHwJwBtBTTz2FUaNGISwsDEuWLMHg\n",
              "wYN7Peff/vY3+eMvpa2tDXFxcb1qFx6DgUGuUv70hxB5t5CQENhsth/UbTYbQkJCetXS0tLk30dF\n",
              "RaGzsxM9PT3y/7y/u37hY9rb2wEAVqsVzz//PD744APU1dVBoVCgo6MDs2fP7vU5qampvT7/UrUL\n",
              "j1lZWQkA0Gg0vR6ju7sb1dXVAIDq6mpcc8018lpwcDAkSfrRv49LiYmJkR/vgubmZnmNyBUMDPJ5\n",
              "Q4cOxfHjx3vVHA4HTp48iWHDhvXb86xYsQKbN2/G5s2bkZWVhaCgIEyfPv2KftIoJSUFgPMnmH4s\n",
              "BFQqFaqqquQ/2+12mM3mPj1PXl4e9Hp9r3Dct28fhg4dysAgl/ElKfJ5jzzyCP75z39i+/bt6Onp\n",
              "QXt7O55//nn5PYf+0trairCwMCQmJsLhcGDdunU/eDmqr9RqNYqKivD444/DaDQCcP5E05YtW1Bb\n",
              "WwsAmDdvHl599VUcO3YMVqsVf/zjH9HU1NSn55kxYwaCg4OxePFidHZ2oqKiAsuXL8fjjz9+Rfun\n",
              "wMLAIJ83e/ZsrFy5Ek8//TQSEhKQlZWFiooKbN++HUOGDOm35/ntb3+LjIwMqNVqpKWlYceOHSgq\n",
              "Krrix129ejXy8/MxZcoU+aev3nzzTfnK5ZlnnsGMGTMwceJEqFQqdHd3/+AlrMceewx33HHHjz5H\n",
              "dHQ0tm3bhj179iA+Ph6TJ0/GI488gt/85jdXvH8KHArO9CYiIlfwCoOIiFzCwCAiIpcwMIiIyCUM\n",
              "DCIicgkDg4iIXMLAICIilzAwiIjIJT4fGCtXrvT0FoiIAoLPB8aFdgpERHR1+XxgEBHRwGBgEBGR\n",
              "SxgYRETkEgYGEZEPO9NuxRu7KvHfyoar/lwcoERE5GOEECg92QS9wYhtRyyw2QVuGZmIG4cnXNXn\n",
              "ZWAQEfmI1g4b1h+oht5gxIkz5+R6XkYc7s5Ju8xn9g8GBhGRFxNC4HB1K0pKjdh8+DS6bA4AQGRo\n",
              "MKbnpUOnkZCdHjsge2FgEBF5oY7uHrx/6DT0BiMqatrk+sjkaBRrJRSNSUd0eMiA7omBQUTkRb6x\n",
              "tENvMGLjgRq0W3sAAKHBQfhZTip0Ggn56sFQKBQe2RsDg4jIw6w9dmytsKCk1Ijyqma5ro6PhE4j\n",
              "4b78DAyJCvXgDp0YGEREHmJsPIfVBhPW7a9G07luAEBwkAJTrkuGTith/LAEBAV55mriUhgYREQD\n",
              "qMfuwI5j9SgpNWLv8Yv3TqTEhOOBQgmzCzKQEhvuwR3+OAYGEdEAsLR2YU25CWvKzLC0dQEAFApg\n",
              "QlYidBoJt12bBGWwd99LzcAgIrpKHA6BzysbUFJqxI5j9bA7BABgSFQo7h+XgbmFEqT4SA/v0nUM\n",
              "DCKiftZ41or39ldjdZkJxsYOuV54zRDoNBKmZacgTBnswR26h4FBRNQPhBDYZ2yGvtSIj7+yoNvu\n",
              "vMEuOkyJmfkqzNVIGJEc7eFdXhkGBhHRFWjrsmHTwRroS034pq5dro9Oj0WxVsLduWmIDPWPb7X+\n",
              "cRRERAOsoqYVeoMR7x86jY5uOwAgPCQI9+SmoVirRo4qzrMbvAoYGERELurstmPz4dPQG0z40twi\n",
              "14cnDUKxRsK9Y1WIjRjYdh0DiYFBRPQTKuvboTeYsH5/Ndq6nO06QoIVmJadimKNhMJrhnisXcdA\n",
              "YmAQEV1Cd48D245YoDcYUXqySa6rBkdgrkbC/eMykDAozIM7HHgMDCKi7zA3deCdMhPW7jOj4ayz\n",
              "XUeQArjt2mQUayVMyEr0qnYdA4mBQUQBz+4Q+OwbZ7uOz749A+G8vw5J0WGYU5CBOYUS0uIiPLtJ\n",
              "L8DAIKKAVd/WhXfLzXinzITTrV1y/abhCSjWSph0XTJCvLxdx0BiYBBRQBFC4IsTjSgxGPHJkTr0\n",
              "nG/XERcZgln5KszVqHFNQpSHd+mdGBhEFBBaOrqd7ToMJpxsuDgPO189GDqNhDtHpyI8xPfadQwk\n",
              "BgYR+S0hBA6aW1BSasSHh2vR3eNs1xEVGox7x6ZDp1HjutQYD+/SdzAwiMjvnLX24P1DNSgpNeHr\n",
              "2ovzsK9LjUGxVsL0vHQMCuO3v77i3xgR+Y2va9tQUmrEpoM1OHe+XUeYMgh35aRBp5UwJiMuIG6w\n",
              "u1oYGETk07psdnz8VS1KSo04YGqR60MTojBXI+G+fBXiIj0/D9sfMDCIyCedajiH1QYj1u2vRkuH\n",
              "DQCgDFJg6vUp0Gkk3DAsnlcT/YyBQUQ+w2Z3YPvROugNJnxeeXEednpcBB4ozMD94zKQFOOd87D9\n",
              "AQODiLze6ZZOrCkzYU25GfXtVgDOedi3jEhEsVaNW0YmIThA23UMJAYGEXklh0Ng9/Ez0JeasPNY\n",
              "Hc7fX4eEQaGYXZCBOQUSMob4zjxsf8DAICKv0nDWirX7zFhtMKG6uVOu3zA0HjqthNtHpSBUyXYd\n",
              "nsDAICKPE0LAcKoJeoMJWytqYbM7LydiwpW4Lz8DczUShicN8vAuiYFBRB7T2mnDhgPV0BtMqKw/\n",
              "K9dzM+JQrJFwV04aIkLZrsNbuH1dt2rVKigUCmzatAkAUF9fj2nTpiErKwvZ2dnYs2eP/LHurhGR\n",
              "f/rS3ILfvfclNC9ux9LNR1FZfxYRIcF4oDADH/7PTXj/8fGYNS6DYeFl3LrCqKqqwptvvgmtVivX\n",
              "nn32WWi1WmzduhXl5eW49957cerUKYSEhLi9RkT+o6O7Bx8ccs7D/qqmVa6PTI52tusYk46YcH7d\n",
              "e7M+B4bD4cCjjz6K1157DU899ZRcX7t2LSorKwEABQUFSEtLw+7duzF58mS314jI931b1w59qREb\n",
              "DtSg3eqchx0aHIQ7R6egWKtGvnowb7DzEX0OjBUrVmD8+PHIz8+Xa42NjbDZbEhJSZFrmZmZMJlM\n",
              "bq9ditVqhdVq7VWz2+19PQQiusqsPXZsrbBAX2pCWdXFedjq+EjMLZQwa1wGhkSxXYev6VNgVFRU\n",
              "YP369R57n2HZsmVYunRpr9p3XxYjIs8yNXZAX2bEun3VaDrnnIcdHKTA5OuSoNOocdPwhICdh+0P\n",
              "+hQYe/fuRVVVFbKysgAAFosFCxYswNKlS6FUKmGxWOSrhaqqKkiShPj4eLfWLuW5557DwoULe9UW\n",
              "LVrUtyMmon7VY3dg57F6lBhM2PPtGbmeEhOOOYXOG+xSYtmuwx8ohLgw7rzvbrnlFjz55JMoKirC\n",
              "/PnzkZmZiSVLlqC8vBxFRUWoqqpCSEiI22uuWLhwIVasWOHuIRCRmyytXVhTbsKaMjMsbRfnYU8Y\n",
              "kQidRsKka5Og5Dxsv9Jv92G8/PLLePDBB5GVlYXQ0FCUlJTI3/TdXSMi7+JwCPzviQaUlBqx/et6\n",
              "2M/36xgSFYpZ41SYWyhBHc952P7qiq4wvAGvMIiuvqZz3Xhvv7NdR1Vjh1wvzBwCnVbCtOwUhCl5\n",
              "z4S/453eRHRJQgjsNzajpNSIj7+yoNvunIcdHabEjLHpmKtRY2RKtId3SQOJgUFEvbR32bDpYA30\n",
              "BhOOWdrlenZ6DIo1atydm4YozsMOSDzrRAQAqKhphd5gwvuHatBxfh52eEgQ7slNg06jRm5GnGc3\n",
              "SB7HwCAKYJ3ddnx42Nmu45C5Ra4PTxoEnUbCjDEqxEbyh1DIiYFBFIAq689itcGE9/ab0dblbNcR\n",
              "Euych12sVUNzzRC266AfYGAQBYjuHgc+Oeps1/HFyUa5rhocgbkaCbPyM5AYHebBHZK3Y2AQ+Tlz\n",
              "UwfWlJvwbnk1Gs46e7EFKYDbrk2CTqvGhKxEzsMmlzAwiPyQ3SHw2Tf10BtM2PVNPS7cbZUYHYY5\n",
              "BRmYUyghPS7Cs5skn8PAIPIj9e1dWFtuxjtlZtS0XJyHPX54PIo1akwelYwQtusgNzEwiHycEAJf\n",
              "nGyEvtSEbUcs6DnfriM2IgSz8lWYq5EwNJHzsOnKMTCIfFRLRzfe21+N1QYTTjack+tjpTgUa9W4\n",
              "c3QqwkPYroP6DwODyIcIIXDI3IKSUhM+PHwa1h5nu46o0GAUjUmHTqPGqLQYD++S/BUDg8gHnLP2\n",
              "YNOhGuhLTTha2ybXr02JRrFWjaIx6RjEdh10lfFfGJEXO2ZpQ0mpEZsOnsbZC/OwlUG4KycVOo0a\n",
              "Y6U43mBHA4aBQeRlumx2bKmoRUmpCfuNzXL9moQo6DQSZo5VYTDnYZMHMDCIvMSphnNYbTBi3f5q\n",
              "tHTYAADKIAVuvz4ZOo0aNw6L59UEeRQDg8iDbHYHdnxdh5JSEz6vbJDrabHheKBQwuyCDCTFcB42\n",
              "eQcGBpEHnG7pxJpyM9aUmVDf7mzXoVAAt4xIhE6jxq3XJrFdB3kdBgbRAHE4BPYcPwO9wYQdX9fh\n",
              "/P11SBgUivvHZeCBQgkZQyI9u0miy2BgEF1lDWetWLevGqvLjDA3XWzXoR06BDqNGlOvT0Goku06\n",
              "yPsxMIiuAiEEyk41ocRgwtaKWtjszsuJ6HAl7stXQaeRMDyJ87DJtzAwiPpRa6cNGw9UQ28w4Xj9\n",
              "WbmemxEHnUbC3TlpiAhluw7yTQwMon5wuLoF+lITPvjyNDptznnYESHBmJ7nnIc9WhXr4R0SXTkG\n",
              "BpGbOrp7sPlL5zzsw9Wtcn1E8iC5XUdMOOdhk/9gYBD10fG6dugNJqw/UI328/OwQ4ODcMdo5zzs\n",
              "cerBvMGO/BIDg8gF1h47tlZYoDeYUHaqSa5LQyKh00i4L1+F+EGch03+jYFBdBnmpg7oDSas22dG\n",
              "47luAM552JOvS0axVo2bhicgiDfYUYBgYBB9T4/dgZ3HnPOw9xw/I8/DTo4Jw5wCCXMKM5Aay3nY\n",
              "FHgYGETn1bV1YU2ZGWvKTaht7ZLrN2clQKdRY/J1SVByHjYFMAYGBTSHQ+C/JxpRUmrEp1/XwX6+\n",
              "X8fgyBC5XUdmQpSHd0nkHRgYFJCaz3Vj3X4zVhtMqGrskOsFmYOh06gxLTuF87CJvoeBQQFDCIED\n",
              "pmaUlJrw0Ve16D4/D3tQmBIzxjrnYY9MYbsOoh/DwCC/195lw6ZDp6EvNeKYpV2uX58Wg2KtGvfk\n",
              "piGK87CJfhK/SshvHTndipJSE94/VIOObme7jjBlEO7JTYNOq0auKpY32BH1AQOD/EqXzY4PD9ei\n",
              "pNSIQ+YWuT4sMQo6jRozx6oQG8l2HUTu6NPPCHZ1daGoqAgjRoxAbm4upkyZgsrKSgBAfX09pk2b\n",
              "hqysLGRnZ2PPnj3y57m7RuSqE2fO4k8fHoXmxR347bovccjcgpBgBe7KScU7/0+L7Qsn4pGbrmFY\n",
              "EF2BPl9hLFiwAHfccQcUCgVef/11PProo/jss8/w7LPPQqvVYuvWrSgvL8e9996LU6dOISQkxO01\n",
              "osvp7nHg06N10BuM+O+JRrmeHheBuRoJ94/LQGI023UQ9Zc+BUZ4eDjuvPNO+c9arRbLly8HAKxd\n",
              "u1a+2igoKEBaWhp2796NyZMnu71GdCnVzR3nb7Azo+HsxXnYt41MQrFWjQkjEjkPm+gquKL3MFau\n",
              "XInp06ejsbERNpsNKSkp8lpmZiZMJpPba5ditVphtVp71ex2+5UcAvkIu0Ng97f10JeasOubenke\n",
              "dmJ0GOYUZGB2QQZUgzkPm+hqcjswXnzxRVRWVmLHjh3o7Oz86U/oB8uWLcPSpUt71bRa7YA8N3lG\n",
              "fXuXcx62wYSalov/zm4cFo9irRpTRiUjhO06iAaEW4GxfPlybNiwAdu3b0dkZCQiIyOhVCphsVjk\n",
              "q4WqqipIkoT4+Hi31i7lueeew8KFC3vVFi1a5M4hkBcTQuCLk43QG0zYVmFBz/nLidiIENyXr8Jc\n",
              "jYRhiYM8vEuiwNPn/5qtWLEC77zzDj799FPExcXJ9VmzZuHvf/87AKC8vBw1NTWYOHHiFa19X1hY\n",
              "GGJiYnr9Cg5m+wZ/0dphw////BQmrdiNuW8a8NHhWvQ4BMZIcXh1Vi4Mv5+ERXeNYlgQeUifrjCq\n",
              "q6vx1FNPYejQobj11lsBOL+JGwwGvPzyy3jwwQeRlZWF0NBQlJSUyD/p5O4a+T8hBA6ZW6A3mLD5\n",
              "y9Ownm/XERkajKIx6dBpJFyfxnnYRN5AIcSFbv++aeHChVixYoWnt0F9dM7ag/cPnYbeYMSR021y\n",
              "/dqUaBRr1Ziel4ZozsMm8iq805sG1DFLG/SlJmw8WIOz1vPzsJVBuGt0KnRaNcZKcWzXQeSlGBh0\n",
              "1XXZ7NhSUQt9qQn7jM1yPTM+EjqNGvflqzA4KtSDOyQiVzAw6KqpajiH1WXOedjNHTYAQHCQAreP\n",
              "SoZOo8aNw+I5D5vIhzAwqF/12B3Y/nU99AYj9h5vkOupseF4oFDC7IIMJMeEe3CHROQuBgb1i9rW\n",
              "TrxTZsa75SbUtV1s1zFxRCJ0GjVuHZnIedhEPo6BQW5zOAT2VjagpNSIHV/Xye064qNCcX9BBh4o\n",
              "kCDFs10Hkb9gYFCfNZ61Yt1+Z7sOU9PFediaa4ZAp1Vj6vXJCFPyhkoif8PAIJcIIVBe1Qy9wYgt\n",
              "X1nQbXfeYBcdrsTMsSroNBKykjkPm8ifMTDostq6bNh4oAZ6gxHf1p2V67mqWOg0atyVm4rIUP4z\n",
              "IgoE/EqnS/qquhUlpUZ88OVpdNqcLeQjQoIxPS8NOo0ao1Vs10EUaBgYJOvstmPzl852HV9Wt8r1\n",
              "rKRBKNaqUTQmHbERbNdBFKgYGITjde3QG0xYf6Aa7V3Odh0hwQrckZ2KYq0aBZmD2a6DiBgYgcra\n",
              "Y8e2I3XQlxphONUk16UhkZirkXBfvgoJgzgPm4guYmAEGHNTB1aXmbC23IzGc90AgCAFMOm6ZBRr\n",
              "1bh5eALbdRDRJTEwAoDdIbDzmLNdx+5vz+BCQ/vkmDDMKZAwpzADqbERnt0kEXk9BoYfq2/rwppy\n",
              "M9aUmXC6tUuu35yVAJ1GjUnXJXEeNhG5jIHhZxwOgf+eaITeYMSnR+vkediDI0Mwa1wG5hZKyEyI\n",
              "8vAuicgXMTD8RPO5bry3vxqry0w41XBOro9TD4ZOK+GO7FSEh7BdBxG5j4Hhw4QQOGBqgb7UiA+/\n",
              "qkX3+XnYg8KUuHdMOuZqJFyXGuPhXRKRv2Bg+KCz1h5sPFgDfakRxyztcn1Uaow8DzsqjKeWiPoX\n",
              "v6v4kKOn21BiMOL9gzU41+1s1xGmDMLduWko1qqRq4rlDXZEdNUwMLxcl82Ojw7XosRgxEFTi1wf\n",
              "mhjlnIc9VoXYSLbrIKKrj4HhpU6eOQu9wYT39lejtdM5D1sZpMDU7BToNBJuGBrPqwkiGlAMDC9i\n",
              "szvw6dE6lJQa8d8TjXI9PS4CczUSZo1TISma87CJyDMYGF6gpqUTa8pMWFNuxpn2i/OwbxuZBJ1W\n",
              "wsQRSQhmuw4i8jAGhofYHQJ7vj0DvcGIncfq5XnYCYPCMKcgA3MKM6AazHnYROQ9GBgD7Ey7FWv3\n",
              "mfFOmQnVzZ1y/Yah8SjWqjFlVDJClWzXQUTeh4ExAIQQKD3ZBL3BiG1HLLDZnZcTsREhuC9fhQcK\n",
              "JQxPGuThXRIRXR4D4ypq7bBh/YFq6A1GnDhzsV3HGCnOOQ87h+06iMh3MDD6mRACX1a3Ql9qxObD\n",
              "p9Flc7briAwNRtGYdMwtlJCdznnYROR7GBj95Jy1Bx+cn4ddUdMm169NiYZOq0ZRXhqiw3mDHRH5\n",
              "LgbGFfrG0g69wYiNB2rQbnXOww5VBuFno1NRrJUwVuI8bCLyDwwMN1h77NjylQV6gxHlVc1yPTM+\n",
              "EjqNGjPzVRgSFerBHRIR9T8GRh8YG89htcGEdfur0XR+HnZwkAJTzs/DvnFYPOdhE5HfYmD8hB67\n",
              "A9u/ds7D3nu8Qa6nxobL87CTY9iug4j8HwPjR1hau/BOmQlryk2oa7vYrmNCViJ0Ggm3XZsEJedh\n",
              "E1EA8YrAOH78OObNm4eGhgbExsbiX//6F66//voB34fDIfB5ZQNKSo3Ycawe9vP9OuKjQuV52FI8\n",
              "23UQUWDyisD4+c9/jgULFmD+/Pl47733MH/+fJSXlw/Y8zeetWLd/mqsNphgauqQ64XXDIFOI2Fa\n",
              "dgrClLzBjogCm8cDo76+Hvv27cMnn3wCAJg5cyaeeOIJVFZWYvjw4VfteYUQ2GdsRkmpEVu+sqDb\n",
              "7rzBLjpMiZn5KszVSBiRHH3Vnp+IyNd4PDDMZjNSU1OhVDq3olAoIEkSTCbTDwLDarXCarX2qtnt\n",
              "9j4/Z5fNjqI3/rfXPOwcVSx0Ggl356YhMtTjfy1ERF7Hp74zLlu2DEuXLu1V02q1fX6c8JBgpMSG\n",
              "o6rxHKbnpkOnlZCjiuunXRIR+SeFEEJ4cgP19fUYPnw4mpqaoFQqIYRAamoqPv/8c5euMBYtWoSV\n",
              "K1f2+XlNjR2IjQxBbATbdRARucLjPxealJSEsWPHoqSkBACwfv16qFSqS75/ERYWhpiYmF6/goPd\n",
              "ezNaio9kWBAR9YFXvCT1j3/8A/Pnz8eLL76ImJgYrFq1ytNbIiKi7/GKwBg5ciS++OILT2+DiIgu\n",
              "w+MvSRERkW/w+JveV2rGjBnIzMzs8+fZ7XaUlZWhsLDQ7fdBvJW/Hpu/HhfAY/NF/nRcarUav/71\n",
              "r3/y43w+MNzV1taG2NhYtLa2IiYmxtPb6Vf+emz+elwAj80X+etxXQ5fkiIiIpcwMIiIyCUMDCIi\n",
              "cknABkZYWBgWL16MsLAwT2+l3/nrsfnrcQE8Nl/kr8d1OQH7pjcREfVNwF5hEBFR3zAwiIjIJQwM\n",
              "IiJySUAGxvHjx3HjjTdixIgRKCgowJEjRzy9pcv61a9+hczMTCgUChw6dEiuX+443F0bSF1dXSgq\n",
              "KsKIESOQm5uLKVOmoLKyEoCz7f20adOQlZWF7Oxs7NmzR/48d9cG2u23346cnBzk5eXh5ptvxsGD\n",
              "BwH4/nm7YNWqVVAoFNi0aRMA/zhnmZmZGDlyJPLy8pCXl4d3330XgP+csysmAtCtt94qVq1aJYQQ\n",
              "Yt26dWLcuHGe3dBP2L17tzCbzUKtVouDBw/K9csdh7trA6mzs1N89NFHwuFwCCGEeO2118TEiROF\n",
              "EEI8/PDDYvHixUIIIcrKykR6erro7u6+orWB1tzcLP9+w4YNIicnRwjh++dNCCFOnTolbrjhBqHV\n",
              "asXGjRuFEP5xzr7/NXaBP5yz/hBwgVFXVyeio6OFzWYTQgjhcDhEcnKyOH78uId39tO++4/5csfh\n",
              "7pqnlZeXC7VaLYQQIioqStTW1sprBQUF4tNPP72iNU9atWqVyM3N9YvzZrfbxaRJk8S+ffvExIkT\n",
              "5cDwh3N2qcDwh3PWX7yivflA6ssMcW92ueOIjY11a83Tx79y5UpMnz4djY2NsNlsSElJkdcyMzNh\n",
              "MpncXvOUhx56CLt27QIAfPzxx35x3lasWIHx48cjPz9frvnbORNCoLCwEC+99JJfnLP+EpDvYZD3\n",
              "efHFF1FZWYlly5Z5eiv96t///jfMZjP+/Oc/45lnnvH0dq5YRUUF1q9fjxdeeMHTW7kq9uzZg8OH\n",
              "D+PAgQNISEjAvHnzPL0lrxJwgZGRkYHa2lr09PQAAIQQMJlMkCTJwzvrm8sdh7trnrJ8+XJs2LAB\n",
              "W7ZsQWRkJOLj46FUKmGxWOSPqaqqgiRJbq952rx587Br1y6oVCqfPm979+5FVVUVsrKykJmZidLS\n",
              "UixYsABr1671i3N24XlDQkLw5JNPYu/evX71tXbFPPRSmEdNnDix1xtR+fn5nt2Qi77/+urljsPd\n",
              "tYH26quvirFjx4qmpqZe9Xnz5vV6IzQtLU1+I9TdtYHU3Nwsampq5D9v3LhRpKenC4fD4Rfn7YLv\n",
              "vofh6+fs7NmzvX5Q4dVXXxU333yzEMI/vtb6Q0AGxrFjx4RWqxVZWVkiPz9fHD582NNbuqwFCxaI\n",
              "9PR0ERwcLJKSksSwYcOEEJc/DnfXBpLZbBYAxNChQ0Vubq7Izc0VhYWFQgghLBaLmDJlihg+fLgY\n",
              "NWqU2Llzp/x57q4NpKqqKlFQUCCys7NFTk6OmDRpkhz2vn7evuu7geHr5+zEiRMiLy9PjB49WmRn\n",
              "Z4t77rlHnDp1SgjhX+fsSrCXFBERuSTg3sMgIiL3MDCIiMglDAwiInIJA4OIiFzCwCAiIpcwMIiI\n",
              "yCUMDCIicgkDg4iIXMLAICIilzAwiIjIJQwMIiJyyf8BVp/ptnaP9sIAAAAASUVORK5CYII=\n",
              "\">\n",
              "        \n",
              "      </div>\n",
              "      <script></script>\n",
              "      <script type=\"text/javascript\">\n",
              "        (() => {\n",
              "          const chartElement = document.getElementById(\"chart-12ef3199-2134-4347-a5b0-3cf0cb7c0fdb\");\n",
              "          async function getCodeForChartHandler(event) {\n",
              "            const chartCodeResponse =  await google.colab.kernel.invokeFunction(\n",
              "                'getCodeForChart', [\"chart-12ef3199-2134-4347-a5b0-3cf0cb7c0fdb\"], {});\n",
              "            const responseJson = chartCodeResponse.data['application/json'];\n",
              "            await google.colab.notebook.addCell(responseJson.code, 'code');\n",
              "          }\n",
              "          chartElement.onclick = getCodeForChartHandler;\n",
              "        })();\n",
              "      </script>\n",
              "      <style>\n",
              "        .colab-quickchart-chart-with-code  {\n",
              "            display: block;\n",
              "            float: left;\n",
              "            border: 1px solid transparent;\n",
              "        }\n",
              "\n",
              "        .colab-quickchart-chart-with-code:hover {\n",
              "            cursor: pointer;\n",
              "            border: 1px solid #aaa;\n",
              "        }\n",
              "      </style>"
            ]
          },
          "metadata": {}
        },
        {
          "output_type": "display_data",
          "data": {
            "text/plain": [
              "<google.colab._quickchart_helpers.SectionTitle at 0x781ce2d60a30>"
            ],
            "text/html": [
              "<h4 class=\"colab-quickchart-section-title\">Distributions</h4>\n",
              "<style>\n",
              "  .colab-quickchart-section-title {\n",
              "      clear: both;\n",
              "  }\n",
              "</style>"
            ]
          },
          "metadata": {}
        },
        {
          "output_type": "display_data",
          "data": {
            "text/plain": [
              "import numpy as np\n",
              "from google.colab import autoviz\n",
              "\n",
              "def histogram(df, colname, num_bins=20, figscale=1):\n",
              "  from matplotlib import pyplot as plt\n",
              "  df[colname].plot(kind='hist', bins=num_bins, title=colname, figsize=(8*figscale, 4*figscale))\n",
              "  plt.gca().spines[['top', 'right',]].set_visible(False)\n",
              "  plt.tight_layout()\n",
              "  return autoviz.MplChart.from_current_mpl_state()\n",
              "\n",
              "chart = histogram(df, *['Unnamed: 0'], **{})\n",
              "chart"
            ],
            "text/html": [
              "      <div class=\"colab-quickchart-chart-with-code\" id=\"chart-ffb5ffdd-5bad-44cb-b28e-58fc7f7cdfb9\">\n",
              "        <img src=\"data:image/png;base64,iVBORw0KGgoAAAANSUhEUgAAAYwAAADECAYAAACMRRb/AAAAOXRFWHRTb2Z0d2FyZQBNYXRwbG90\n",
              "bGliIHZlcnNpb24zLjcuMSwgaHR0cHM6Ly9tYXRwbG90bGliLm9yZy/bCgiHAAAACXBIWXMAAA9h\n",
              "AAAPYQGoP6dpAAAZzklEQVR4nO3de1BU5/0G8GfZxfXGgoIXcIENupCmCisUSvCCTkK9JCNEtGYS\n",
              "I2gdMNGxFmuUGqs/kwFN1UiaOBLT0iitxQRMk1jvGtHWCKhIxFHZIlmw4FpUsFFWWN7fH9YzbkQ8\n",
              "i+Au8Hxmzgz7vufyfT2BJ+e6CiGEABER0SO4OLoAIiLqHBgYREQkCwODiIhkYWAQEZEsDAwiIpKF\n",
              "gUFERLIwMIiISBYGBhERycLAICIiWRgYRJ3Y6NGjsWrVKkeXQd0EA4O6DJ1Oh48//viB9nHjxuGt\n",
              "t95yQEXOqaSkBGPHjkWfPn3g4+ODVatWgW8IIjkYGETdyM2bNzFhwgSMGjUK//nPf7B37158/PHH\n",
              "2Lhxo6NLo06AgUHdSkVFBRQKBT755BOEhITAzc0NkZGROHfunDRPYmIiXn75ZSxYsACenp4YNGgQ\n",
              "VqxYIfU3NDRg+vTpGDJkCNzc3BAUFIQPP/zQZjs6nQ6rVq3ChAkT0LdvX+j1ehw6dAhff/01goOD\n",
              "4ebmhueffx41NTU26/3Nb36DoUOHol+/fhg7dixOnz4t9Tc1NeHNN9/E4MGDMWDAAKSmpto9/ry8\n",
              "PFitVrz99tvo1asXRowYgSVLluCDDz6we13U/TAwqFvatm0b9uzZg6tXr0Kr1eL111+36d+5cydG\n",
              "jx4Ns9mMzz//HGvWrMHhw4cBAEIITJ48GaWlpairq8OGDRuQkpKCvXv32qwjKysL7777Lurq6jBl\n",
              "yhS8+uqreP/993Hw4EH8+9//xq1bt7By5Upp/nnz5qGgoABHjhzB1atX8fOf/xwTJkzAjRs3AADv\n",
              "vvsuduzYgUOHDqGqqgoqlQonTpyw2eYbb7yBF1988aHjLi4uxsiRI6FSqaS28PBwlJeXo76+vk3/\n",
              "ltR9MDCoW/rtb38Lb29v9OzZE7Nnz0ZhYaFN/6hRo/Dyyy9DqVTi2WefhcFgQEFBAQCgV69emD17\n",
              "Njw8PODi4oIXXngBEydOxL59+2zWMXfuXISEhECpVGLWrFmoqanBkiVLMGDAALi5uSE+Pl5aZ21t\n",
              "LT755BN8+OGH0Gq1UKlUWLBgAdzd3fHVV18BuBtAixcvxjPPPAO1Wo1Vq1ahX79+NtvctGmTNH9L\n",
              "6uvr4eHhYdN2bx0MDHoU1aNnIeocXF1d0djY+EB7Y2MjXF1dbdp8fHykn/v06YPbt2+jqalJ+j/v\n",
              "+/vvzXPz5k0AgMViwfLly/HFF1/gypUrUCgUuHXrFmbMmGGzjLe3t83yLbXdW6fRaAQA/PSnP7VZ\n",
              "x507d1BVVQUAqKqqwlNPPSX1KZVK+Pn5PfTfoyUajUZa3z3Xr1+X+ohaw8CgLiMgIABlZWU2bc3N\n",
              "zSgvL8fQoUPbbTsbNmzAl19+iS+//BJ6vR4uLi6IjY19rDuNBg8eDODuHUwPCwGtVouKigrps9Vq\n",
              "RWVlpV3bMRgM+POf/2wTjkVFRQgICGBg0CPxlBR1GXPmzMEf//hHHDhwAE1NTbh58yaWL18uXXNo\n",
              "L3V1dVCr1RgwYACam5vx6aefPnA6yl7+/v6Ii4vD/Pnz8d133wG4e0fT7t27UV1dDQBISEjA+vXr\n",
              "cf78eVgsFqxevRrXrl2zaztTp06FUqnEypUrcfv2bZw9exbr1q3D/PnzH6t+6h4YGNRlzJgxAxkZ\n",
              "GViyZAm8vLyg1+tx9uxZHDhwAP3792+37fz617+Gr68v/P394ePjg4MHDyIuLu6x1/uXv/wFYWFh\n",
              "iImJke6+2rJli3TksnTpUkydOhXR0dHQarW4c+fOA6ew5s2bh0mTJj10G25ubti7dy/y8/Ph6emJ\n",
              "559/HnPmzMGvfvWrx66fuj4Fv9ObiIjk4BEGERHJwsAgIiJZGBhERCQLA4OIiGRhYBARkSwMDCIi\n",
              "koWBQUREsnS5wMjIyHB0CUREXVKXC4x7r1UgIqL21eUCg4iIOgYDg4iIZGFgEBGRLAwMIiKShYFB\n",
              "RESy8Bv37qNbtsvRJRARtUnFmhc6fBs8wiAiIlkYGEREJAsDg4iIZGFgEBGRLAwMIiKShYFBRESy\n",
              "MDCIiEgWBgYREcnCwCAiIlkYGEREJEuHBUZDQwPi4uIQGBiIkJAQxMTEwGg0AgDGjRuHp556CgaD\n",
              "AQaDAe+99560nNlsxsSJE6HX6zF8+HDk5+d3VIlERGSHDn2XVFJSEiZNmgSFQoEPPvgAc+fOxddf\n",
              "fw0AeO+99xAXF/fAMsuWLUNkZCT27NmDwsJCvPTSS7h06RJcXV07slQiInqEDjvC6NmzJyZPngyF\n",
              "QgEAiIyMREVFxSOX27FjB+bNmwcACA8Ph4+PD44cOdJRZRIRkUxP7BpGRkYGYmNjpc/Lli3DiBEj\n",
              "MGPGDJSXlwMAamtr0djYiMGDB0vz6XQ6mEymFtdpsVhQX19vM1mt1o4dCBFRN/VEAiMtLQ1GoxHp\n",
              "6ekAgG3btuH8+fMoKSnBmDFj8OKLL7Zpvenp6XB3d7eZCgoK2rN0IiL6nw4PjHXr1iEvLw+7d+9G\n",
              "7969AQC+vr4AAIVCgQULFqC8vBy1tbXw9PSESqVCTU2NtHxFRQX8/PxaXHdqairq6upspoiIiI4e\n",
              "EhFRt9ShgbFhwwZs374d+/fvh4eHBwCgqakJV65ckebJzc3FoEGD4OnpCQCYPn06Nm/eDAAoLCzE\n",
              "5cuXER0d3eL61Wo1NBqNzaRUKjtySERE3VaH3SVVVVWFxYsXIyAgAOPHjwdw9w/8oUOH8MILL8Bi\n",
              "scDFxQVeXl744osvpOXWrl2L1157DXq9Hj169EB2djbvkCIicgIdFhharRZCiBb7ioqKHrrcoEGD\n",
              "sG/fvo4qi4iI2ohPehMRkSwMDCIikoWBQUREsjAwiIhIFgYGERHJwsAgIiJZGBhERCQLA4OIiGRh\n",
              "YBARkSwMDCIikoWBQUREsjAwiIhIFgYGERHJwsAgIiJZOiwwGhoaEBcXh8DAQISEhCAmJgZGoxEA\n",
              "YDabMXHiROj1egwfPhz5+fnScq31ERGR43ToEUZSUhIuXLiAM2fOIDY2FnPnzgUALFu2DJGRkSgr\n",
              "K0NWVhZeeeUVNDY2PrKPiIgcx+7A2Lt3r6z5evbsicmTJ0OhUAAAIiMjUVFRAQDYsWMH5s2bBwAI\n",
              "Dw+Hj48Pjhw58sg+IiJyHLsDY/Xq1QgKCkJGRgbq6+tlL5eRkYHY2FjU1taisbERgwcPlvp0Oh1M\n",
              "JlOrfS2xWCyor6+3maxWq71DIiIiGewOjH/84x/461//irNnzyIwMBBvvPEGzp071+oyaWlpMBqN\n",
              "SE9Pb3OhLUlPT4e7u7vNVFBQ0K7bICKiu9p0DWPkyJHYsmUL9uzZg6+++grBwcGIiYnBt99++8C8\n",
              "69atQ15eHnbv3o3evXvD09MTKpUKNTU10jwVFRXw8/Nrta8lqampqKurs5kiIiLaMiQiInqENgXG\n",
              "gQMHEBsbi6lTp2L+/PmoqalBcnIyXnrpJZv5NmzYgO3bt2P//v3w8PCQ2qdPn47NmzcDAAoLC3H5\n",
              "8mVER0c/su+H1Go1NBqNzaRUKtsyJCIiegSVvQv86Ec/gpeXFxYuXIipU6dKf6CnTZuGP/zhD9J8\n",
              "VVVVWLx4MQICAjB+/HgAd//AnzhxAmvXrsVrr70GvV6PHj16IDs7G66urgDQah8RETmO3YGRnZ2N\n",
              "sLCwFvt2794t/azVaiGEaHG+QYMGYd++fXb3ERGR49h9SurkyZO4du2a9Lm2thZbtmxp16KIiMj5\n",
              "2B0YmzZtQv/+/aXPnp6e2LRpU7sWRUREzsfuwGjpNBOffSAi6vrsDgxvb2/s2LFD+pyTkwNvb+92\n",
              "LYqIiJyP3Re9N27ciNjYWLz55psAgN69e+Nvf/tbuxdGRETOxe7AePrpp3Hu3DlcuHABABAUFMRn\n",
              "H4iIugG7AwMAFAoFPDw80NTUhMuXLwPAQ5/GJiKirsHuwPjTn/6EhQsXwtXVFS4udy+BKBQKmM3m\n",
              "di+OiIich92B8fbbb6OwsBBBQUEdUQ8RETkpu++S8vLyYlgQEXVDdgdGXFwcNm7cCLPZbPM9FERE\n",
              "1LXZfUpq+fLlAICUlBQoFAoIIaBQKPjwHhFRF2d3YDQ3N3dEHURE5OTa9H0YJ0+exLZt2wAAN27c\n",
              "QHV1dbsWRUREzqdNLx+cM2cOVq1aBeDu22pfeeWVFudduHAhdDodFAoFiouLpXadToegoCAYDAYY\n",
              "DAbk5ORIfWVlZYiKikJgYCDCw8NRWlpqb4lERNQB7A6Mjz76CN988w00Gg0AYOjQobh69WqL806b\n",
              "Ng3Hjh2Dv7//A305OTkoLi5GcXExZsyYIbUnJycjKSkJFy9exNKlS5GYmGhviURE1AHsDgy1Wo1e\n",
              "vXrZtKlULV8KGTt2LLRarex1m81mFBUVYebMmQCA+Ph4VFZWwmg02lsmERG1M7sDY8CAAbh48SIU\n",
              "CgWAu09+t+W1ILNmzcKIESPwi1/8QjpCqayshLe3txRACoUCfn5+MJlMLa7DYrHY3NpbX1/Pu7WI\n",
              "iDqI3YGxceNGvPrqqzh//jx8fX3xu9/9DhkZGXatIz8/HyUlJTh16hS8vLyQkJBgbxkAgPT0dLi7\n",
              "u9tMBQUFbVoXERG1zu7baocNG4YTJ07gwoULEEK06W21945IXF1dsWjRIgQGBgIAfH19UV1djaam\n",
              "JqhUKgghYDKZHnoEk5qaipSUFJu2FStW2DskIiKSwe4jDJPJhKqqKvTp0wd9+/bF5cuXH3rKqCXf\n",
              "f/89bty4IX3evn07Ro4cCQAYOHAgQkNDkZ2dDQDIzc2FVqvFsGHDWlyXWq2GRqOxmfiqdSKijmH3\n",
              "EUZYWJj0hHdDQwNu3boFT0/PFt9Wm5ycjF27dqGmpgYTJkyAm5sb9u3bh/j4eFitVgghEBAQgK1b\n",
              "t0rLZGZmIjExEWlpadBoNMjKynq8ERIRUbuwOzB+eAttXl4ezpw50+K8mZmZLbafPn36oesPCgrC\n",
              "8ePH7S2LiIg6WJue9L7f1KlTsWvXrvaohYiInJjdRxj3v5nWarXixIkTfFstEVE3YHdgeHh4SNcw\n",
              "lEol9Ho93n///Y6ojYiInAjfVktERLI89jUMIiLqHuw+wnBxcZFeC3I/fpESEVHXZndgrF69Grdv\n",
              "38brr78OANi8eTN69eqFRYsWtXdtRETkROwOjJ07d+LkyZPS53feeQdhYWHSV7cSEVHXZPc1jJs3\n",
              "b9o81W02m3Hz5s12LYqIiJyP3UcYixcvRkhICCZPngwA2LNnj/Tte0RE1HXZHRjJyckYNWoUDh8+\n",
              "DABISUnBj3/843YvjIiInIvdgQEAnp6eGDFiBMaNG4empibcuXMHPXr0aO/aiIjIidh9DeOzzz5D\n",
              "ZGQkZs+eDQAoLS1FXFxce9dFREROxu7ASE9Px6lTp+Dh4QEACAkJwXfffdfedRERkZOxOzCUSiU8\n",
              "PT1t2ng6ioio67M7MNzc3HDlyhXpae+DBw+if//+Lc67cOFC6HQ6KBQKFBcXS+1lZWWIiopCYGAg\n",
              "wsPDUVpaKquPiIgcx+7AWLt2LSZNmoTy8nKMHj0as2bNwvr161ucd9q0aTh27Bj8/f1t2pOTk5GU\n",
              "lISLFy9i6dKlSExMlNVHRESOY9ddUs3NzbBarTh8+DD++c9/QgiBqKgo6XrGD40dO/aBNrPZjKKi\n",
              "Iuzbtw8AEB8fjwULFsBoNEKj0Ty072Hf601ERE+GXYHh4uKCpKQknDlzBpMmTWrTBisrK+Ht7Q2V\n",
              "6u6mFQoF/Pz8YDKZ4O7u/tC+lgLDYrHAYrHYtPHlh0REHcPuU1J6vR5Go7EjarFbeno63N3dbaaC\n",
              "ggJHl0VE1CXZ/eDetWvXYDAYEBUVhb59+0rteXl5spb39fVFdXU1mpqaoFKpIISAyWSCn58fNBrN\n",
              "Q/takpqaipSUFJu2FStW2DskIiKSQXZgJCUl4aOPPkJCQgKmTJmCfv36tWmDAwcORGhoKLKzs5GY\n",
              "mIjc3FxotVrplFNrfT+kVquhVqtt2pRKZZvqIiKi1skOjKKiIgBAQkICQkNDcerUqUcuk5ycjF27\n",
              "dqGmpgYTJkyAm5sbjEYjMjMzkZiYiLS0NGg0GmRlZUnLtNZHRESO06Z3SQkhZM2XmZnZYntQUBCO\n",
              "Hz9udx8RETmO7MC4ffs2vv32Wwgh0NDQIP18T3BwcIcUSEREzsGuwJgyZYr0+f6fFQoFysvL27cy\n",
              "IiJyKrIDo6KiogPLICIiZ2f3cxhERNQ9MTCIiEgWBgYREcnCwCAiIlkYGEREJAsDg4iIZGFgEBGR\n",
              "LAwMIiKShYFBRESyMDCIiEgWBgYREcnisMDQ6XQICgqCwWCAwWBATk4OAKCsrAxRUVEIDAxEeHg4\n",
              "SktLHVUiERHdp03fh9FecnJyYDAYbNqSk5ORlJSExMREfPbZZ0hMTERhYaFjCiQiIolTnZIym80o\n",
              "KirCzJkzAQDx8fGorKyE0Wh0cGVEROTQI4xZs2ZBCIGIiAisWbMGlZWV8Pb2hkp1tyyFQgE/Pz+Y\n",
              "TKYWv9fbYrHAYrHYtFmt1idSOxFRd+OwI4z8/HyUlJTg1KlT8PLyQkJCgt3rSE9Ph7u7u81UUFDQ\n",
              "AdUSEZHDAsPPzw8A4OrqikWLFuHo0aPw9fVFdXU1mpqaANz97nCTySTN+0Opqamoq6uzmSIiIp7Y\n",
              "GIiIuhOHBMb333+PGzduSJ+3b9+OkSNHYuDAgQgNDUV2djYAIDc3F1qttsXTUQCgVquh0WhsJqVS\n",
              "+SSGQETU7TjkGsaVK1cQHx8Pq9UKIQQCAgKwdetWAEBmZiYSExORlpYGjUaDrKwsR5RIREQ/4JDA\n",
              "CAgIwOnTp1vsCwoKwvHjx59wRURE9ChOdVstERE5LwYGERHJwsAgIiJZGBhERCQLA4OIiGRhYBAR\n",
              "kSwMDCIikoWBQUREsjAwiIhIFgYGERHJwsAgIiJZGBhERCQLA4OIiGRhYBARkSxOGRhlZWWIiopC\n",
              "YGAgwsPDUVpa6uiSiIi6PacMjOTkZCQlJeHixYtYunQpEhMTHV0SEVG353SBYTabUVRUhJkzZwIA\n",
              "4uPjUVlZCaPR6ODKiIi6N4d8415rKisr4e3tDZXqbmkKhQJ+fn4wmUwPfLe3xWKBxWKxabNarU+s\n",
              "ViKi7sTpAsMe6enp+L//+z+btqeffhopKSl2r8tqtcK7oAARERFQKpXtVaLDWa1WFHBcnQbH1bk4\n",
              "07hSUg62eVl/f3/88pe/fOR8CiGEaPNWOoDZbMawYcNw7do1qFQqCCHg7e2NY8eOyTrCUKvVUKvV\n",
              "dm+3vr4e7u7uqKurg0ajeawxOBOOq3PhuDqXrjquh3G6axgDBw5EaGgosrOzAQC5ubnQarUPhAVw\n",
              "Nxw0Go3N1JawICKiR3PKU1KZmZlITExEWloaNBoNsrKyHF0SEVG355SBERQUhOPHjzu6DCIiuo/T\n",
              "nZJyFLVajZUrV3a5U1ocV+fCcXUuXXVcD+N0F72JiMg58QiDiIhkYWAQEZEsDAwiIpKFgfE/neUN\n",
              "uQsXLoROp4NCoUBxcbHU3lr9be17khoaGhAXF4fAwECEhIQgJiZGen+Y2WzGxIkTodfrMXz4cOTn\n",
              "50vLtbXvSfrZz36G4OBgGAwGjBkzBqdPnwbQ+fcZAGRlZUGhUODzzz8H0Pn3FQDodDoEBQXBYDDA\n",
              "YDAgJycHQNfYX49NkBBCiPHjx4usrCwhhBCffvqp+MlPfuLYgh7iyJEjorKyUvj7+4vTp09L7a3V\n",
              "39a+J+n27dti165dorm5WQghxO9//3sRHR0thBBi9uzZYuXKlUIIIQoKCsSQIUPEnTt3HqvvSbp+\n",
              "/br0c15enggODhZCdP59dunSJfHss8+KyMhIsXPnTiFE599XQogHfrfu6ez7qz0wMIQQV65cEW5u\n",
              "bqKxsVEIIURzc7MYNGiQKCsrc3BlD3f/f9St1d/WPkcrLCwU/v7+Qggh+vTpI6qrq6W+8PBwsX//\n",
              "/sfqc5SsrCwREhLS6feZ1WoVzz33nCgqKhLR0dFSYHSFfdVSYHT2/dVenPLBvSfNnjfkOqPW6nd3\n",
              "d29Tn6PHnZGRgdjYWNTW1qKxsRGDBw+W+nQ6HUwmU5v7HGHWrFk4fPgwAODvf/97p99nGzZswKhR\n",
              "oxAWFia1dZV9BdzdX0IIREREYM2aNZ1+f7UXXsMgp5OWlgaj0Yj09HRHl9Jutm7disrKSrzzzjtY\n",
              "unSpo8t5LGfPnkVubi7eeustR5fSIfLz81FSUoJTp07By8sLCQkJji7JaTAwAPj6+qK6uhpNTU0A\n",
              "ACEETCYT/Pz8HFyZPK3V39Y+R1m3bh3y8vKwe/du9O7dG56enlCpVKipqZHmqaiogJ+fX5v7HCkh\n",
              "IQGHDx+GVqvttPvs6NGjqKiogF6vh06nwzfffIOkpCTs2LGjS+yre9t1dXXFokWLcPTo0S71O/ZY\n",
              "HHQqzOlER0fbXJgKCwtzbEGP8MPzrK3V39a+J239+vUiNDRUXLt2zaY9ISHB5oKoj4+PdEG0rX1P\n",
              "yvXr18Xly5elzzt37hRDhgwRzc3NXWKf3avn3jWMzryvhBDiv//9r81NCuvXrxdjxowRQnSN37HH\n",
              "xcD4n/Pnz4vIyEih1+tFWFiYKCkpcXRJLUpKShJDhgwRSqVSDBw4UAwdOlQI0Xr9be17kiorKwUA\n",
              "ERAQIEJCQkRISIiIiIgQQghRU1MjYmJixLBhw8QzzzwjDh06JC3X1r4npaKiQoSHh4vhw4eL4OBg\n",
              "8dxzz0lB39n32T33B0Zn3ldCCPGvf/1LGAwGMWLECDF8+HAxZcoUcenSJSFE19lfj4PvkiIiIll4\n",
              "DYOIiGRhYBARkSwMDCIikoWBQUREsjAwiIhIFgYGERHJwsAgIiJZGBhERCQLA4OIiGRhYBARkSwM\n",
              "DCIikuX/AVbea3RaFvigAAAAAElFTkSuQmCC\n",
              "\">\n",
              "        \n",
              "      </div>\n",
              "      <script></script>\n",
              "      <script type=\"text/javascript\">\n",
              "        (() => {\n",
              "          const chartElement = document.getElementById(\"chart-ffb5ffdd-5bad-44cb-b28e-58fc7f7cdfb9\");\n",
              "          async function getCodeForChartHandler(event) {\n",
              "            const chartCodeResponse =  await google.colab.kernel.invokeFunction(\n",
              "                'getCodeForChart', [\"chart-ffb5ffdd-5bad-44cb-b28e-58fc7f7cdfb9\"], {});\n",
              "            const responseJson = chartCodeResponse.data['application/json'];\n",
              "            await google.colab.notebook.addCell(responseJson.code, 'code');\n",
              "          }\n",
              "          chartElement.onclick = getCodeForChartHandler;\n",
              "        })();\n",
              "      </script>\n",
              "      <style>\n",
              "        .colab-quickchart-chart-with-code  {\n",
              "            display: block;\n",
              "            float: left;\n",
              "            border: 1px solid transparent;\n",
              "        }\n",
              "\n",
              "        .colab-quickchart-chart-with-code:hover {\n",
              "            cursor: pointer;\n",
              "            border: 1px solid #aaa;\n",
              "        }\n",
              "      </style>"
            ]
          },
          "metadata": {}
        },
        {
          "output_type": "display_data",
          "data": {
            "text/plain": [
              "<google.colab._quickchart_helpers.SectionTitle at 0x781ce2d62170>"
            ],
            "text/html": [
              "<h4 class=\"colab-quickchart-section-title\">Categorical distributions</h4>\n",
              "<style>\n",
              "  .colab-quickchart-section-title {\n",
              "      clear: both;\n",
              "  }\n",
              "</style>"
            ]
          },
          "metadata": {}
        },
        {
          "output_type": "display_data",
          "data": {
            "text/plain": [
              "import numpy as np\n",
              "from google.colab import autoviz\n",
              "\n",
              "def categorical_histogram(df, colname, figscale=1, mpl_palette_name='Dark2'):\n",
              "  from matplotlib import pyplot as plt\n",
              "  import seaborn as sns\n",
              "  df.groupby(colname).size().plot(kind='barh', color=sns.palettes.mpl_palette(mpl_palette_name), figsize=(8*figscale, 4.8*figscale))\n",
              "  plt.gca().spines[['top', 'right',]].set_visible(False)\n",
              "  return autoviz.MplChart.from_current_mpl_state()\n",
              "\n",
              "chart = categorical_histogram(df, *['label'], **{})\n",
              "chart"
            ],
            "text/html": [
              "      <div class=\"colab-quickchart-chart-with-code\" id=\"chart-62b3257f-8eac-4576-9b93-be5d401d8a18\">\n",
              "        <img src=\"data:image/png;base64,iVBORw0KGgoAAAANSUhEUgAAAZ8AAADgCAYAAADc4Ws0AAAAOXRFWHRTb2Z0d2FyZQBNYXRwbG90\n",
              "bGliIHZlcnNpb24zLjcuMSwgaHR0cHM6Ly9tYXRwbG90bGliLm9yZy/bCgiHAAAACXBIWXMAAA9h\n",
              "AAAPYQGoP6dpAAAZCElEQVR4nO3de3BU5f3H8c8mkViBxABeQE2iJsCEkGzuIYVAQBRC1VS5tLYO\n",
              "N0GGwUvRjjL1p0YRVCjUoVVrVWBUxAIaOkZLFYOXQg0gCwVKmnBHQGsSE4SwyYbn94fjjgtJJDF5\n",
              "Ntm8XzM7wz7n9t3n5OyHc9lzHMYYIwAALArydwEAgM6H8AEAWEf4AACsI3wAANYRPgAA6wgfAIB1\n",
              "hA8AwDrCBwBgHeHjZ88884y/SwAA6wgfPzt48KC/SwAA6wgfAIB1hA8AwDrCBwBgHeEDALCO8AEA\n",
              "WEf4AACsI3wAANYRPgAA6wgfAIB1hA8AwLoQfxfQ2Z1cvkXH/77A32UAgI/Ld/+2TefPng8AwDrC\n",
              "BwBgHeEDALCO8AEAWEf4AACsI3wAANYRPgAA6wIyfPLz83XHHXd433/yySdyOBzasGGDt23GjBn6\n",
              "v//7v0bn8Yc//EHHjx9vyzIBoNMKyPDJycnxCZqioiJlZGSc0zZ8+PBG59HS8PF4PM2eBgA6m4AM\n",
              "n8zMTB09elRHjhyRJG3YsEEPP/ywN3yOHTumQ4cOadOmTUpLS5PT6VRaWpo2bdokSXrsscd09OhR\n",
              "TZgwQU6nUy6XS3V1dXrwwQeVnp4up9Op8ePHq7KyUpI0adIkTZkyRdnZ2YqPj/fLZwaAjiQgw6dL\n",
              "ly7KyspSUVGR3G639u/fr9zcXB05ckSnT59WUVGRBg0apGnTpmnz5s1yuVxasmSJJk+eLEl6+OGH\n",
              "1adPH73xxhtyuVxyOp1asGCBunbtquLiYrlcLg0cOFAPPfSQd5lbt25VYWGh9uzZ02hdbrdb1dXV\n",
              "Pq96c6bN+wMA2puAvbfbd4feoqKilJ6eLunbPaJNmzZpw4YNysnJ0bZt2/TEE0+ovLxcISEhKikp\n",
              "UU1NjX7yk5+cM7+CggJVVVVpzZo1kqTa2lpFR0d7h48bN07du3dvsqb58+crPz/fpy3lwsgf+UkB\n",
              "oOMJ6PB56aWXFBkZqWHDhkmShg4dqqKiIhUVFenFF1/UmDFjVFRUpLS0NFVXVys8PFxut7vB8DHG\n",
              "aMmSJbr++usbXF63bt1+sKY5c+Zo9uzZPm2zo3Ob/+EAoIMLyMNukpSWlqYvv/xSr732mk/4rFy5\n",
              "UseOHZPT6VRtba0iI7/d81iyZInP9GFhYaqqqvK+z8vL0+LFi3Xq1ClJ0qlTp7Rr165m1RQaGqqw\n",
              "sDCfV7AjYFcBADQqYL/5LrjgAg0ePFgnTpxQ//79JUl9+/bViRMnNHjwYIWHh2vu3LlKT09XSkqK\n",
              "unTp4jP93XffrWnTpnkvOHjggQeUlpamjIwMJSQkKDMzUy6Xyw+fDAA6Pocxxvi7iM7szp7Zyr/s\n",
              "Rn+XAQA+eJ4PACDgED4AAOsIHwCAdYQPAMA6wgcAYB3hAwCwLmDvcNBRdJ2YqssXte0ljQDQ3rDn\n",
              "AwCwjvABAFhH+AAArCN8AADWET4AAOsIHwCAdYQPAMA6wgcAYB3hAwCwjvABAFhH+AAArCN8AADW\n",
              "ET4AAOsIHwCAdYQPAMA6wgcAYB3hAwCwjvABAFhH+AAArCN8AADWET4AAOsIHwCAdQ5jjPF3EZ1Z\n",
              "anKehg+9w99lAICPpxf/rE3nz54PAMA6wgcAYB3hAwCwjvABAFhH+AAArCN8AADWET4AAOsIHwCA\n",
              "dW0aPnV1dcrPz1f//v01YMAAJSUlKS8vTy6Xqy0XCwBo50LacuaTJ0/WN998o02bNikiIkKS9P77\n",
              "76ukpEROp9Nn3Pr6egUHB7dlOc3m8XgUEtKmXQQAnVKb7fmUlpbqrbfe0ssvv+wNHkm67rrrNGHC\n",
              "BC1btkw5OTm69dZbNXDgQBUXF2vz5s0aPny4UlNTlZSUpFWrVnmnW7dunQYPHqyUlBSlp6erqKhI\n",
              "krRhwwbFx8dr5syZSkxM1IABA7Rly5Yma1u/fr0GDRqkpKQkDRgwQC+99JJ32KRJkzRlyhRlZ2cr\n",
              "Pj5ekvTKK68oIyNDycnJys7O1vbt2yVJ//73vzV48GAlJycrLi5Oc+fObXK5brdb1dXVPi9z5kzz\n",
              "OhYAAkCb/bd+27ZtiomJUY8ePRod59NPP9W2bdvUr18/ff3118rJydE777yj3r1766uvvlJycrKy\n",
              "srLkdrv16KOPat26dQoLC1NZWZmGDBmiAwcOSJL27Nmjl156Sc8++6yef/55/e53v9O6desaXW5y\n",
              "crI++eQTBQcHq6KiQklJSbrhhht05ZVXSpK2bt2qTz75RN27d9c///lPvf766/roo48UGhqqjz/+\n",
              "WLfddpt27dql6OhorV+/XqGhoaqpqVFWVpauu+46ZWZmNrjc+fPnKz8/36et9+X9mtmzANDxWTum\n",
              "tHfvXt16663eL+mhQ4cqKytL/fp9++W7ceNG7du3T6NHj/aZrqSkRHv27FFZWZmys7O97UFBQTp0\n",
              "6JAkKSYmRhkZGZKkQYMGaeHChU3WUl5erqlTp+q///2vQkJCVF5erp07d3rDZ9y4cerevbskae3a\n",
              "tdq+fbt3/pJUUVGhmpoa1dTUaObMmXK5XAoKCtLhw4flcrkaDZ85c+Zo9uzZPm052b/+wb4DgEDT\n",
              "ZuGTlJSksrIyVVZWKiIiQtdee61cLpeWLVumgoICSVK3bt284xtjNGDAAG3cuPGcef3nP//RyJEj\n",
              "tWLFinOGff7557rwwgu974ODg+XxeJqsbcaMGcrNzdWaNWvkcDiUnJys06dPe4efXdfEiRM1b968\n",
              "c+Zz1113qVevXtq2bZtCQkJ0yy23+MznbKGhoQoNDfVpcwRxwSGAzqfNvvliY2N18803a+rUqfr6\n",
              "66+97SdPnmxw/KysLO3fv1/vv/++t83lcqm2tlY33HCD3n//fe3YscM7rLi4uMW1VVZWKioqSg6H\n",
              "Qx999JH3HE5DbrrpJr366qvevawzZ854zylVVlbqyiuvVEhIiEpKSvTee++1uCYA6Eza9LDbsmXL\n",
              "9MQTTygjI0MhISGKiIjQJZdcogceeEAlJSU+40ZERKiwsFD333+/7rvvPtXV1SkyMlIFBQWKiYnR\n",
              "ihUrdOedd+rUqVOqra1VUlJSg3tC5+PJJ5/UzJkz9fjjj8vpdPocUjvbkCFD9PTTT+vnP/+5PB6P\n",
              "amtrNWbMGKWmpuqhhx7S7bffruXLl+vaa6/V8OHDW1QPAHQ2PEzOz3iYHID2iIfJAQACTsD+gtLl\n",
              "cmnSpEnntE+cOFG/+c1v7BcEAPAK2PBxOp3cxgcA2ikOuwEArCN8AADWBexht44ie9g1enpR215V\n",
              "AgDtDXs+AADrznvPJyIiQg6H45x2Y4wcDocqKipatTAAQOA67/DhyjEAQGs57/CJiory/vvYsWMq\n",
              "KSnRsGHD5PF4dIZn0gAAmqHZ53xWr16tzMxM7w84d+3apby8vFYuCwAQyJodPvPnz9dnn33mfTpp\n",
              "YmKiDh482OqFAQACV7PDJzg4WD179vRp69KlS6sVBAAIfM0On+7du+uLL77wXvm2fv36Jh+VDQDA\n",
              "2Zr9I9OnnnpKo0eP1r59+zR48GDt379fhYWFbVEbACBANTt8UlNTVVRUpI0bN8oYo6ysLF188cVt\n",
              "UBoAIFC16A4HVVVVKi8vV2VlpU6cONHaNQEAAlyzw2fFihVKSkrSm2++qdWrVys5OVkrV65si9oA\n",
              "AAGq2YfdHnvsMW3ZskVXX321JOnAgQMaNWqUfvGLX7R6cQCAwNTsPZ+LLrrIGzySFB0drYsuuqhV\n",
              "iwIABLbzDp/q6mpVV1drzJgxevTRR3XkyBEdPnxYjz32mG688ca2rBEAEGAcxhhzPiMGBQXJ4XCo\n",
              "odEdDofq6+tbvbjOYPbs2Vq0aJG/ywAAq877nA83DwUAtBYeJgcAsK7Z4VNaWqrRo0erT58+6tGj\n",
              "h/cFAMD5anb4TJs2TZMmTVJERIQ+/PBDjR07Vvfff39b1AYACFDNDp/q6mpNmDBBQUFBGjhwoP78\n",
              "5z+roKCgDUoDAASqZofPBRdcIOnbu1sfOHBAbrdbX331VasXBgAIXM2+w0F2drbKy8s1a9YspaSk\n",
              "qEuXLtzd4EeoXLdY/530jL/LADqVvsv4aYi/nffvfBpy+PBhVVVVKT4+vjVr6lQmD3BoThoXHQI2\n",
              "ET7+d957PtXV1ee0hYeHKzw8XNXV1QoLC2vVwgAAgeu8w+fiiy8+5w4H373nDgcAgObgDgcAAOs4\n",
              "2QAAsI7wAQBYR/gAAKwjfAAA1gVM+ERHR6tfv35KTExUTEyMbr75Zm3cuNHKsl0ul1auXGllWQAQ\n",
              "CAImfCTpjTfe0Pbt21VWVqaJEycqNzdXn376aZsu0+PxED4A0EwBFT7fd8stt2jGjBlauHCh6urq\n",
              "9OCDDyo9PV1Op1Pjx49XZWWlJOnFF19UXFycnE6nBg4c6A2r0tJSjRkzRmlpaUpISNAf//hH77wd\n",
              "DoceeeQRpaWladq0aXr44YdVVFQkp9OpGTNmNFqT2+32Po78u1c9V7AD6ISafW+3jiQjI0N/+9vf\n",
              "tGDBAnXt2lXFxcWSpMcff1wPPfSQ/vSnP+m+++7Tnj171Lt3b9XV1cntdqu+vl6//OUv9eqrr6p/\n",
              "//46deqUMjMzlZGRobS0NElScHCwNm/eLElatmyZCgoKfvDu3vPnz1d+fr5PW2Kv1v/cANDeBXT4\n",
              "fHc3hoKCAlVVVWnNmjWSpNraWkVHR0uSRowYodtvv1033nijRo8erb59+2r37t3atWuXzw1TT5w4\n",
              "od27d3vDZ8qUKc2uZ86cOZo9e7ZP26yM8JZ8NADo0AI6fDZv3qz4+Hjt379fS5Ys0fXXX3/OOGvW\n",
              "rNHWrVu1YcMG5ebmau7cuRo4cKB69Oghl8vV6Ly7devW7HpCQ0MVGhrq0xYcsAc+AaBxAfvVt3bt\n",
              "Wj333HO67777lJeXp8WLF+vUqVOSpFOnTmnXrl3yeDzau3evUlNTdf/992vs2LEqLi5Wv379FBYW\n",
              "pqVLl3rnV1ZWpoqKigaXFRYWpqqqKiufCwACQUDt+UyYMEEXXnihTp48qbi4OL3zzjvKyMhQSkqK\n",
              "3G63MjIy5HA4JEkPPPCAYmJiNGXKFFVUVCgkJESXXHKJli5dqpCQEL399tu69957tXjxYtXX16tX\n",
              "r15asWJFg8sdMWKEFi5cqISEBGVlZen555+3+bEBoMP5Uc/zwY/H83wA+3iej//xrQcAsI7wAQBY\n",
              "R/gAAKwjfAAA1hE+AADrCB8AgHUB9Tufjijiht+o76JF/i4DAKxizwcAYB3hAwCwjvABAFhH+AAA\n",
              "rCN8AADWET4AAOsIHwCAdYQPAMA6wgcAYB3hAwCwjvABAFhH+AAArCN8AADWET4AAOsIHwCAdYQP\n",
              "AMA6wgcAYB3hAwCwjvABAFhH+AAArCN8AADWET4AAOscxhjj7yI6s243pOniX4zwdxkA4OPI5Cfb\n",
              "dP7s+QAArCN8AADWET4AAOsIHwCAdYQPAMA6wgcAYB3hAwCwLiDCx+PxKD8/X/3791d8fLycTqem\n",
              "T5+ugoICOZ3OVl3Wzp07FR0d3arzBIDOJsTfBbSGqVOnqqKiQps2bVJERISMMVq9erUqKir8XRoA\n",
              "oAEdfs+nrKxMq1at0tKlSxURESFJcjgcGjdunK655hqfcV955RUlJCQoISFBY8aM0eeffy5JWrZs\n",
              "mfLy8rzjvf322xo2bJj3/aOPPqrY2FilpKRo5cqV3vZZs2Zp3rx53vclJSW66qqr5PF4GqzV7Xar\n",
              "urra56V6bjABoPPp8OHz2WefKTY2Vr169WpyvJ07d+q3v/2t3n33Xe3YsUNZWVm64447fnD+hYWF\n",
              "WrVqlbZu3aotW7bowIED3mF33XWXXnjhBdXX10uSnn32WU2fPl0hIQ3vUM6fP1/h4eE+r9r9x87/\n",
              "wwJAgOjw4XO+ioqKNGrUKF1xxRWSpJkzZ+qDDz7wBkdj1q9fr/HjxyssLEwOh0N33nmnd1i/fv0U\n",
              "FxentWvX6uTJk3r99dc1ffr0Ruc1Z84cVVVV+by6XN27dT4gAHQgHf6cT3JyskpLS1VeXq6ePXue\n",
              "93QOh8P775CQEJ8QOn369HlNJ0n33HOPnnrqKf3vf//TyJEjddlllzU6bWhoqEJDQ30bgx0NjwwA\n",
              "AazD7/nExMTo1ltv1dSpU/X1119LkowxWrNmjfbt2+cdLycnR3//+9919OhRSdLzzz+vESNGKDg4\n",
              "WDExMdqxY4dqamrk8Xi0YsUK73TXXXedVq1apRMnTsgYoxdeeMFn+ddff72OHz+uuXPnatasWW3/\n",
              "gQEgAHT48JGkl19+WYmJicrIyNCAAQMUFxenf/zjH+rRo4d3nPj4eC1YsECjRo1SQkKCPv74Y/3l\n",
              "L3+RJGVmZio3N1fx8fEaNmyYYmNjvdPl5uZq7NixSk5OVmpqqiIjI32W7XA4NHXqVF166aUaNGiQ\n",
              "nQ8MAB0cz/NpBT/72c80YcIE3X777c2eluf5AGiPeJ5PO7ZlyxbFxMQoKChIt912m7/LAYAOo8Nf\n",
              "cOBPqampKisr83cZANDhsOcDALCO8AEAWEf4AACsI3wAANZxwYGfTR8wRIva+JJGAGhv2PMBAFhH\n",
              "+AAArCN8AADWET4AAOsIHwCAdYQPAMA6wgcAYB3hAwCwjvABAFhH+AAArOP2On7kdrv17rvvqr6+\n",
              "XsHBwf4ux0d9fb2Ki4uVnp5Obc3UnuujtpZrz/W1t9qioqJ0zz33NDkOj9H2o+rqaoWHh6uqqkph\n",
              "YWH+LscHtbVce66P2lquPdfXnmtrDIfdAADWET4AAOsIHwCAdYSPH4WGhuqRRx5RaGiov0s5B7W1\n",
              "XHuuj9parj3X155rawwXHAAArGPPBwBgHeEDALCO8AEAWEf4AACsI3z8pLS0VFlZWerbt6/S0tK0\n",
              "a9cua8s+ffq08vLy1LdvXyUmJmrkyJEqKyuTJH355ZcaNWqUYmNjFR8fr48++sg7XVPD2sLSpUvl\n",
              "cDhUUFDQrmpzu92aNWuWYmNjNXDgQP3617+W1PQ6tbW+33nnHSUnJ8vpdCo+Pl7Lly+X5L++u/vu\n",
              "uxUdHS2HwyGXy+Vtb2lftWY/NlRbU9uGZK8fG+u375y9bdisrdUY+EVOTo5ZunSpMcaYVatWmdTU\n",
              "VGvLrqmpMYWFhebMmTPGGGOWLFlihg4daowxZvLkyeaRRx4xxhhTXFxsrrjiClNbW/uDw1rb/v37\n",
              "zaBBg0xmZqZ566232lVt9957r5k1a5a3/44dO2aMaXqd2ljfZ86cMREREWb79u3GmG/7MDQ01FRX\n",
              "V/ut7z788ENz+PBhExUVZbZt2+Ztb2lftWY/NlRbU9uGMfb+BhvrN2Ma3jZs1tZaCB8/+OKLL0z3\n",
              "7t1NXV2dMebbL43LLrvMlJaW+qWezZs3m6ioKGOMMV27dvV+mRpjTFpamnnvvfd+cFhrqq+vNyNG\n",
              "jDBbtmwxQ4cO9W5g7aG2b775xnTv3t1UVVX5tDe1Tm2t7zNnzpgePXqYDz/80BhjzPbt202fPn2M\n",
              "2+32e999/0u0pX3VVv3Y0Bf8d76/bRhj/2/w7Noa2zb8UduPxWE3Pzh8+LB69+6tkJBvbyrucDgU\n",
              "GRmpQ4cO+aWeZ555RjfffLPKy8tVV1enyy+/3DssOjpahw4danJYa1u0aJF++tOfKiUlxdvWXmrb\n",
              "u3evevTooXnz5ik1NVVDhgzR+vXrm1yntta3w+HQG2+8oVtuuUVRUVEaPHiwli9frhMnTrSLvvtO\n",
              "S/vKH9vNd9uG1D7+BhvaNtpLbc3FIxU6uXnz5qmsrEzr169XTU2Nv8vRzp07tWbNmvZxTLoBHo9H\n",
              "Bw8eVFxcnJ588klt27ZNI0eOVGFhob9Lk8fj0dy5c/Xmm28qOztbmzdv1k033dTgOQP8sO9vG+1B\n",
              "e982mos9Hz+46qqrdOzYMXk8HkmSMUaHDh1SZGSk1ToWLlyoN998U++++64uuugi9ezZUyEhITp+\n",
              "/Lh3nAMHDigyMrLJYa3p448/1oEDBxQbG6vo6Gj961//0vTp0/XXv/7V77VJUmRkpIKCgvSrX/1K\n",
              "kpSUlKSrr75aBw8ebHSd2lrfLpdLR48eVXZ2tiQpLS1NV155pXbs2NEu+u47TfVHS4e1trO3DUl+\n",
              "3z4a2zaee+45v9fWIv485teZDR061OfEaUpKitXl//73vzfJycmmoqLCp33ixIk+Jyb79OnjPTHZ\n",
              "1LC28v3j2u2ltpEjR5rCwkJjjDH79u0zPXv2NEeOHGlyndpY38ePHzfdunUzu3fvNsYYU1paaiIi\n",
              "IszBgwf93ndnn7toaV+1RT+eXVtj24Yx9v8GmzofdfY5H3+v4+YifPxkz549JjMz08TGxpqUlBSz\n",
              "Y8cOa8s+fPiwkWSuueYak5iYaBITE016erox5tsvsJEjR5qYmBgTFxdnPvjgA+90TQ1rK9/fwNpL\n",
              "bXv37jXDhg0z8fHxJiEhwaxevdoY0/Q6tbW+V6xY4a0rPj7evPbaa8YY//Xd9OnTzRVXXGGCg4PN\n",
              "pZdeaq699lpjTMv7qjX7saHamto2jLHXj4312/edHT7tZfs4X9xYFABgHed8AADWET4AAOsIHwCA\n",
              "dYQPAMA6wgcAYB3hAwCwjvABAFhH+AAArCN8AADWET4AAOv+H4E5h9TOkiqhAAAAAElFTkSuQmCC\n",
              "\">\n",
              "        \n",
              "      </div>\n",
              "      <script></script>\n",
              "      <script type=\"text/javascript\">\n",
              "        (() => {\n",
              "          const chartElement = document.getElementById(\"chart-62b3257f-8eac-4576-9b93-be5d401d8a18\");\n",
              "          async function getCodeForChartHandler(event) {\n",
              "            const chartCodeResponse =  await google.colab.kernel.invokeFunction(\n",
              "                'getCodeForChart', [\"chart-62b3257f-8eac-4576-9b93-be5d401d8a18\"], {});\n",
              "            const responseJson = chartCodeResponse.data['application/json'];\n",
              "            await google.colab.notebook.addCell(responseJson.code, 'code');\n",
              "          }\n",
              "          chartElement.onclick = getCodeForChartHandler;\n",
              "        })();\n",
              "      </script>\n",
              "      <style>\n",
              "        .colab-quickchart-chart-with-code  {\n",
              "            display: block;\n",
              "            float: left;\n",
              "            border: 1px solid transparent;\n",
              "        }\n",
              "\n",
              "        .colab-quickchart-chart-with-code:hover {\n",
              "            cursor: pointer;\n",
              "            border: 1px solid #aaa;\n",
              "        }\n",
              "      </style>"
            ]
          },
          "metadata": {}
        },
        {
          "output_type": "display_data",
          "data": {
            "text/plain": [
              "<google.colab._quickchart_helpers.SectionTitle at 0x781ce2ca72e0>"
            ],
            "text/html": [
              "<h4 class=\"colab-quickchart-section-title\">Faceted distributions</h4>\n",
              "<style>\n",
              "  .colab-quickchart-section-title {\n",
              "      clear: both;\n",
              "  }\n",
              "</style>"
            ]
          },
          "metadata": {}
        },
        {
          "output_type": "display_data",
          "data": {
            "text/plain": [
              "import numpy as np\n",
              "from google.colab import autoviz\n",
              "\n",
              "def violin_plot(df, value_colname, facet_colname, figscale=1, mpl_palette_name='Dark2', **kwargs):\n",
              "  from matplotlib import pyplot as plt\n",
              "  import seaborn as sns\n",
              "  figsize = (12 * figscale, 1.2 * figscale * len(df[facet_colname].unique()))\n",
              "  plt.figure(figsize=figsize)\n",
              "  sns.violinplot(df, x=value_colname, y=facet_colname, palette=mpl_palette_name, **kwargs)\n",
              "  sns.despine(top=True, right=True, bottom=True, left=True)\n",
              "  return autoviz.MplChart.from_current_mpl_state()\n",
              "\n",
              "chart = violin_plot(df, *['Unnamed: 0', 'label'], **{'inner': 'box'})\n",
              "chart"
            ],
            "text/html": [
              "      <div class=\"colab-quickchart-chart-with-code\" id=\"chart-64c462fd-b77a-4b06-ae4b-3b06fd083859\">\n",
              "        <img src=\"data:image/png;base64,iVBORw0KGgoAAAANSUhEUgAAAj8AAADrCAYAAACGnPcnAAAAOXRFWHRTb2Z0d2FyZQBNYXRwbG90\n",
              "bGliIHZlcnNpb24zLjcuMSwgaHR0cHM6Ly9tYXRwbG90bGliLm9yZy/bCgiHAAAACXBIWXMAAA9h\n",
              "AAAPYQGoP6dpAAA950lEQVR4nO3deWAU9f3/8efsbrK5Q8J9JkAIyBEOuREREUGwIv15QKygYr2q\n",
              "LUUrHoigKF5fL9BaawFbDVIvwEK9EERFQJBwGiCQAAIScick2XN+f0S3RKICZrNJ9vVo02Zndmfe\n",
              "O0w2r3zmM5+PYZqmiYiIiEiQsAS6ABEREZHapPAjIiIiQUXhR0RERIKKwo+IiIgEFYUfERERCSoK\n",
              "PyIiIhJUFH5EREQkqCj8iIiISFBR+BEREZGgovAjIiIiQUXhR0RERIKKwo+IiIgEFYUfERERCSoK\n",
              "PyIiIhJUFH5EREQkqCj8iIiISFCxBboAqf+8Xi/FxcWUlJRQXl6Ow+HA5XLh8Xjwer2YponX6w10\n",
              "mbXGMAzfl9VqxWazYbPZCAsLIzIykpiYGCIiIjAMI9CliogEJYUfOSNlZWVs3ryZ9PR0MjMzOXjw\n",
              "IDk5OXg8nkCXVq+EhYXRsmVL2rdvT5cuXejTpw9du3bFYlFjrIiIvxmmaZqBLkLqNtM02bRpE+++\n",
              "+y6ff/45Tqez+ufZrJg2C1gtYDEwLQZggMFJ/x8EzO//xwRME8M0weMFjxfD7cHwVP8j17hxY0aP\n",
              "Hs348eNp06ZNbVYsIhJUFH7kZ23evJkXXniBXbt2+ZZ5I+14msfiiY/CGxOOGWnHDAsBtVqcHrcH\n",
              "o9yJpbQCS1EZ1txSrDlFGK7K1jOL1croUaO4+eabad68eYCLFRFpeBR+pFr5+fn83//9H6tWrQLA\n",
              "tFpwtW+Ku0NzvI0iQP1VapbHi/W7QkIyv8P2XRFQeWnsxhtvZOLEiVit1gAXKCLScCj8yCk+++wz\n",
              "HnnkEQoLCzENcHVsjqtbG8yw0ECXFhQseaXY07Ox5pYA0KNHD2bPnk2rVq0CXJmISMOg8CM+breb\n",
              "+fPn88YbbwDgiY3AMSAJb1xkgCsLQqaJLes49vRsDJeHqKgoHnjgAYYNGxboykRE6j2FHwEgNzeX\n",
              "+++/n61btwLgTG6JM6VdZedlCRjjRAVhX+7FmlcKwO9+9ztuueUWbDbdqCkicrYUfoT09HRmzJhB\n",
              "bm4uZoiVigFJeFrHB7os+YHXS+i2g4TuPgpA3759efjhh4mLiwtwYSIi9ZPCTxDzer0sXryYF198\n",
              "EY/HgycmnIrzOmNGhwe6NKmG9VAeYRszMdxemjVrxpw5c0hJSQl0WSIi9Y7CT5DKzc3l0UcfZd26\n",
              "dQC42jXG0bcjhOiuorrMUlRG2Be7sZRUYLFamHLDFCZPnqzLYCIiZ0DhJ8h4PB7ee+89XnjhBUpK\n",
              "SjAtBo7eibg7Nvff7eteE6Pc4Z9t10FmuB0sfhwKwOXBvmk/IQdzAUhOTubuu++me/fu/tuniEgD\n",
              "0iDCj9vt5pFHHmHx4sW+eZT69+/PmDFjmDVrFunp6TW2rx07dnDppZeSnZ1dY9usDW63mzVr1rBw\n",
              "4UL27dsHgCcuEkf/pMpxe/zIOFFB5H+2+HUfdcmJS3tjRob5dyemie1ALvYt2RhONwDDhw9n8uTJ\n",
              "dOnSxb/7FhGp5xpEW/mUKVPIz8/nyy+/JC4uDtM0eeutt8jPzw90aQFVVlbG9u3bWbduHatWrSI3\n",
              "t7KlwAyx4uzeFldSi8oWih+mX/AXd/BMagpUvl+3H+c6s1rAMHAnNsXTIpbQrQexZR9n9erVrF69\n",
              "mi5dunDhhRfSv39/kpKSdElMRORH6n3LT2ZmJikpKRw8eJAmTZpUWbdmzRqmTp3qa/n517/+xZNP\n",
              "PglA27Ztefnll2ndujWLFi1i6dKlLF26FID//Oc/PPXUU6xZswaAWbNm8frrrxMTE8Mll1zCa6+9\n",
              "RnZ2NrfffjutWrXivvvuA2D37t1cdNFFZGVlVfsLx+Fw4HBUvfxjt9ux2+01djw2bNjA4sWL+fbb\n",
              "bzl8+DAn//N6w0Jwd2yOM7klhJ5Un9tD1Nsba6yGumDcuHGkpqaSlpbG8uXLqeeneRWl/68/2Kr2\n",
              "zbIUlRHyzWFsh/IwvP97r6GhoSQmJpKYmMjtt99Os2bNartcEZE6p94P4vL111/TqVOnU4LPj+3Y\n",
              "sYO//OUv/Pe//2Xbtm0MHjyYG2+88Re3v2LFCt588002b97Mpk2bqlzuuuOOO3j55Zd9M5q/+OKL\n",
              "3HTTTT/5l/bcuXOJjY2t8jV37tzTf7On4ZVXXmH9+vV8++23vl/43kg75UOSKbu0D87ubasGnwYq\n",
              "NTWVhIQEUlNTG1Tw+Sne2AgcAztx4jfn4khp51vudDrZs2cPH374IR9++GEAKxQRqTsa/m/B761e\n",
              "vZrRo0fTunVrAG677TYeeughX3D5KatWreKqq64iJiYGgJtvvpnPP/8cgM6dO9O1a1eWLVvGqFGj\n",
              "WLx4Mdu3b//Jbd17771MmzatyrKabPUBSElJOaUGywkH9k37cSc0xZXU/NRb2a2WytYEPzFOOIh8\n",
              "f6vftl+dtLQ0X8uPYRi1GoBOjO6JGVmz/65VVDfwpGliPVZESOZ3WI8WVvuyzp07+68mEZF6pN6H\n",
              "nz59+rB3717y8vJo3Ljxab/OOOnOJpvNViUEVVRUnNbrAP70pz/x+OOPc/z4cUaOHPmzs3DX9CWu\n",
              "6txxxx2kpqZy6NAhMjMz2bp1Kxs2bKC4uJjQPUcJ2XsUd0JTnD3aYkZ8X4thnHIZpUbZar+Bcfny\n",
              "5SxbtqzWgw9Q+X79eTx/xJJThH3rQaz5pb5lCQkJ9O/fn27dutGhQwdat25NZKSmKRERgQbQ5wfg\n",
              "2muvpaSkhEWLFtGoUSNM0+Sdd96hqKiI559/nvT0dHbs2MFFF13E119/TatWrXjsscdYu3YtK1eu\n",
              "ZP369Vx99dVkZGQQEhLCVVddRX5+PmvWrGHlypXcfffdfPnll0RFRTF58mTWrl3ru/xlmibdunWj\n",
              "pKSEf//73wwaNCiwB6MabrebDRs28Oabb7J+/XoATJsFZ/d2uJJb+H+G9gDc6m6UOzFOODAj7Zjh\n",
              "tTshq99vdf+Bw4X962zfLe92u53f/OY3XH755SQlJfl//yIi9VS9b/kBWLBgAXPmzGHAgAHYbDa8\n",
              "Xi/nn38+l1xyie853bt358knn2T06NFAZYfnv//97wAMHDiQMWPG0L17d1q2bMmQIUPYsGEDAGPG\n",
              "jGHjxo306dPH1+H5ZIZhMGXKFNLS0upk8IHKlq0hQ4YwZMgQdu7cybPPPsv27duxp2djO5xPxcCk\n",
              "/7UC+YPF8P+t3z9iRobBz3cDq9esRwuxb8zEUuHCMAwuv/xybrzxxjNq/RQRCVYNouUn0C699FKu\n",
              "vvpqrr322kCXclq8Xi/Lli3j+eefp7y8HDPURsXAJDwtNVdUnec1Cd1xiNBvDgOQmJjIzJkz6dq1\n",
              "a4ALExGpP+r93V6BtGnTJpKSkrBYLKSmpga6nNNmsVgYP348//znP+nSpQuG00342gxCdhyqHPNH\n",
              "6iaHi7C13/iCz29/+1sWLVqk4CMicobU8hPknE4nzzzzDO+++y4A7paNqBjYKShuh69PLPmllXN6\n",
              "lTkJDw/nvvvuY+TIkYEuS0SkXlL4EaByYMfHn3gCl9OJN9JOxeBkvPFRgS5LTBNb5jHs6dkYXpO2\n",
              "bdvy2GOP0bFjx0BXJiJSbyn8iM/u3bu59957OXLkCKbFqJwCo3Or2rlzSU5hVDixb9qP7XABAMOG\n",
              "DWPGjBlER0cHuDIRkfpN4UeqKC4uZu7cuaxevRoAT3wkjj4d8DZWK1CtMU1sWTnYtx7EcLqx2Wz8\n",
              "4Q9/YMKECaeMMyUiImdO4UdOYZomK1as4Nlnn6W0tHLgPHebeJxdWuONj/T/uEDByuPFdjifkF2H\n",
              "sRaVAdCpUyceeOABkpOTA1yciEjDofAjPyk3N5cXX3yRlStX+pZ5YiNwt43H0yy2sk9QdVMtyOlz\n",
              "uLDmlmA7Woj123wsDhcAkZGR3HjjjVx55ZWalV1EpIYp/Mgv2rdvH//6179YtWoVLpfLt9w0KgcT\n",
              "9EbaMcNCMENsEGLBtFrAYqlsITIM+HFDkXHKN/WYWe23lY/Nyi+vWTnTuseL4fJgOFwY5S6MExVY\n",
              "KlxVXtK4cWPGjx9fZT45ERGpWQo/ctqKior49NNP+eKLL9i2bRsFBQWBLqlBSEhIoE+fPgwdOpT+\n",
              "/furpUdExM8UfuSsmKZJbm4uBw8e5NixYxQUFFBSUkJ5eTkOhwOXy4XH48Hr9WKaJl6vN9Al1xrD\n",
              "MHxfVqsVm81GSEgIdrudiIgIYmNjady4MS1btiQhIUETjoqI1DKFHxEREQkq6q0qIiIiQUXhR0RE\n",
              "RIKKwo+IiIgEFYUfERERCSoKPyIiIhJUFH5EREQkqCj8iIiISFBR+BEREZGgovAjIiIiQUXhR0RE\n",
              "RIKKZlAUaYCcTif79+/n4MGDHD9+nOLiYsrLy3G5XLjdbjwej++5dXmGG8MwALBarVitVkJCQggP\n",
              "Dyc6OpomTZrQtm1bkpKSCAsLC3ClIlKfKPyINBBut5vVq1ezcuVKNm/ejNPpDHRJtcJms9GrVy9G\n",
              "jx7NxRdfTGhoaKBLEpE6ThObijQA69ev5//+7/84dOiQb1mE1UNzu5vYEA/hVi92q4nNMLEaYHz/\n",
              "HMP434+/Qd1hnvSNiYEJeEzwmAYOr0G5x0KRy0qOw0ap2+p7XbNmzfjTn/7EhRde6Gs1EhH5MYUf\n",
              "kXrM7XYzb948lixZAkCk1cOA+DJSYstpZnfT0H//mybkOa1sLwpnfX4kxd8HoTFjxnD33XfrcpiI\n",
              "VEvhR6Seqqio4P777+eLL74AYHDjUi5uVoLdGpw/0i4vrDkezerjUZgY9OzZk6eeeoro6OhAlyYi\n",
              "dYzCj0g95HK5mD59OuvWrcNmmExoW0C3mIpAl1Un7CsN5bWD8VR4LfTo0YPnnnuOiIiIQJclInWI\n",
              "bnUXqWdM02Tu3LmsW7eOEMPk+sQ8BZ+TdIxy8vv2uYRbvWzfvp0HHnigyt1tIiIKPyL1zGuvvcbK\n",
              "lSuxYHJNu3w6RAbHXV1nolW4m+sS8rAZJl988QXz588PdEkiUoco/IjUIxs2bOCvf/0rAJe2LKJz\n",
              "tCPAFdVd7SJcXNWmAIDFixfz0UcfBbgiEakr1OdHpJ7Iyclh0qRJFBYW0jfuBL9tVdTg7+aqCR98\n",
              "F82a3GjCw8NZsGAB7du3D3RJIhJgavkRqQfcbjf3338/hYWFtApzcllLBZ/TNbJ5CR0jHZSXl3Pf\n",
              "ffdRXl4e6JJEJMAUfkTqgfnz57N9+3bCLF6uaVdAiH5yT5vFgAltC4ixecjKymLu3Ll1ekoPEfE/\n",
              "fYSK1HHvv/8+b7zxBgBXtikkPlR3Lp2pKJuXiW0LsGDy4Ycf+o6niAQnhR+ROmz79u08+ugjAFzQ\n",
              "tISuuqX9rCVGOhnTshiAefPm+QaHFJHgo/AjUkdlZmYybdo0nE4XXaPLGdmsJNAl1XuD40/QN+4E\n",
              "Xq+X++67j61btwa6JBEJAN3tJVIH7dq1iz//+c8UFRXRNtzJlMS8Gpm2wmNCscv6y0+sY2JCPFhr\n",
              "qIO32wv/OhjPntIwwsPDeeKJJ+jXr1/NbFxE6oUGE34SExOx2+2EhYVx4sQJunXrxvTp0xk8eLDf\n",
              "952enk5GRgYTJkzw+76kYTNNk2XLlvH000/jdDppE+7k+oQ8Imw182Na4LTyxJ7mNbKt2nR38jHi\n",
              "arCvk9Nr8K8D8WSesGO1WLj1ttuYOHEiVmv9C4YicuYa1GWvJUuWsHXrVjIzM5k8eTJjxoxhw4YN\n",
              "ft2n2+0mPT1dHSjlV/F4PKxbt46bbrqJxx57DKfTSefoCqYkVgYf06z8hV0TX/VRTb33H/7UC7WY\n",
              "TErIo1dsGR6vl/nz53PdddfxySef4Ha7A/tmRcTvGlTLz9KlS+nVq5dv2T333MO+fftIS0vjgQce\n",
              "4JNPPsHpdJKcnMzf/vY34uLieOWVV3j66acJDQ3F4/HwyiuvMGDAAPbu3cvUqVPJycnB4XBw0003\n",
              "cfvttwNgGAYzZ85k5cqVdO/enVWrVlFUVET79u0ZOHAgL730UrU1OhwOHI6qI/La7XbsdrvfjovU\n",
              "bdu2bWPJkiVs3ryZwsJCAEIMk4uaF3Ne4xNYvs8qTq/Bg7taBq7Q0zBu3DhSU1NJS0tj+fLldfJ2\n",
              "8tldjxJq+V9dpgmbCiJY8V0MDm/l34LR0dH06dOH8ePHM3DgwECVKiJ+ZAt0Af40YMAAli9fzpNP\n",
              "PklkZCQbN24E4OGHH2bGjBm88MIL3HnnnWRkZNCyZUtcLhcOhwOPx8PEiRN57bXX6NKlC2VlZQwc\n",
              "OJABAwb4+gZYrVa++uorABYtWsTSpUtZunTpz9Yzd+5cZs+eXWXZgw8+yKxZs2r8vUv98Oyzz7Jr\n",
              "1y7f4yGNSzm/SSkxId4AVnV2UlNTSUhIIDU1lWXLlgW6nNNiGNAvvoyuMeV8nhfFmuPRlJSU8Omn\n",
              "n7Jnzx7efffdQJcoIn7QoMPPD395Ll26lKKiIt5++20AnE4niYmJAIwYMYJrr72W3/zmN1xyySUk\n",
              "Jyeza9cudu7cWaUPT0lJCbt27fKFnxtuuOGM67n33nuZNm1alWVq9QluERERVR4fLAvlSEUI0TZH\n",
              "lRGcQwyT2V2P/ur9FTitPJvZ7FdvpzppaWm+lh/DMGq05WdqUk6N9PkJMaqvKccRwsGy0CrLfvxv\n",
              "IyINR4MOP1999RXdu3cnKyuLefPmcfHFF5/ynLfffpvNmzezZs0axowZw5w5c+jRowfx8fGkp6f/\n",
              "5LajoqLOuB5d4pIfmz17Nh9++CGbNm1iw4YNHCqHVw80pltMOb9tVejr6GwYEPoTv7jPxMmXfGra\n",
              "8uXLWbZsWY0HH6is2x+1OzwG7x2NZXNhZdCxWCz07duXfv36cdFFF9X4/kSkbmiw4WfZsmX89a9/\n",
              "5YMPPuDjjz/mmWee4bzzziMiIoKysjKysrLo3Lkz2dnZ9O3bl759+5Kbm8vGjRu54ooriImJYeHC\n",
              "hVx//fVA5Zgr8fHxxMfHn7KvmJgYioqKavstSgPQuHFjJk6cyMSJE8nLy+P1119nyZIl7CwO52h5\n",
              "CJMT82lmr7kOuDEhHu5OPlZj2ztZictCgctKXIiH6Bq+bBcTUvOjWhc6Lbx6oDHfOUIwDINx48Zx\n",
              "/fXX07x5/bsbTkTOTIPq8Hzyre5du3blnnvuYfDgwbjdbh566CHeffddjO+vJUyfPp0rrriCkSNH\n",
              "kp+fj81mo2nTpixcuJA2bdqwb98+pk6dyoEDB/B4PDRp0oS0tDRat26NYRgUFBTQqFEjAIqKirjk\n",
              "kksoLS1l8ODBP9nhWeR07N69m3vvvZcjR44QafVwY/s8WoTpDqSaVOC08nJWYwpdNho3bsycOXPo\n",
              "3bt3oMsSkVrSYMKPSENSWFjIH//4R/bs2UO0zcOtHXJrdJybYFbqtvDS/ibkOW20adOG+fPn06JF\n",
              "i0CXJSK1qEGN8yPSUDRq1Ij58+fTsWNHStxWFh2Ip8JTP8foqUtcXnjtYDx5ThstWrTgxRdfVPAR\n",
              "CUIKPyJ1VExMDM888wxNmjQhxxHCm982wqt22l/lvaOxHCgLJTo6iueee45mzfxz55uI1G0KPyJ1\n",
              "WLNmzXjyyScJDQ1hV0k4a3PP/C5DqfRVfgRfFURisViYM+cREhISAl2SiASIwo9IHXfOOedw111/\n",
              "AeDDY9HsKw39hVfIjx0pt7H8aCwAN910EwMGDAhwRSISSAo/IvXAZZddxqWXXoqJwRuH4ih26Uf3\n",
              "dFV4DF4/FI/bNBgyZAiTJk0KdEkiEmD6BBWpJ+666y6SkpIo9VhJOxSHu/7NgFHrvCb8+9s48p02\n",
              "WrZsycyZM7FY9LEnEuz0KSBST4SFhfHoo48SFRXFgTI7y4/GooEqft7HOdF8UxJGaGgIc+fOJTY2\n",
              "NtAliUgdoPAjUo+0a9eO2bNnYxgGXxVE8qk6QP+kTQXhrD4eDcD06ffQpUuXAFckInXFaQ9yGBcX\n",
              "5xsd+WSmaWIYBvn5+TVenIhU74033uDZZ58F4NIWRQxpciKwBdUxWwrDefPbRpgYTJ48mVtvvTXQ\n",
              "JYlIHXLac3v93CSfIlK7JkyYQEFBAa+++ir/+S6WYreVi5sXYw3ycRBNE9bmRvH+sRgAxo0bxy23\n",
              "3BLgqkSkrjmr6S2OHj3K7t27ueCCC3C73Xi9XkJDdfutSG0yTZMFCxbw97//HYC24U7GtSqidbgr\n",
              "wJUFRo7DxntHYsg8EQbAFVdcwbRp09TBWUROccbh56233uLOO+/EMAyys7PZunUr9957LytXrvRX\n",
              "jSLyMz766CPmzp1LWVkZAB0jHfSMLad9pIP4UA+WBtoa5DWh0GUl+0QoO4rDySixY2IQGhrK1KlT\n",
              "GT9+fLWX6kVEzjj8nHvuuXz44YdcdNFFbNmyBYBu3bqxc+dOvxQoIr8sJyeHF154gY8++giv93/3\n",
              "wFsNk1ibh3CbF7vFxGaYWA0wqPyxPzkb1KWYcPKHkmmCiYHHBLdp4PQalHssFLssuMyqrTrnn38+\n",
              "d9xxB23btq3dgkWkXjntPj8/sFqtNG7cuMoyXfISCaxmzZoxe/Zsbr75Zt5//33Wr19PRkYGTqeT\n",
              "fJcNGuiVMJvNRnJyMv3792f06NEkJiYGuiQRqQfOOPxER0dz7NgxX3PyqlWriI+Pr/HCROTMtWrV\n",
              "ihtuuIEbbrgBj8fDsWPHyM3NpaioiIqKCpxOp6+fHlT2GzqLbn+1xjAMDMPAYrFgs9kICQkhLCyM\n",
              "mJgYmjRpQosWLbDZzvhjTESC3Blf9tq0aRM33XQT+/fvp3v37mRlZbFixQp69erlpxJFREREas5Z\n",
              "3e1VVFTEunXrME2TwYMH06hRIz+UJiIiIlLzzuoe0KKiIvLy8igoKKCkpKSmaxIRERHxmzMOP2lp\n",
              "afTu3Zt33nmHt956iz59+vDGG2/4ozYRERGRGnfGl726dOnCf//7X9q3bw9AdnY2o0ePJiMjwy8F\n",
              "ioiIiNSkM275iYiI8AUfgMTERCIiImq0KBERERF/Oe2Wn+LiYgCefPJJrFYrN954I6ZpsnDhQjwe\n",
              "D7Nnz/ZroSIiIiI14bTDj8ViwTCMascEMQwDj8dT48WJiIiI1LSzutVdREREpL7SdMciIiISVM44\n",
              "/Ozdu5dLLrmEVq1aER8f7/sSERERqQ/OeFKc3//+99x666089NBDvPHGG8ybN0+TCYpIg3LixAky\n",
              "MjLYv38/R48eJTc3l+LiYk6cOIHD4agyR5rX6/X1hWzovQh+mNPx5DnXrFYrISEhhIaGEh4eTlRU\n",
              "FHFxcTRv3py2bdvSqVMnEhISfK8VqQvOuM9Pnz59+Prrr+nRowfbt2/HNE0GDBjAxo0b/VWjiIjf\n",
              "fffdd7z//vt8+umn7N692zf5q/x6jRo1YuDAgYwYMYJBgwZpMloJuDM+A0NCQoDK2d2zs7Np0aIF\n",
              "ubm5NV6YiEht2L17NwsXLmTt2rVVAk9YWAzRUU0JD2uE3R5FaEg4VlsoVksIFosVw7B8/2UAP7SI\n",
              "nLzlhtTS8b+/kSv/XDa//6+JaXq+bwFz4/G4cLkrcDpPUFFRzImyfEpKj1NYWMj777/P+++/T7Nm\n",
              "zbjmmmsYN24cYWFhAXtHEtzOOPycf/755OXlcfvtt3PuuecSGhrKhAkT/FGbiIjfFBQUMH/+fFas\n",
              "WOFbFteoLS2an0OTxu0Js0cHsLqGw+v1UFR8hJzjmRw9toucnByeeeYZFi9ezJ///GeGDRsW6BIl\n",
              "CP2qW90PHTpEUVER3bt3r8maRET86pNPPuGJJ56gsLAQgBbNutA+cSBRkU0CW1gD5/W6OfLdTvZn\n",
              "r8fhqJwUe8SIEdx9993ExsYGuDoJJmc8wvNPiYmJqZGCRET8paKigqeffprly5cDEBXZlHM6j6RR\n",
              "bKsAVxZcPB4n+7M3cODQRkzTpGnTpjz88MP06tUr0KVJkPhVIzz/8FgjPItIXXf48GHuuece9u7d\n",
              "C0BiuwF0bD8Yi8Ua4MqCV3HJd2zfuYKy8gIsFit/+MNtpKam6s4w8TuN8CwiDd66det48MEHKSkp\n",
              "ISQknB5dL6VxfEKgyxLA7XbyzZ6P+O7YN0DlZbD7779fE2aLXyn8iEiD5fF4WLBgAQsWLMA0TWJj\n",
              "WpLS7TLCwtSZuS4xTZNvj6Sze+9qTNNLYmIic+fOpX379oEuTRoohR8RaZCOHz/OrFmz2Lx5MwBt\n",
              "WvWkc6fhWCwaY6auKiw6zLYd7+FwlhIWFsZdd93F2LFjdRlMapzCj4g0KKZp8t///pdnnnmGkpIS\n",
              "rNYQuiRfRKsW3QJdmpwGh/MEO3auIL/wIFA5vMpdd91Fs2bNAlyZNCQKPyLSYGzdupW//vWvpKen\n",
              "AxAd3Zwe54whMrKx3/bp9Xp9t20HA7s9GovFv3Nim6aX7AMb2Ze9DtP0Eh4ewaRJ13LVVVcRGRnp\n",
              "131LcPBr+HG5XDz66KMsXrwYq9VKaGgoCQkJzJo1S7c0ikiNKC0tZe3atSxbtoytW7cCYLHY6JA4\n",
              "iIS2ff1+N1d5eRGfr/+7X/dRl5w38PeEh9fOmDwlpcf5ZveHFBUfBSpnFhg7diyjR4+mc+fOuhwm\n",
              "Z82v4ed3v/sdpaWlLFy4kLi4OAA+/vhj8vLyuPrqq6s81+PxYLXWrVtO3W635qARqWN27tzJ3r17\n",
              "ycrKYteuXezatcs31IZhWGjVohvtEwcRHlY59phpmni9Lr/VU15RzJcbF/lt+3XNoP7X+Y6tP1gs\n",
              "IVVCjWmafHfsG/Znf0lZeYFvedOmTUlJSSE5OZk2bdrQv39/oqPVkV1Oj9/Cz969e+nVqxeHDh0i\n",
              "Pj7+lPWLFi3i1VdfJT4+nj179vDyyy9js9mYPn06xcXFeDwe7rvvPq688koAPvjgAx5++GHKy8ux\n",
              "Wq08/vjjDB8+nDVr1nD77bdz/vnn88UXX+B2u3n11Vfp27fvT9a2atUqZsyYQUVFBU6nk2nTpjFl\n",
              "yhQArrvuOiwWC5mZmeTk5JCRkcG//vUv5s+fj8vlIioqinnz5tGzZ0+2b9/OrbfeSllZGRUVFaSm\n",
              "pjJjxoyf3K/D4cDhcFRZZrfbsdvtZ3OIRYLO+vXrmTp16inLIyPiad6sC61bpRBmj6qyzuNx8sna\n",
              "52upwtozbtw4UlNTSUtLY/ny5Q1mRvkLz/8jVmvoKctN00tuXhZHvttBbl4WXq+7yvoePXrw978H\n",
              "Twuc/Dp+a9bYsmULSUlJ1QafH2zYsIEtW7bQuXNnCgsLGT58OCtXrqRly5bk5ubSp08fBg8ejMPh\n",
              "YNasWXzwwQfExMSQmZnJ0KFDyc7OBiAjI4N//OMfvPjii7z00kvcf//9fPDBBz+53z59+vD5559j\n",
              "tVrJz8+nd+/ejBo1ijZt2gCwefNmPv/8c6Kjo/niiy9YvHgxa9euxW6389lnn5GamsrOnTtJTExk\n",
              "1apV2O12ysvLGTx4MBdddBEDBw6sdr9z585l9uzZVZY9+OCDzJo168wOrkiQKisrq3Z5VGQToqOa\n",
              "EhoSPGPDpKamkpCQQGpqKsuWLQt0OX5nGBaiIhsTFdmE0tLcKq1A8NPnhkh1au2azr59+/h//+//\n",
              "+ULCsGHDGDx4MJ07dwYqByHbv38/l1xySZXX7d69m4yMDDIzMzn//PN9yy0WCwcPVt4NkJSUxIAB\n",
              "AwAYNGgQTz311M/WkpeXx5QpU9izZw82m428vDx27NjhCz9XXnmlr/n0h34EP2wfID8/n/LycsrL\n",
              "y7nttttIT0/HYrFw6NAh0tPTfzL83HvvvUybNq3KMrX6iJy+oUOHct999/kue2VkZFBaWsqx43s4\n",
              "dnwPdnsUie3607plClZr5cebxRLChef/0W81BeqyV1pamq/l58ej7/tTbVz2+rGSkhz2Za/jeG5m\n",
              "leXt27enU6dOtG3blhEjRvitJml4/BZ+evfuTWZmJgUFBcTFxdGxY0fS09NZtGgRS5cuBSAq6n/N\n",
              "06Zp0q1bN9atW3fKtr755htGjhxJWlraKesOHz5MWFiY77HVasXtdp/yvJPdcsstjBkzhrfffhvD\n",
              "MOjTpw8VFRW+9T+ua/LkyTz66KOnbOeOO+6gSZMmbNmyBZvNxm9/+9sq2/kxXeIS+XVCQkK47LLL\n",
              "fI89Hg8ZGRl88sknrFy5koKCAnbv/YSDhzbTudOFNG3SEcMwqr2MUlOs1fyyrg3Lly9n2bJltRp8\n",
              "oPL9+vN4nszpKidz31oOH93uW9a/f39Gjx7N4MGDadSoUa3UIQ2P38JPp06dGDduHFOmTGHBggW+\n",
              "k/TEiRPVPn/w4MFkZWXx8ccfc9FFFwGQnp5O165dGTVqFLNnz2bbtm2kpKQAsHHjRvr3739WtRUU\n",
              "FJCQkIBhGKxdu9Z3h0h1LrvsMq655hpuueUW2rVrh9fr5euvv6Zv374UFBRwzjnnYLPZ2L17Nx99\n",
              "9FGV1ikR8S+r1Uq3bt3o1q0bN998MytWrGDBggUcP36c9O3v0rJ5Vzp3upCQkLBf3thZstujOW/g\n",
              "7/22/Z/icJRSXlFMeFgM9h/1c/Inu712OhUfz93Hrt0f4HRWXs666KKLmDJlikZ9lhrh18teixYt\n",
              "4pFHHmHAgAHYbDbi4uJo2rQp06dPZ/fu3VWeGxcXx4oVK7jrrru48847cblctGvXjqVLl5KUlERa\n",
              "Who333wzZWVlOJ1OevfuXW1L0Ol47LHHuO2223yzCJ98SevHhg4dyhNPPMH48eNxu904nU7Gjh1L\n",
              "3759mTFjBtdeey2vvvoqHTt25MILLzyrekTk1wsNDWX8+PGMGjWKf/zjHyxevJijx3ZRUPQtKd1+\n",
              "Q2xMS7/s12Kx1Nqt3ycLD4+lEa1rfb/+5vW62bNvLYe+/RqovLR1zz330LNnzwBXJg2JBjkUkQZp\n",
              "x44dzJw5kyNHjmAYFjp3upA2rXpqbJg6rKKimK07llNc8h0AEydO5JZbblF3AalxCj8i0mCVlpYy\n",
              "Z84c1qxZA0DLFt04J/kirNbA9NORn5ZfcJBtO9/D5SonOjqaWbNmMWTIkECXJQ1Ugw0/6enpXHfd\n",
              "dacsnzx5Mn/+859rvyARCQjTNHn99dd58cUX8Xq9REc1I6X7ZUSENwp0aULlv0/2wY1k7v8cMElO\n",
              "Tuaxxx6jVatWgS5NGrAGG35ERE62adMmZsx4gMLCAmzWUM7pfDEtmncJdFlBzek8wY5v3icvPwuA\n",
              "MWPGcPfdd1e5g1fEHxR+RCRo5OTkMGPGDLZt2wZA82ad6Zx0IXa7JsusTaZpcixnNxl7V+FylRMa\n",
              "Gsq0adMYN26c+mRJrVD4EZGg4na7WbhwIYsWLfp+TsFQ2rfrT9s2fbDZamf8mmBWWHSYzP2fUVD4\n",
              "LVA5SO3s2bPp2LFjgCuTYKLwIyJBKSMjgyeeeIJdu3YBYLPZadmiGy2bnUNMTAu1QNQgp6uc47mZ\n",
              "HD6ynaLiI0Dl0ASTJ09m0qRJhISoA7rULoUfEQlaXq+XDz74gIULF/qmywEICQknNqYV0VFNCA9v\n",
              "RJg9mpCQMGxWOxarDYvFhsWwfB+QKr8qs1IwBCbTN6K0aZqYphev6cHrdePxuHC5KnA6y6ioKOZE\n",
              "WR7FJccoKc3xvdpqtTJ27Fiuv/56Wrb0z9hLIr9E4UdEgp7H42Hjxo2sWLGCdevWaZJMP+jUqRMj\n",
              "Rozg0ksvpUmTJoEuR4Kcwo+IyElcLhe7d+9m165dZGVlceTIEfLy8igqKuLEiRM4HA48Hk+gy6xz\n",
              "QkNDiYiIICoqiri4OJo3b06bNm3o1KkTPXv2VOCROkXhR0TkDHk8HtxuN16vF6/XC/xwCejnP07r\n",
              "+sftL/Vz+mG9YRgYhoHFYsFqtWKz2dRHSuoVhR8REREJKpZAFyAiIiJSmxR+REREJKgo/IiIiEhQ\n",
              "UfgRERGRoKLwIyIiIkFF4UdERESCisKPiIiIBBWFHxEREQkqCj8iIiISVBR+REREJKgo/IiIiEhQ\n",
              "UfgRERGRoKLwIyIiIkFF4UdERESCii3QBYiIiJyNiooKsrOzOXz4MLm5uRQVFVFaWkpFRQUulwu3\n",
              "243H48Hr9WKaZpXX/vhxQ2AYximPrVYrVqsVm81GaGgoYWFhREdHExsbS/PmzWnTpg1t27bFZguu\n",
              "OBBc71ZEROot0zTZunUrn376KZs2bSIzM7NBhpjaFhoaSrdu3ejfvz8XXnghCQkJgS7J7wxTZ46I\n",
              "iNRhDoeD9957jyVLlnDo0KEq66Kx09QSRSMjjGjDTjghhBo2bFiwYmD5/sugslXkR40jDdIPv9W9\n",
              "mJiYeDFx48WNF4fppsx0UoKDAm85x8xSHLirvL53795cc801DBky5JTWpIZC4UdEROok0zT5+OOP\n",
              "mT9/PseOHQMgDBs9ra3oYW1JkqUxjSzhAa6yfvOaJjlmKXs8x9nqOcIubw4mlbGge/fuTJs2ja5d\n",
              "uwa4ypqn8CMiInVOTk4Oc+fO5csvvwSgkRHOKFsyg2yJhBnqseEvBd5yPnFn8ql7H048GIbBhAkT\n",
              "uPnmmwkLCwt0eTVG4UdEROqUtWvXMmfOHIqLi7Fh4ZKQLoy0JRNqWANdWtAo9Jbzjms7Gz2Vlxk7\n",
              "dOjAnDlz6NChQ4ArqxkKPyIiUie43W7++te/8vrrrwPQztKI60P70dISE+DKgtd2z1H+5dhMMQ7C\n",
              "wsK49957GTVqVKDL+tUUfkREJODy8/OZMWMGX3/9NQAjbEmMD+mBzdBwdIFWbFawwPEVGd4cAK68\n",
              "8kr+9Kc/1evb4xV+REQkoLZv3859993H8ePHsWNjcmhf+thaB7osOYnXNPmPaxcr3RkApKSk8Mgj\n",
              "j9C0adMAV3Z2FH5ERCQgvF4vixcv5sUXX8Tj8dDciOIW+yBd5qrDtrqPsND5FRW4iYuL48EHH2Tg\n",
              "wIGBLuuMKfyIiEitO3r0KI888gibNm0CoI+1NZNCzyXMCAlwZfJLjnlLeNmxgcNmEQBXXHEFt912\n",
              "GxEREQGu7PQp/IiISK0pKyvjjTfe4NVXX8XhcBCClStDUhhqa+/XAfU8ppcCs9xv269L4oxwrH7u\n",
              "K+U0Pbzt2san7v0ANGvWjD/84Q+MHDkSi6Xu99NqkOFn9uzZHDp0iFdeeQWAzz//nKFDh7J69Wou\n",
              "uOACAG655RaaNm3Kww8/XO02nn32WSZMmECLFi1qq2wRkQbr6NGjvPfee7zzzjsUFhYC0MnShN+F\n",
              "9qG5Jdrv+8/1nmBGxft+309dMCdsNE0skbWyr12eY7zu/Jo8swyAxMRErrrqKkaOHEl0tP//Xc9W\n",
              "gww/a9eu5YYbbiAzMxOAhx9+mBUrVjB69GhmzZoFQOfOnXnppZcYPnx4tdtITExk6dKl9OrV64z2\n",
              "7Xa763UPeBGRX6uiooJDhw6RnZ1NRkYGmzdvJiMjw7e+qRHJZSHd6Gttg2EYmKaJE49fa8rzlvGQ\n",
              "4yO/7qOumGkfSWOL/y5BhWKt0krnND187N7DR669lOMCwGaz0bt3b3r37k1ycjLt2rWjVatWdeb3\n",
              "Y4MMP06nk0aNGrFnzx7atGnDiBEjuPPOO3niiSdYs2YNR48epUOHDjzwwAO8++67uFwuQkJCeP75\n",
              "5xk0aBAPPfQQc+bMoX379oSHh7No0SK6devGAw88wCeffILT6SQ5OZm//e1vxMXFcd1112GxWMjM\n",
              "zCQnJ6fKD/nJHA4HDoejyjK73Y7dbq+NwyIi4ne5ublMnDiRkpKSKssNINnSlKG29vS2tq5yWcZh\n",
              "uvlT+bJartT/xo0bR2pqKmlpaSxfvrzBTML6XPg47NWMsl1mOvnSfYAv3NkcMYtPWd+tWzdeeeWV\n",
              "OjFfWN2/MHcWQkNDGTx4MKtXr8bhcJCVlcWYMWP49ttvqaioYPXq1QwaNIjf//73fPXVV6SnpzNv\n",
              "3jyuv/56AGbOnEmrVq1YsmQJ6enp9OrViyeffJLIyEg2btxIeno6PXr0YMaMGb59bt68mRUrVvxk\n",
              "8AGYO3cusbGxVb7mzp3r9+MhIlJbDh8+fErwATjP1p6rQ3vR19bW7/1R6orU1FQSEhJITU1tMMHn\n",
              "50QYoQy3JXF1aE+6WJqdsj4jIwOv1xuAyk5VN9qf/GD48OGsWbOGhIQE+vfvD8DAgQP58ssvWbNm\n",
              "DcOHD2fLli088sgj5OXlYbPZ2L17N+Xl5YSHnzpR3tKlSykqKuLtt98GKluXEhMTfeuvvPLKX7y+\n",
              "ee+99zJt2rQqy9TqIyINSbdu3bjmmmvYtWsX2dnZFBQUAPCZO4vP3FkkWRpzcUhnelha+FoAQrHy\n",
              "XPg4v9YViMteaWlpvpafHy7v1YbauOz1Yy7TwxfubFa593LcPFFlXcuWLUlISOCCCy7Aaq0bU5Q0\n",
              "6PDzj3/8g3bt2vk6OQ8bNozVq1ezevVqXnnlFcaOHcvq1avp168fxcXFxMbG4nA4qg0/pmkyb948\n",
              "Lr744mr3FxUV9Ys16RKXiDR0NpuNO+64A6j83Dx27BibN29mzZo1rFu3jkxPHpmOdXSwNGZCaE/a\n",
              "WeIwDAO7n38dBWJesOXLl7Ns2bJaDT5Q+V6ruyzlD6ZpssVzhLdc28j/vtNzVFQUw4cPZ+jQofTq\n",
              "1YuYmLo3blODDT/9+vUjJyeH119/neXLlwOV4efSSy/l6NGj9OrVC6fTSbt27QCYN29eldfHxMRQ\n",
              "VFTke3z55ZfzzDPPcN555xEREUFZWRlZWVl069at9t6UiEg9YhgGLVq0YOzYsYwdO5bjx4+zZMkS\n",
              "3nrrLfZX5DG3YjUX25K5NOQcQvwcTuKMcOaEjfbrPn6syKwgz3uCxpZIYo3amxE9zjj1D3h/KDIr\n",
              "SHN+zVbPUQCaNm3K5MmTGTt2bLWNCHVJgw0/ISEhnHfeeWzdupUuXboAkJycTElJCeeddx6xsbHM\n",
              "mTOH/v3706RJEyZMmFDl9X/84x/5/e9/T0REBIsWLWL69Ok4HA4GDBjga6qdPn26wo+IyGlq2rQp\n",
              "t99+O1dddRXPP/88H3/8MR+4d/ON5xhT7P39esu71bDQxKid279/0IRIOlob1+o+a8tOz3cscmyi\n",
              "BAc2m41JkyYxadIkwsJqL+T9Gg3ybi8REan71qxZw9y5cykqKiLs+zm9emtOrzrtx3N8JSUlMWvW\n",
              "LJKSkgJc2ZlR+BERkYDJyclh5syZpKenAzDKlsy4kO5Y6sDt0FLVCdPJAsdGdnqPATB+/HimTp1a\n",
              "L/uyKvyIiEhAud1uXnjhBRYvXgxAF0tTbrD3J6YW+8nIzzvoLeBlx3pyzTLsdjv33HMPl1xySaDL\n",
              "OmsKPyIiUid89NFHPProo5SXlxNrhHFDaD86W08dL0Zqj2marHHv423Xdtx4adWqFY8//jidOnUK\n",
              "dGm/isKPiIjUGVlZWdxzzz0cOHAAA7jQlsS4kG6E1tKt2/I/Bd4yXnN+7bvMdd555zFz5sw6eev6\n",
              "mVL4ERGROqW8vJxnnnnGN0xJvBHB+JDunGtto75AtaDCdLPancn7rgwceAgNDeUPf/gDV111VZ2Y\n",
              "mqImKPyIiEidtG7dOh5//HGOHatseWhhRHOBrSN9bW2IMupfJ9u67ri3lHXuA3zm3k8pTgB69OjB\n",
              "fffdR/v27QNcXc1S+BERkTqroqKCtLQ0Fi9e7JszzIJBB0s8SZYmtLHE0swSRSMjnCjsahk6DW7T\n",
              "S4lZQb5ZzjGzhAPeAvZ6cqtMRtqmTRtuvPFGRo0a1WBae06m8CMiInVeaWkpK1asYMWKFezZs+cn\n",
              "n2fHhh0rNsOKFQMLxvf/4fv/hYb3q7ySWeV7ExPwYuLFxIMXl+nBgQcXnmpfb7VaOffccxk3bhzD\n",
              "hg3DZmu4/awUfkREpF45cuQImzZtYufOnezfv5/Dhw9TUFAQFDOn1xSr1UrTpk1p06YNSUlJpKSk\n",
              "cO655xIbGxvo0mqFwo+IiNR7breb4uJiTpw4QUVFBS6XC7fbjcfjwev1ApW3bZ/8K68h/fr74dLU\n",
              "j//fYrFgs9mw2WyEhoYSHh5OVFQU0dHRDfJy1ulS+BEREZGgYgl0ASIiIiK1SeFHREREgorCj4iI\n",
              "iAQVhR8REREJKgo/IiIiElQUfkRERCSoKPwIAA6Hg1mzZuFwOAJdSp2i41I9HZfq6bhUT8elejou\n",
              "1auN46JxfgSA4uJiYmNjKSoqIiYmJtDl1Bk6LtXTcamejkv1dFyqp+NSvdo4Lmr5ERERkaCi8CMi\n",
              "IiJBReFHREREgorCjwBgt9t58MEHsdvtgS6lTtFxqZ6OS/V0XKqn41I9HZfq1cZxUYdnERERCSpq\n",
              "+REREZGgovAjIiIiQUXhR0RERIKKwo+IiIgEFYUfYe/evQwePJjk5GT69evHzp07A12S3/zxj38k\n",
              "MTERwzBIT0/3Lf+5Y3C26+qTiooKLr/8cpKTk+nZsycjR44kMzMTgJycHEaPHk2nTp3o3r07a9eu\n",
              "9b3ubNfVJxdffDEpKSn06tWLoUOHsmXLFkDnzA8WLlyIYRgsXboU0PmSmJhI586d6dWrF7169WLJ\n",
              "kiWAzheHw8Htt99Op06d6NGjB7/73e+AAB4XU4Le8OHDzYULF5qmaZpvvvmm2bdv38AW5Eeffvqp\n",
              "eejQITMhIcHcsmWLb/nPHYOzXVeflJeXmytWrDC9Xq9pmqY5b948c9iwYaZpmub1119vPvjgg6Zp\n",
              "mubGjRvN1q1bm06n81etq08KCgp837/zzjtmSkqKaZo6Z0zTNLOyssxBgwaZAwcONN99913TNHW+\n",
              "/Piz5QfBfr5MnTrVvP32232fMUePHjVNM3DHReEnyB07dsyMjo42XS6XaZqm6fV6zebNm5t79+4N\n",
              "cGX+dfIH1M8dg7NdV9999dVXZkJCgmmaphkZGen7oDJN0+zXr5/50Ucf/ap19dXChQvNnj176pwx\n",
              "TdPj8ZgjRowwN23aZA4bNswXfoL9fKku/AT7+VJaWmpGR0ebRUVFVZYH8rjYaqQ9S+qtQ4cO0bJl\n",
              "S2y2ylPBMAzatWvHwYMHSUpKCnB1tePnjkFsbOxZravvx+65555j3Lhx5OXl4XK5aNGihW9dYmIi\n",
              "Bw8ePOt19dGkSZNYvXo1ACtXrtQ5Azz99NMMGTKEc88917dM50ulSZMmYZom/fv357HHHgv682Xf\n",
              "vn3Ex8fz6KOP8vHHHxMeHs6sWbNo1KhRwI6L+vyISBWPPvoomZmZzJ07N9Cl1Bn//Oc/OXToEHPm\n",
              "zGH69OmBLifgduzYwdtvv82MGTMCXUqds3btWrZt28bXX39NkyZNmDx5cqBLCji3282BAwfo2rUr\n",
              "mzZt4vnnn+fqq6/G7XYHrCaFnyDXtm1bjh496jsJTdPk4MGDtGvXLsCV1Z6fOwZnu66+euqpp3jn\n",
              "nXf473//S0REBI0bN8Zms/Hdd9/5npOdnU27du3Oel19NnnyZFavXk2bNm2C+pz57LPPyM7OplOn\n",
              "TiQmJrJ+/Xpuuukm/v3vfwf9+fJDzSEhIUydOpXPPvss6D9j2rVrh8Vi4ZprrgGgd+/etG/fngMH\n",
              "DgTsuCj8BLlmzZrRp08fXnvtNQDefvtt2rRpU6+aVH+tnzsGZ7uuPnr66adZvHgxH330EY0aNfIt\n",
              "v/LKK3nppZcA+Oqrrzh8+DDDhg37Vevqi8LCQo4cOeJ7vHTpUho3bhz058ytt97K0aNHyc7OJjs7\n",
              "m4EDB/Lyyy9z6623BvX5cuLECQoLC32PFy9eTO/evYP+fGnSpAkjRozggw8+ACArK4usrCyGDBkS\n",
              "uONy1j2YpMHIyMgwBw4caHbq1Mk899xzzW3btgW6JL+56aabzNatW5tWq9Vs1qyZ2bFjR9M0f/4Y\n",
              "nO26+uTQoUMmYHbo0MHs2bOn2bNnT7N///6maZrmd999Z44cOdJMSkoyu3btan7yySe+153tuvoi\n",
              "Ozvb7Nevn9m9e3czJSXFHDFihK8za7CfMyc7ucNzMJ8v+/btM3v16mX26NHD7N69u3nZZZeZWVlZ\n",
              "pmnqfNm3b595wQUX+H6W3nrrLdM0A3dcNLGpiIiIBBVd9hIREZGgovAjIiIiQUXhR0TqJMMwqnQe\n",
              "hcqxX06elqS+aNKkCdnZ2b/4vLKyMiZOnEhSUhLJycm89dZb/i9OJAhpkEMRkTriqaeewm63k5mZ\n",
              "SVZWFgMGDGD48OE0btw40KWJNChq+RGReikxMZGZM2cyaNAg2rdvz5w5c3zrLrjgAu666y6GDh1K\n",
              "x44dueWWW3zr0tLSGDBgAL1796Znz5689957VV535513cv7559OuXTseeOABVq5cyXnnnUdiYiJP\n",
              "P/2077l79+5l7Nix9OvXj5SUFObPn+9bt3z5cs455xxSUlK4++67T/s9LVmyxFdr+/btueCCC3j3\n",
              "3XfP6viIyE9Ty4+I1FuFhYV8+eWX5Obm0rFjR66//npat24NVA6pv3r1alwuF127duXLL79k0KBB\n",
              "jBo1iokTJ2IYhm+MmgMHDmC32wE4cOAAq1evpri4mMTERAoKCvjss884cuQInTt35oYbbiA6OpqJ\n",
              "Eyfy2muv0aVLF8rKyhg4cCADBgwgISGB66+/ns8++4yuXbvy8ssvk5eX56t55syZtGrVqkog+8HB\n",
              "gwdJSEjwPa7PUzyI1GUKPyJSrxiG4fs+NTUVqOxT06FDB7Kysnzh5+qrr8Zms2Gz2ejVqxf79u1j\n",
              "0KBBZGVlcc011/Dtt99is9nIz88nKyuLLl26AHDFFVdgtVqJi4ujQ4cOXHrppRiGQevWrWnatCnZ\n",
              "2dmEhoayc+dOJkyY4KulpKSEXbt2cfToUVJSUujatSsAU6ZM4Y477vA976GHHvL7MRKRn6fwIyJ1\n",
              "UtOmTcnLy6sy2nRubi7NmjXzPQ4LC/N9b7Vaq8wV9FPrJkyYwGOPPcYVV1wBQHx8PBUVFT/5uuq2\n",
              "ExISQnx8fLWdr5cvX17l8clh7Ze0a9eOAwcO0LJlS6ByioeLL774tF8vIqdHfX5EpE4aNWoUf/vb\n",
              "33yP//nPf9KhQwdfMDhbBQUFtG/fHoDXXnuNgoKCM95G586diYmJYeHChb5lmZmZ5OfnM2jQILZt\n",
              "20ZGRgYACxYswOl0ntZ2T57iISsrizVr1nD55ZefcX0i8vMUfkSkTnr22Wd9l5B69epFWloab775\n",
              "5q/e7nPPPccVV1xB79692bJly1lNEmmz2fjPf/7DO++8Q0pKCt26dWPKlCmUl5fTtGlTFixYwPjx\n",
              "4+nZsyd79+6tcrfWzJkzfQHnx/7yl79QXl5Ox44dGTVqFPPnz6dJkyZn/V5FpHqa3kJERESCilp+\n",
              "REREJKgo/IiIiEhQUfgRERGRoKLwIyIiIkFF4UdERESCisKPiIiIBBWFHxEREQkqCj8iIiISVBR+\n",
              "REREJKgo/IiIiEhQ+f8fty5v652b0QAAAABJRU5ErkJggg==\n",
              "\">\n",
              "        \n",
              "      </div>\n",
              "      <script></script>\n",
              "      <script type=\"text/javascript\">\n",
              "        (() => {\n",
              "          const chartElement = document.getElementById(\"chart-64c462fd-b77a-4b06-ae4b-3b06fd083859\");\n",
              "          async function getCodeForChartHandler(event) {\n",
              "            const chartCodeResponse =  await google.colab.kernel.invokeFunction(\n",
              "                'getCodeForChart', [\"chart-64c462fd-b77a-4b06-ae4b-3b06fd083859\"], {});\n",
              "            const responseJson = chartCodeResponse.data['application/json'];\n",
              "            await google.colab.notebook.addCell(responseJson.code, 'code');\n",
              "          }\n",
              "          chartElement.onclick = getCodeForChartHandler;\n",
              "        })();\n",
              "      </script>\n",
              "      <style>\n",
              "        .colab-quickchart-chart-with-code  {\n",
              "            display: block;\n",
              "            float: left;\n",
              "            border: 1px solid transparent;\n",
              "        }\n",
              "\n",
              "        .colab-quickchart-chart-with-code:hover {\n",
              "            cursor: pointer;\n",
              "            border: 1px solid #aaa;\n",
              "        }\n",
              "      </style>"
            ]
          },
          "metadata": {}
        },
        {
          "output_type": "display_data",
          "data": {
            "text/plain": [
              "<google.colab._quickchart_helpers.SectionTitle at 0x781ce2b5a110>"
            ],
            "text/html": [
              "<h4 class=\"colab-quickchart-section-title\">Time series</h4>\n",
              "<style>\n",
              "  .colab-quickchart-section-title {\n",
              "      clear: both;\n",
              "  }\n",
              "</style>"
            ]
          },
          "metadata": {}
        },
        {
          "output_type": "display_data",
          "data": {
            "text/plain": [
              "import numpy as np\n",
              "from google.colab import autoviz\n",
              "\n",
              "def time_series_multiline(df, timelike_colname, value_colname, series_colname, figscale=1, mpl_palette_name='Dark2'):\n",
              "  from matplotlib import pyplot as plt\n",
              "  import seaborn as sns\n",
              "  figsize = (10 * figscale, 5.2 * figscale)\n",
              "  palette = list(sns.palettes.mpl_palette(mpl_palette_name))\n",
              "  def _plot_series(series, series_name, series_index=0):\n",
              "    if value_colname == 'count()':\n",
              "      counted = (series[timelike_colname]\n",
              "                 .value_counts()\n",
              "                 .reset_index(name='counts')\n",
              "                 .rename({'index': timelike_colname}, axis=1)\n",
              "                 .sort_values(timelike_colname, ascending=True))\n",
              "      xs = counted[timelike_colname]\n",
              "      ys = counted['counts']\n",
              "    else:\n",
              "      xs = series[timelike_colname]\n",
              "      ys = series[value_colname]\n",
              "    plt.plot(xs, ys, label=series_name, color=palette[series_index % len(palette)])\n",
              "\n",
              "  fig, ax = plt.subplots(figsize=figsize, layout='constrained')\n",
              "  df = df.sort_values(timelike_colname, ascending=True)\n",
              "  if series_colname:\n",
              "    for i, (series_name, series) in enumerate(df.groupby(series_colname)):\n",
              "      _plot_series(series, series_name, i)\n",
              "    fig.legend(title=series_colname, bbox_to_anchor=(1, 1), loc='upper left')\n",
              "  else:\n",
              "    _plot_series(df, '')\n",
              "  sns.despine(fig=fig, ax=ax)\n",
              "  plt.xlabel(timelike_colname)\n",
              "  plt.ylabel(value_colname)\n",
              "  return autoviz.MplChart.from_current_mpl_state()\n",
              "\n",
              "chart = time_series_multiline(df, *['Unnamed: 0', 'count()', 'label'], **{})\n",
              "chart"
            ],
            "text/html": [
              "      <div class=\"colab-quickchart-chart-with-code\" id=\"chart-8318c199-d045-4ca3-8dee-6e0b28eaf360\">\n",
              "        <img src=\"data:image/png;base64,iVBORw0KGgoAAAANSUhEUgAAAnEAAAEPCAYAAAAtTZIUAAAAOXRFWHRTb2Z0d2FyZQBNYXRwbG90\n",
              "bGliIHZlcnNpb24zLjcuMSwgaHR0cHM6Ly9tYXRwbG90bGliLm9yZy/bCgiHAAAACXBIWXMAAA9h\n",
              "AAAPYQGoP6dpAAAsKklEQVR4nO3de1wV9b7/8ffAAryimGgqASqiISIoCGKJZuWlIk3dWbuL5rW2\n",
              "ZZHp9pe4s8ysPJbZ6ag708qtlpfIk+7dKS+Jl33wArnTNFEQTfEumtxhfn+4W0cSEYjFYvT1fDzm\n",
              "8XDm+10znxnm4eP9mFnf9TVM0zQFAAAAS3FxdgEAAACoOEIcAACABRHiAAAALIgQBwAAYEGEOAAA\n",
              "AAsixAEAAFgQIQ4AAMCCCHEAAAAWdMOHuNmzZzu7BAAAgCpnc3YBjnb48GFnlwAAQI1jmqYKCwtV\n",
              "VFTk7FLwG25ubnJ1db1uvxs+xAEAgJLy8/N1/PhxZWdnO7sUlMIwDPn4+KhevXpl9iPEAQBwEyku\n",
              "LlZaWppcXV3VvHlzubu7yzAMZ5eFfzNNU6dOndLRo0fVpk2bMp/IEeIAALiJ5Ofnq7i4WLfddpvq\n",
              "1Knj7HJQCm9vb6Wnp6ugoKDMEHfDD2wAAABXc3EhAtRU5X0yyl8QAADAgghxAACgRjEMQ+fPn6+y\n",
              "fldKT09Xw4YNK1VXTUOIAwAAsCBCHAAAqLHGjx+viIgIhYaGqnv37tq/f3+J9pkzZyosLEyBgYH6\n",
              "29/+Zt++fft23XXXXQoPD1dYWJiWL19e3aU7HKNTAQBAjTVx4kTNnDlTkrRs2TKNGzdO//jHP+zt\n",
              "hmEoOTlZhw4dUnh4uLp166aGDRtq1KhRWrt2rZo1a6bTp0+rU6dOio6OdtZpOAQhDgAA1FjffPON\n",
              "5syZo4sXL6q4uFhnz54t0T5ixAhJUqtWrdS9e3dt2rRJjRs31qFDh9S3b98Sfffv369WrVpVW+2O\n",
              "RogDAAA1UkZGhsaOHavt27erdevW2r17t7p3717mZwzDkGmaat++vbZu3XpVe3p6uoOqrX58Jw4A\n",
              "ANRIWVlZcnNzU7NmzWSapt5///2r+ixcuFDS5XCWmJioO++8U9HR0UpLS9O3335r75eSkqL8/Pxq\n",
              "q7068CQOAADUSB06dNCQIUPUvn173XLLLerfv/9VfYqKihQWFqZLly7pvffek7+/vyRpzZo1Gj9+\n",
              "vF588UUVFBTI19dXCQkJ1Vq/oxmmaZrOLsKR4uLiNGvWLGeXAQBAjZCbm6u0tDS1bNlStWrVcnY5\n",
              "KEV5/0a8TgUAALAgQhwAAIAFEeIAAAAsiBAHAABgQYQ4AAAACyLEAQAAWBAhDgAA1AiFhYWaOnWq\n",
              "2rVrp+DgYIWGhmrUqFFKSEhQaGholR7rhx9+sP+mnFXxY78AAKBGGD58uM6ePatt27bJy8tLpmlq\n",
              "xYoVV82Xist4EgcAwE3MNE1lF+Q7dCnPvAKpqalavny5Fi5cKC8vL0mX50EdPHjwVZPWf/rppwoJ\n",
              "CVFISIjuu+8+/fzzz5KkRYsWlZjV4auvvlKPHj3s66+88oratGmjzp07a9myZfbtY8eO1fTp0+3r\n",
              "+/fv12233abCwsLKXNJqw5M4AABuYjmFBQpcPMWhx/jpsVdVx829zD67du1SmzZt1Lhx4zL7/fDD\n",
              "D3rppZe0c+dOtWjRQq+//rpGjBihv//972V+bs2aNVq+fLl27typ+vXr6/HHH7e3Pfvss+rdu7cm\n",
              "TpwoV1dXffDBBxo1apRstpodk3gSBwAALGPDhg3q06ePWrRoIUl65plntH79ehUVFZX5uXXr1ukP\n",
              "f/iDPD09ZRiGRo8ebW9r27atgoKC9OWXX+rSpUtaunSpRo0a5dDzqAoOjZjPPfecVq9ercOHDys5\n",
              "OfmaX0pcsGCBZsyYoeLiYt1111364IMP5ObmZm83TVO9evXSrl27dP78eUeWDADATaW2zU0/Pfaq\n",
              "w49xPZ06ddKBAwd05swZ3XLLLeXet2EY9n/bbLYSYS43N7dcn5OkcePG6c0339SpU6d0zz33qGnT\n",
              "puWuwVkc+iRu0KBB2rx5s/z8/K7ZJy0tTfHx8UpMTFRqaqpOnDih+fPnl+jzzjvvqHXr1o4sFQCA\n",
              "m5JhGKrj5u7Q5beBqTQBAQEaOHCghg8fbn9gY5qmVq5cqUOHDtn79ezZU//4xz907NgxSdLcuXPV\n",
              "q1cvubq6KiAgQLt371ZOTo4KCwu1ZMkS++fuvvtuLV++XBcvXpRpmldljXvvvVeZmZmaNm2axo4d\n",
              "WwVX1vEcGuK6d+8uHx+fMvusWLFCsbGxuvXWW2UYhsaMGaOlS5fa2/fs2aOEhAT9+c9/vu7x8vLy\n",
              "dOHChRLL9R6vAgCAmuGjjz5Sx44dFRkZqfbt2ysoKEj/8z//o0aNGtn7BAcH6+2331afPn0UEhKi\n",
              "xMRE/fWvf5UkRUVFqV+/fgoODlaPHj3Upk0b++f69eunQYMGqVOnTgoPD5evr2+JYxuGoeHDh6tJ\n",
              "kybq2rVr9Zzw72SY5Rky8jv5+/tf8zdenn32WTVv3lyTJk2SJO3du1d9+vRRRkaGCgoKFBMTowUL\n",
              "Fqh27doKDQ0t83XqK6+8oqlTp5bYFhUVpW3btlXl6QAAYFm5ublKS0tTy5YtVatWLWeXU6Pcf//9\n",
              "evjhh0sMenCG8v6NavTAhqlTp+qhhx7S7bffXq7+kyZNUlZWVomlS5cuDq4SAABY2Y4dOxQQECAX\n",
              "Fxc9+uijzi6n3Jw+dtbX11cHDx60r6enp9sfcX733XfKyMjQ+++/r8LCQl24cEH+/v7avn27vL29\n",
              "r9qXh4eHPDw8SmxzdXV17AkAAABLCw8PV2pqqrPLqDCnP4kbOHCgVq9erczMTJmmqblz52rIkCGS\n",
              "pMTERB0+fFjp6enavHmzPD09lZ6eXmqAAwAAuJk4NMSNHj1aPj4+Onr0qHr37q2AgABJ0ogRI7R6\n",
              "9WpJUqtWrTR16lR169ZNAQEB8vb2LvHbLQAAALhatQxscKa4uDjNmjXL2WUAAFAjMLCh5rshBjYA\n",
              "AACgdIQ4AAAACyLEAQAAp/P391fbtm3VsWNHBQQE6MEHH9TWrVur5dgpKSlatmxZtRyrKjn9J0YA\n",
              "AIDzmKYpMz/boccw3OuUa+qtzz77zD4xwKpVq9SvXz99/fXXioyMdFhthYWFSklJUUJCgv3XMayC\n",
              "EAcAwE3MzM9W6mhPhx4jYN4FGR51K/SZhx56SElJSZo5c6aWLFmi+Ph4rV+/Xvn5+QoMDNS8efPk\n",
              "5eWlDz/8ULNmzZK7u7uKior04YcfKjIyUgcOHNDzzz+vkydPKi8vT6NGjbLPiWoYhqZMmaK1a9cq\n",
              "ODhY69atU1ZWlkJDQxUVFaW5c+c64jJUOUIcAACokSIjI7V69Wq9/fbbqlu3rpKSkiRJr732miZP\n",
              "nqz//M//1Isvvqh9+/apWbNmKigoUF5enoqKivTII49o8eLFateunbKzsxUVFaXIyEhFRERIujwZ\n",
              "wPbt2yVJixYtUkJCghISEpx1qpVCiAMA4CZmuNdRwLwLDj9GZfz6K2gJCQnKysrSypUrJUn5+fny\n",
              "9/eXJPXq1UuPP/64HnjgAfXt21eBgYHau3ev9uzZU+L16MWLF7V37157iHvqqad+xxnVDIQ4AABu\n",
              "YoZhVPhVZ3XZvn27goODlZaWpjlz5ujee++9qs/KlSu1c+dObdy4Uf369dO0adPUoUMHNWrUSCkp\n",
              "Kdfcd7169RxYefVgdCoAAKhxvvzyS/3Xf/2XXnzxRfXv31/vvPOOsrMvD8DIzs7Wnj17VFhYqIMH\n",
              "Dyo8PFzjx4/XoEGDlJSUpLZt28rT01MLFy607y81NVVnz54t9Vienp7KysqqlvOqSjyJAwAANcLD\n",
              "Dz+sWrVq6dKlSwoKCtLatWsVGRmpzp07Ky8vT5GRkfZRrhMnTlRAQICeeuopnT17VjabTd7e3lq4\n",
              "cKFsNpu++uorPf/883rnnXdUVFSkxo0ba8mSJaUet1evXpo5c6ZCQkIUHR1tmYENTLsFAMBNhGm3\n",
              "aj6m3QIAALiBEeIAAAAsiBAHAABgQYQ4AAAACyLEAQAAWBAhDgAAwIIIcQAAABZEiAMAADVCQUGB\n",
              "pk6dqnbt2ql9+/YKCwtT//79y5w+62bGjA0AANzETNNUQX6RQ4/h5u5qn2mhLMOGDdMvv/yibdu2\n",
              "ycvLS5L07bffav/+/QoNDS3Rt6ioSK6uro4ot9IKCwtls1VftCLEAQBwEyvIL9LkP//DoceYNqOP\n",
              "3D3KjhwHDhzQF198oSNHjtgDnCTdfffdkqRFixbp448/VqNGjfTTTz9p/vz5stlsmjhxoi5cuKCi\n",
              "oiL9v//3/zR48GBJ0tdff63XXntNOTk5cnV11ZtvvqmePXtq48aNGjt2rLp3764tW7aosLBQH3/8\n",
              "scLDw69Z27p16zR58mTl5uYqPz9fcXFxGj58uCRp6NChcnFxUWpqqk6ePKl9+/bp008/1fvvv6+C\n",
              "ggLVq1dPc+bMUceOHfWvf/1LTz/9tLKzs5Wbm6tHH31UkydPrvR1JcQBAACnS05OVkBAgBo1anTN\n",
              "Pv/7v/+r5ORktW3bVufPn1fPnj21du1aNWvWTKdPn1anTp0UHR2tvLw8vfLKK/r666/l6emp1NRU\n",
              "3XnnnUpPT5ck7du3TwsWLNAHH3yguXPn6uWXX9bXX399zeN26tRJmzdvlqurq86ePauwsDD17t1b\n",
              "Pj4+kqSdO3dq8+bNql+/vrZs2aKlS5dq06ZN8vDwUGJioh599FHt2bNH/v7+WrdunTw8PJSTk6Po\n",
              "6GjdfffdioqKqtQ1I8QBAHATc3N31bQZfRx+jIo6ePCgBg4caA87MTExio6OVtu2bSVJW7du1aFD\n",
              "h9S3b98Sn9u/f7/27dun1NRUde/e3b7dxcVFGRkZkqSAgABFRkZKkrp27aqZM2eWWcuZM2c0fPhw\n",
              "/fTTT7LZbDpz5ox++OEHe4gbPHiw6tevL0n68ssv9f3339v3L0lnz55VTk6OcnJy9MwzzyglJUUu\n",
              "Li46cuSIUlJSCHEAAKDiDMO47qvO6hAWFqbU1FSdO3dOXl5eat26tVJSUrRo0SIlJCRIkurVq2fv\n",
              "b5qm2rdvr61bt161rx9//FH33HOPlixZclXbzz//XGJSeVdXVxUWFpZZ25gxY9SvXz+tXLlShmGo\n",
              "U6dOys3Ntbf/tq4nn3xS06dPv2o/zz77rBo3bqzk5GTZbDY99NBDJfZTUYxOBQAATtemTRs9+OCD\n",
              "Gj58uM6fP2/ffunSpVL7R0dHKy0tTd9++619W0pKivLz89W7d299++232r17t70tKSmp0rWdO3dO\n",
              "fn5+MgxDmzZt0vfff3/NvrGxsVq8eLH9qV9xcbF27Nhh34+Pj49sNpv279+vb775ptI1STyJAwAA\n",
              "NcSiRYv0+uuvKzIyUjabTV5eXvL29tbEiRO1f//+En29vLy0Zs0ajR8/Xi+++KIKCgrk6+urhIQE\n",
              "BQQEaMmSJRo9erSys7OVn5+vsLCwUp/MlceMGTP0zDPP6LXXXlNoaGiJV6W/deedd+qtt97SgAED\n",
              "VFhYqPz8fN13330KDw/X5MmT9fjjj+vjjz9W69atddddd1Wqnl8Zpmmav2sPNVxcXJxmzZrl7DIA\n",
              "AKgRcnNzlZaWppYtW5Z4rYiao7x/I16nAgAAWBCvUwEAwE0vJSVFQ4cOvWr7k08+qRdeeKH6CyoH\n",
              "QhwAALjphYaGWm56L16nAgAAWJBDQ9xzzz0nf39/GYZRZrpdsGCB2rRpo9atW2vkyJEqKCiQJK1f\n",
              "v15dunRRUFCQ2rdvrwkTJqi4uNiRJQMAAFiCQ0PcoEGDtHnzZvn5+V2zT1pamuLj45WYmKjU1FSd\n",
              "OHFC8+fPl3R5+PCyZcu0d+9e7dy5U1u3btUnn3ziyJIBAAAswaEhrnv37vYpKa5lxYoVio2N1a23\n",
              "3irDMDRmzBgtXbpU0uVfb27VqpUkqVatWgoNDbXPewYAAHAzc/p34jIyMko8qfP397f/yvGVMjMz\n",
              "tWLFCt1///3X3FdeXp4uXLhQYikqKnJI3QAAoGpMnTpVI0aMsK9v3rxZhmFo48aN9m1jxoxRfHz8\n",
              "Nffx7rvvKjMz05Fl1jhOD3HlceHCBT3wwAOaMGGCwsPDr9nvjTfeUIMGDUosv2eaDQAAbnSmaao4\n",
              "O9+hy/XmFejZs2eJwLZhwwZFRkZeta2sGQ4qG+KuN29qTeb0nxjx9fXVwYMH7evp6eny9fW1r1+8\n",
              "eFF9+vTRgw8+qLi4uDL3NWnSpKv6lJXaAQC42Zk5BToZPtuhx2iyY5yMOu7XbI+KitKxY8d09OhR\n",
              "+fj4aOPGjZoyZYreeustSdLx48eVkZGhbdu2acKECSooKJCbm5vee+89de3aVa+++qqOHTumhx9+\n",
              "WLVr19aiRYvUvn17xcfHa/369crPz1dgYKDmzZsnLy8vDR06VC4uLkpNTdXJkye1b98+h56/ozj9\n",
              "SdzAgQO1evVqZWZmyjRNzZ07V0OGDJEk/fLLL+rTp4/69OmjyZMnX3dfHh4e8vT0LLG4uro6+hQA\n",
              "AMDv4O7urujoaG3YsEF5eXlKS0tTv379dPToUeXm5mrDhg3q2rWrRo4cqe3btyslJUVz5szRsGHD\n",
              "JElTpkxR8+bN9dlnnyklJUWhoaF6++23VbduXSUlJSklJUUdOnQokSV27typNWvWWDbASQ5+Ejd6\n",
              "9GitWbNGmZmZ6t27t+rXr6/U1FSNGDFCsbGxio2NVatWrTR16lR169ZNktSjRw+NHj1akjR79mwl\n",
              "JSXp0qVLWrVqlSRp8ODBevnllx1ZNgAANw2jtpua7Bjn8GNcz6+vVP38/NSlSxdJl5/Qbdu2TRs3\n",
              "blTPnj2VnJys119/XWfOnJHNZtP+/fuVk5Oj2rVrX7W/hIQEZWVlaeXKlZKk/Px8+fv729sHDx6s\n",
              "+vXrV80JOolDQ9y8efNK3f7hhx+WWB85cqRGjhx5Vb+XX36ZwAYAgAMZhlHmq87q0rNnTy1YsEC+\n",
              "vr7q0aOHJCkmJkYbNmzQhg0b9OGHH+q+++7Thg0bFBERoQsXLqhBgwbKy8srNcSZpqk5c+bo3nvv\n",
              "LfV49erVc+TpVAunv04FAACIiIjQyZMn9be//a1EiFu2bJmOHz+u0NBQ5efn2783P2fOnBKf9/T0\n",
              "VFZWln29f//+euedd5SdnS1Jys7O1p49e6rnZKoJIQ4AADidm5ub7rjjDl28eFHt2rWTJAUGBuri\n",
              "xYu644471KBBA02bNk1dunRR586d5e5e8unhc889p5EjR9rnQJ04caIiIiIUGRmpkJAQRUVFWW5u\n",
              "1OsxzOuN+7W4uLg4zZo1y9llAABQI+Tm5iotLU0tW7ZUrVq1nF0OSlHevxFP4gAAACyIEAcAAGBB\n",
              "hDgAAAALIsQBAHATKi4udnYJuIbyDldw+rRbAACg+ri7u8vFxUXHjh2Tt7e33N3dZRiGs8vCv5mm\n",
              "qVOnTskwDLm5lf0jyYQ4AABuIi4uLmrZsqWOHz+uY8eOObsclMIwDPn4+Fx36lBCHAAANxl3d3f5\n",
              "+vqqsLBQRUVFzi4Hv+Hm5lauud8JcQAA3IR+fV13vVd2qLkY2AAAAGBBhDgAAAALIsQBAABYECEO\n",
              "AADAgghxAAAAFkSIAwAAsKBK/cTI3r17dfToUdWuXVsdOnRQw4YNq7gsAAAAlKXcIe7ixYuaOXOm\n",
              "/vrXv6pOnTpq2rSpcnNzdfDgQXXp0kUTJ05Ur169HFkrAAAA/q3cIa5nz5564oknlJycrKZNm9q3\n",
              "FxcXKzExUXPnzlVqaqpGjx7tkEIBAADwf8od4rZs2SIPD4+rtru4uCgmJkYxMTHKy8ur0uIAAABQ\n",
              "unIPbCgtwFWmDwAAAH6/coe4+++/X1u3bi217fz58/qP//gPzZs3r8oKAwAAwLWV+3Xq9OnTNWnS\n",
              "JO3du1cRERH2gQ379u3Tzz//rD/96U966qmnHFkrAAAA/q3cIS4kJERr1qzRkSNH9N133+no0aOq\n",
              "U6eO/vjHP+qOO+6QzVapXysBAABAJVQ4eZ07d06PPfZYiW27d+9WSEhIlRUFAACAslV4xoahQ4eW\n",
              "axsAAAAcp9xP4k6ePKnMzEzl5OToX//6l0zTlCRlZWXp0qVLDisQAAAAVyt3iFu6dKneffddHTt2\n",
              "TLGxsfbtDRo00IQJExxSHAAAAEpX7hA3btw4jRs3Tq+99pri4+MdWRMAAACuo8IDG+Lj41VcXKzM\n",
              "zEwVFhbat/v6+lZpYQAAALi2Cg9s+Pjjj9WwYUN16NBBnTt3VufOnRUeHl5q3+eee07+/v4yDEMp\n",
              "KSnX3OeCBQvUpk0btW7dWiNHjlRBQUG52gAAAG5WFQ5xr776qrZv364zZ87o1KlTOnXqlE6ePFlq\n",
              "30GDBmnz5s3y8/O75v7S0tIUHx+vxMREpaam6sSJE5o/f/512wAAAG5mFX6d2rhxY7Vt27Zcfbt3\n",
              "737dPitWrFBsbKxuvfVWSdKYMWM0ffp0/elPfyqzzRm+PPS9Tuf+4pRjo+Ka/PAP2fJ+UUhjH9Wx\n",
              "uTu7HEs6nuWuo+dqyebVXO5NApxdDq7D49AZ1Uo/K69GteXlVcfZ5aCc3Dv7yC2oqbPLgAVVOMT1\n",
              "799f7777rh599FHVqlXLvt3T07NSBWRkZJR4Uufv76+MjIzrtpUmLy9PeXl5JbYVFRVVqq7SzPth\n",
              "k3af+bnK9gfH+jjpQ92Wc06XJPEjOJWz12OAkuoMlZQnaY+Tq8H1RB84pahDpyVJF51cC8qv/ks9\n",
              "CHGolAqHuJdfflmSFBcXJ8MwZJqmDMOo0rBUWW+88YamTp1aYltUVFSV7b97izZq6dm4yvYHxzp9\n",
              "KlLZOefVvlFz1ba5ObscS7r1lxZqezFdrg2by62xv7PLwXXUre2qTA9XNWxYSw29aju7HJSTa8tG\n",
              "zi4BFlXhEFdcXFylBfj6+urgwYP29fT0dPtI17LaSjNp0iTFxcWV2FaVP4fy5859qmxfqAY9HnF2\n",
              "BZbXTNIdzi4CAFCqCg9sqGoDBw7U6tWrlZmZKdM0NXfuXA0ZMuS6baXx8PCQp6dnicXV1bW6TgUA\n",
              "AKDaVDjEubi4yNXV9aqlNKNHj5aPj4+OHj2q3r17KyDg8hejR4wYodWrV0uSWrVqpalTp6pbt24K\n",
              "CAiQt7e3Ro8efd02AACAm5lh/joJajldOU9qTk6OPvnkExUVFemll16q8uKqQlxcnGbNmuXsMgAA\n",
              "AKpUhZ/E1a1b1740btxYcXFxWrFihSNqAwAAwDX87u/E7du3T6dPn66KWgAAAFBOFR6d6uXlJcMw\n",
              "JMk+d+qcOXOqtioAAACUqcIh7so5UG02m2699VZGgAIAAFSzCoc4Pz8/ZWdn28Ocl5eX6tRhehcA\n",
              "AIDqVOEQt3XrVg0cONA+n+mJEye0cuVKde3atcqLAwAAQOkqHOJ+HY3arVs3SZdD3QsvvKB//vOf\n",
              "VV4cAAAASlfh0ak5OTn2ACdJ0dHRys3NrdKiAAAAULYKh7h69erp22+/ta+vW7dOdevWrdKiAAAA\n",
              "ULYKv05977339NBDD9lHpBYXF2vVqlVVXhgAAACurcIh7tixY9qxY4dOnDghSWratKmSkpKqvDAA\n",
              "AABcW4Vfp8bHx8vb21vBwcEKDg5W48aNFR8f74jaAAAAcA2/e9otwzBUVFRUFbUAAACgnCoc4urX\n",
              "r6+tW7fa17ds2aL69etXaVEAAAAoW4W/E/fWW29pwIABateunSTpwIED+uKLL6q8MAAAAFxbhUNc\n",
              "165d9eOPP2rbtm2SLv9OXMOGDau6LgAAAJShwiFOujxfar9+/aq6FgAAAJTT7x7YAAAAgOpHiAMA\n",
              "ALAgQhwAAIAFEeIAAAAsiBAHAABgQYQ4AAAACyLEAQAAWBAhDgAAwIIIcQAAABZEiAMAALAgQhwA\n",
              "AIAFEeIAAAAsiBAHAABgQYQ4AAAAC3JoiDtw4ICio6MVGBioiIgI7dmz56o+xcXFGj9+vIKDg9Wu\n",
              "XTsNHz5c+fn59vY333xTQUFBCg0NVVRUlJKSkhxZMgAAgCU4NMSNHj1ao0aN0k8//aSJEydq6NCh\n",
              "V/VZsGCBdu3apV27dunHH3+Ui4uLZs+eLUlKSUnRBx98oKSkJKWkpGjs2LEaO3asI0sGAACwBIeF\n",
              "uJMnT2rHjh167LHHJEkDBw7UkSNHlJqaWqLf999/r7vvvlvu7u4yDEN9+/bVp59+KkkyDEMFBQW6\n",
              "dOmSJOn8+fPy8fFxVMkAAACWYXPUjo8cOaJmzZrJZrt8CMMw5Ovrq4yMDAUEBNj7de7cWfPmzdPY\n",
              "sWNVu3Ztff7550pPT5ckdezYUS+88IJatmypRo0aycPDQ5s2bbrmMfPy8pSXl1diW1FRUdWfHAAA\n",
              "gJM5fWDD0KFD1adPH8XExCgmJkaBgYH24JeWlqZVq1YpNTVVR48e1QsvvKCHH374mvt644031KBB\n",
              "gxIL36EDAAA3IoeFuNtuu03Hjx9XYWGhJMk0TWVkZMjX17dEP8Mw9Morryg5OVlbt25VUFCQ2rdv\n",
              "L0lauXKlOnTooObNm0uShg0bpi1btpQY+HClSZMmKSsrq8TSpUsXR50iAACA0zgsxDVp0kSdOnXS\n",
              "4sWLJV0OZD4+PiVepUpSbm6uzp07J0k6ffq0ZsyYoQkTJkiSWrVqpS1btuiXX36RJH311VcKDAyU\n",
              "u7t7qcf08PCQp6dnicXV1dVRpwgAAOA0DvtOnCTNmzdPQ4cO1fTp0+Xp6amFCxdKkkaMGKHY2FjF\n",
              "xsYqKytLPXr0kIuLi4qLizVu3Dg98MADkqQBAwZo+/btCg8Pl4eHh+rWraslS5Y4smQAAABLMEzT\n",
              "NJ1dhCPFxcVp1qxZzi4DAACgSjl9YAMAAAAqjhAHAABgQYQ4AAAACyLEAQAAWBAhDgAAwIIIcQAA\n",
              "ABZEiAMAALAgQhwAAIAFEeIAAAAsiBAHAABgQYQ4AAAACyLEAQAAWBAhDgAAwIIIcQAAABZEiAMA\n",
              "ALAgQhwAAIAFEeIAAAAsiBAHAABgQYQ4AAAACyLEAQAAWBAhDgAAwIIIcQAAABZEiAMAALAgQhwA\n",
              "AIAFEeIAAAAsiBAHAABgQYQ4AAAACyLEAQAAWBAhDgAAwIIIcQAAABZEiAMAALAgh4a4AwcOKDo6\n",
              "WoGBgYqIiNCePXuu6lNcXKzx48crODhY7dq10/Dhw5Wfn29vz8jI0AMPPKC2bdsqKChIc+bMcWTJ\n",
              "AAAAluDQEDd69GiNGjVKP/30kyZOnKihQ4de1WfBggXatWuXdu3apR9//FEuLi6aPXu2JMk0TQ0Y\n",
              "MEBPPPGE9u/fr7179+oPf/iDI0sGAACwBIeFuJMnT2rHjh167LHHJEkDBw7UkSNHlJqaWqLf999/\n",
              "r7vvvlvu7u4yDEN9+/bVp59+Kklat26dPDw8NHjwYHv/pk2bOqpkAAAAy3BYiDty5IiaNWsmm80m\n",
              "STIMQ76+vsrIyCjRr3Pnzlq9erUuXLiggoICff7550pPT5ck7d27V97e3hoyZIjCwsI0YMAAHTp0\n",
              "6JrHzMvL04ULF0osRUVFjjpFAAAAp3H6wIahQ4eqT58+iomJUUxMjAIDA+3Br7CwUOvXr1d8fLyS\n",
              "k5PVu3fvMl+nvvHGG2rQoEGJJSkpqbpOBQAAoNo4LMTddtttOn78uAoLCyVd/n5bRkaGfH19S/Qz\n",
              "DEOvvPKKkpOTtXXrVgUFBal9+/aSJF9fX4WFhdnXH3/8ce3atUsFBQWlHnPSpEnKysoqsXTp0sVR\n",
              "pwgAAOA0DgtxTZo0UadOnbR48WJJ0sqVK+Xj46OAgIAS/XJzc3Xu3DlJ0unTpzVjxgxNmDBBktS3\n",
              "b18dPXpUP//8syRp7dq1uv322+Xm5lbqMT08POTp6VlicXV1ddQpAgAAOI3NkTufN2+ehg4dqunT\n",
              "p8vT01MLFy6UJI0YMUKxsbGKjY1VVlaWevToIRcXFxUXF2vcuHF64IEHJEl169bV3Llzdd9998k0\n",
              "TTVo0EDLli1zZMkAAACWYJimaTq7CEeKi4vTrFmznF0GAABAlXL6wAYAAABUHCEOAADAgghxAAAA\n",
              "FkSIAwAAsCBCHAAAgAUR4gAAACyIEAcAAGBBhDgAAAALIsQBAABYECEOAADAgghxAAAAFkSIAwAA\n",
              "sCBCHAAAgAUR4gAAACyIEAcAAGBBhDgAAAALIsQBAABYECEOAADAgghxAAAAFkSIAwAAsCBCHAAA\n",
              "gAUR4gAAACyIEAcAAGBBhDgAAAALIsQBAABYkGGapunsIhzpoYcekr+/f5Xsq6ioSElJSerSpYtc\n",
              "XV2rZJ83Eq5P2bg+ZeP6lI3rUzauz//x8/PTuHHjnF0GqsENH+Kq0oULF9SgQQNlZWXJ09PT2eXU\n",
              "OFyfsnF9ysb1KRvXp2xcH9yMeJ0KAABgQYQ4AAAACyLEAQAAWBAhrgI8PDz0l7/8RR4eHs4upUbi\n",
              "+pSN61M2rk/ZuD5l4/rgZsTABgAAAAviSRwAAIAFEeIAAAAsiBAHAABgQYS4cjpw4ICio6MVGBio\n",
              "iIgI7dmzx9klOdxzzz0nf39/GYahlJQU+/ayrkVl26woNzdX/fv3V2BgoDp27Kh77rlHqampkqST\n",
              "J0+qT58+atOmjYKDg7Vp0yb75yrbZkX33nuvQkJCFBoaqjvvvFPJycmSuId+a+HChTIMQwkJCZK4\n",
              "f37l7++vtm3bKjQ0VKGhofrss88kcf8AdibKpWfPnubChQtN0zTN5cuXm+Hh4c4tqBp899135pEj\n",
              "R0w/Pz8zOTnZvr2sa1HZNivKyckx16xZYxYXF5umaZpz5swxY2JiTNM0zWHDhpl/+ctfTNM0zaSk\n",
              "JLNFixZmfn7+72qzonPnztn/vWrVKjMkJMQ0Te6hK6WlpZldu3Y1o6KizC+++MI0Te6fX/32/55f\n",
              "cf8AlxHiyuHEiRNm/fr1zYKCAtM0TbO4uNhs2rSpeeDAASdXVj2u/I+0rGtR2bYbxfbt200/Pz/T\n",
              "NE2zbt265vHjx+1tERER5jfffPO72qxu4cKFZseOHbmHrlBUVGT26tXL3LFjhxkTE2MPcdw/l5UW\n",
              "4rh/gP9jc/aTQCs4cuSImjVrJpvt8uUyDEO+vr7KyMhQQECAk6urXmVdiwYNGlSq7Ua5hrNnz9aD\n",
              "Dz6oM2fOqKCgQLfeequ9zd/fXxkZGZVus7InnnhCGzZskCStXbuWe+gKs2bNUrdu3dS5c2f7Nu6f\n",
              "kp544gmZpqkuXbpoxowZ3D/AFfhOHFAFpk+frtTUVL3xxhvOLqXG+eSTT3TkyBFNmzZNEydOdHY5\n",
              "NcYPP/yglStXavLkyc4upcbatGmTdu/erV27dqlx48Z68sknnV0SUKMQ4srhtttu0/Hjx1VYWChJ\n",
              "Mk1TGRkZ8vX1dXJl1a+sa1HZNqubOXOmVq1apb///e+qU6eObrnlFtlsNmVmZtr7pKeny9fXt9Jt\n",
              "N4Inn3xSGzZskI+PD/eQpMTERKWnp6tNmzby9/fXP//5T40aNUqff/4598+//Vq7m5ubnn/+eSUm\n",
              "JvJ/EHAFQlw5NGnSRJ06ddLixYslSStXrpSPj89N+Qi+rGtR2TYrmzVrlpYuXapvvvlGDRs2tG8f\n",
              "PHiw5s6dK0navn27fv75Z8XExPyuNqs5f/68jh07Zl9PSEjQLbfcwj30b08//bSOHz+u9PR0paen\n",
              "KyoqSvPnz9fTTz/N/SPp0qVLOn/+vH196dKlCgsL4/4BruSk7+JZzr59+8yoqCizTZs2ZufOnc3d\n",
              "u3c7uySHGzVqlNmiRQvT1dXVbNKkidm6dWvTNMu+FpVts6IjR46YksxWrVqZHTt2NDt27Gh26dLF\n",
              "NE3TzMzMNO+55x4zICDADAoKMtevX2//XGXbrCY9Pd2MiIgwg4ODzZCQELNXr172L6lzD13tyoEN\n",
              "3D+mefDgQTM0NNTs0KGDGRwcbMbGxpppaWmmaXL/AL9i7lQAAAAL4nUqAACABRHiAAAALIgQBwAA\n",
              "YEGEOOAGZBhGiZF90uUffr1yDlyraNy4sdLT06/bLzs7W4888ogCAgIUGBioFStWOL44AHAiZmwA\n",
              "cEOYOXOmPDw8lJqaqrS0NEVGRqpnz5665ZZbnF0aADgET+KAm5C/v7+mTJmirl27qmXLlpo2bZq9\n",
              "rUePHho/frzuvPNOtW7dWmPGjLG3LVmyRJGRkQoLC1PHjh313//93yU+9+KLL6p79+7y9fVVfHy8\n",
              "1q5dqzvuuEP+/v6aNWuWve+BAwd03333KSIiQiEhIXr//fftbatXr9btt9+ukJAQTZgwodzn9Nln\n",
              "n9lrbdmypXr06KEvvviiUtcHAKyAJ3HATer8+fPatm2bTp8+rdatW2vYsGFq0aKFJOngwYPasGGD\n",
              "CgoKFBQUpG3btqlr167q3bu3HnnkERmGYf+B2sOHD8vDw0OSdPjwYW3YsEEXLlyQv7+/zp07p8TE\n",
              "RB07dkxt27bVU089pfr16+uRRx7R4sWL1a5dO2VnZysqKkqRkZHy8/PTsGHDlJiYqKCgIM2fP19n\n",
              "zpyx1zxlyhQ1b968RLD8VUZGhvz8/OzrN8K8oQBQFkIccBMxDMP+70cffVTS5e+ctWrVSmlpafYQ\n",
              "9/DDD8tms8lmsyk0NFQHDx5U165dlZaWpj/+8Y86evSobDabzp49q7S0NLVr106SNGjQILm6usrL\n",
              "y0utWrXS/fffL8Mw1KJFC3l7eys9PV3u7u7as2ePhgwZYq/l4sWL2rt3r44fP66QkBAFBQVJkoYP\n",
              "H65nn33W3u/VV191+DUCAKsgxAE3IG9vb505c6bEVGCnT59WkyZN7Ou1atWy/9vV1dU+p2RZbUOG\n",
              "DNGMGTM0aNAgSVKjRo2Um5t7zc+Vth83Nzc1atSo1EEWq1evLrF+Zei8Hl9fXx0+fFjNmjWTdHne\n",
              "0HvvvbfcnwcAq+E7ccANqHfv3po3b559/ZNPPlGrVq3sAaeyzp07p5YtW0qSFi9erHPnzlV4H23b\n",
              "tpWnp6cWLlxo35aamqqzZ8+qa9eu2r17t/bt2ydJ+uijj5Sfn1+u/V45b2haWpo2btyo/v37V7g+\n",
              "ALAKQhxwA3r33XftryZDQ0O1ZMkSLV++/Hfvd/bs2Ro0aJDCwsKUnJwsX1/fCu/DZrPpq6++0qpV\n",
              "qxQSEqL27dtr+PDhysnJkbe3tz766CMNGDBAHTt21IEDB0qMLp0yZYo9qP3WSy+9pJycHLVu3Vq9\n",
              "e/fW+++/r8aNG1f6XAGgpmPuVAAAAAviSRwAAIAFEeIAAAAsiBAHAABgQYQ4AAAACyLEAQAAWBAh\n",
              "DgAAwIIIcQAAABZEiAMAALAgQhwAAIAFEeIAAAAs6P8D1Lz8LBIw8jcAAAAASUVORK5CYII=\n",
              "\">\n",
              "        \n",
              "      </div>\n",
              "      <script></script>\n",
              "      <script type=\"text/javascript\">\n",
              "        (() => {\n",
              "          const chartElement = document.getElementById(\"chart-8318c199-d045-4ca3-8dee-6e0b28eaf360\");\n",
              "          async function getCodeForChartHandler(event) {\n",
              "            const chartCodeResponse =  await google.colab.kernel.invokeFunction(\n",
              "                'getCodeForChart', [\"chart-8318c199-d045-4ca3-8dee-6e0b28eaf360\"], {});\n",
              "            const responseJson = chartCodeResponse.data['application/json'];\n",
              "            await google.colab.notebook.addCell(responseJson.code, 'code');\n",
              "          }\n",
              "          chartElement.onclick = getCodeForChartHandler;\n",
              "        })();\n",
              "      </script>\n",
              "      <style>\n",
              "        .colab-quickchart-chart-with-code  {\n",
              "            display: block;\n",
              "            float: left;\n",
              "            border: 1px solid transparent;\n",
              "        }\n",
              "\n",
              "        .colab-quickchart-chart-with-code:hover {\n",
              "            cursor: pointer;\n",
              "            border: 1px solid #aaa;\n",
              "        }\n",
              "      </style>"
            ]
          },
          "metadata": {}
        }
      ]
    },
    {
      "cell_type": "code",
      "source": [
        "train_df, test_df = train_test_split(df, test_size=0.2, random_state=42)"
      ],
      "metadata": {
        "id": "YwfGYeNOjt8N"
      },
      "execution_count": null,
      "outputs": []
    },
    {
      "cell_type": "code",
      "source": [
        "train_diagram = ImageDataGenerator( rescale=1./255, shear_range=0.2, zoom_range=0.2, horizontal_flip=True,\n",
        "                                   rotation_range=45, vertical_flip=True, fill_mode='nearest' )\n",
        "\n",
        "test_diagram =ImageDataGenerator(rescale=1./255)\n",
        "\n",
        "train_generator = train_diagram.flow_from_dataframe(dataframe=train_df, x_col='image_path', y_col='label', target_size=(255,255),\n",
        "                                                  batch_size=32, class_mode='categorical' )\n",
        "\n",
        "test_generator = test_diagram.flow_from_dataframe(dataframe=test_df, x_col='image_path', y_col='label', target_size=(255,255),\n",
        "                                                  batch_size=32, class_mode='categorical')\n",
        "\n"
      ],
      "metadata": {
        "colab": {
          "base_uri": "https://localhost:8080/"
        },
        "id": "rhaM2Lqdjt2g",
        "outputId": "0bc3be32-1d8c-4c96-c4fa-e55694ea5055"
      },
      "execution_count": null,
      "outputs": [
        {
          "output_type": "stream",
          "name": "stdout",
          "text": [
            "Found 4504 validated image filenames belonging to 4 classes.\n",
            "Found 1127 validated image filenames belonging to 4 classes.\n"
          ]
        }
      ]
    },
    {
      "cell_type": "markdown",
      "source": [
        "# Deep learning model"
      ],
      "metadata": {
        "id": "boKds8wZIMHT"
      }
    },
    {
      "cell_type": "code",
      "source": [
        "\n",
        "model = Sequential()\n",
        "\n",
        "model.add(Conv2D(32, (3,3), input_shape= (255,255,3), activation='relu'))\n",
        "model.add(MaxPooling2D(2,2))\n",
        "model.add(Conv2D(32,(3,3), activation='relu', input_shape=(64,64,3)))\n",
        "model.add(MaxPooling2D(2,2))\n",
        "\n",
        "model.add(Conv2D(64,(3,3), activation='relu'))\n",
        "model.add(MaxPooling2D(2,2))\n",
        "model.add(Conv2D(128,(3,3), activation='relu'))\n",
        "model.add(MaxPooling2D(2,2))\n",
        "\n",
        "model.add(Flatten())\n",
        "\n",
        "model.add(Dense(128, activation='relu'))\n",
        "model.add(Dropout(0.5))\n",
        "model.add(Dense(4, activation='softmax'))"
      ],
      "metadata": {
        "id": "H09fAuzXEWpe"
      },
      "execution_count": null,
      "outputs": []
    },
    {
      "cell_type": "code",
      "source": [
        "model.compile(optimizer='adam', loss='categorical_crossentropy', metrics=['accuracy'])"
      ],
      "metadata": {
        "id": "NwDjwHKcEWm2"
      },
      "execution_count": null,
      "outputs": []
    },
    {
      "cell_type": "code",
      "source": [
        "history = model.fit_generator(train_generator, epochs=5, validation_data= test_generator )"
      ],
      "metadata": {
        "colab": {
          "base_uri": "https://localhost:8080/"
        },
        "id": "tKlAYXbPEWjg",
        "outputId": "527d66c2-acb4-412c-a647-968b42dbcac2"
      },
      "execution_count": null,
      "outputs": [
        {
          "output_type": "stream",
          "name": "stderr",
          "text": [
            "<ipython-input-113-a318f826637c>:1: UserWarning: `Model.fit_generator` is deprecated and will be removed in a future version. Please use `Model.fit`, which supports generators.\n",
            "  history = model.fit_generator(train_generator, epochs=5, validation_data= test_generator )\n"
          ]
        },
        {
          "output_type": "stream",
          "name": "stdout",
          "text": [
            "Epoch 1/5\n",
            "141/141 [==============================] - 1143s 8s/step - loss: 0.7168 - accuracy: 0.6323 - val_loss: 0.4575 - val_accuracy: 0.7968\n",
            "Epoch 2/5\n",
            "141/141 [==============================] - 654s 5s/step - loss: 0.4727 - accuracy: 0.8099 - val_loss: 0.4073 - val_accuracy: 0.8350\n",
            "Epoch 3/5\n",
            "141/141 [==============================] - 656s 5s/step - loss: 0.4506 - accuracy: 0.7853 - val_loss: 0.4436 - val_accuracy: 0.7524\n",
            "Epoch 4/5\n",
            "141/141 [==============================] - 654s 5s/step - loss: 0.4027 - accuracy: 0.8282 - val_loss: 0.3082 - val_accuracy: 0.8758\n",
            "Epoch 5/5\n",
            "141/141 [==============================] - 658s 5s/step - loss: 0.3524 - accuracy: 0.8586 - val_loss: 0.3193 - val_accuracy: 0.8625\n"
          ]
        }
      ]
    },
    {
      "cell_type": "code",
      "source": [
        "num_sample = test_df.shape[0]\n",
        "num_sample"
      ],
      "metadata": {
        "colab": {
          "base_uri": "https://localhost:8080/"
        },
        "id": "cNnix-MQEWf3",
        "outputId": "47e232b3-ee2d-49a6-9b3b-d137785342e8"
      },
      "execution_count": null,
      "outputs": [
        {
          "output_type": "execute_result",
          "data": {
            "text/plain": [
              "1127"
            ]
          },
          "metadata": {},
          "execution_count": 115
        }
      ]
    },
    {
      "cell_type": "code",
      "source": [
        "score = model.evaluate(test_generator, steps=num_sample//32+1)"
      ],
      "metadata": {
        "colab": {
          "base_uri": "https://localhost:8080/"
        },
        "id": "AHRF_Vq6EWdD",
        "outputId": "281024c8-f118-456e-fd0e-4d620d4f7436"
      },
      "execution_count": null,
      "outputs": [
        {
          "output_type": "stream",
          "name": "stdout",
          "text": [
            "36/36 [==============================] - 38s 1s/step - loss: 0.3193 - accuracy: 0.8625\n"
          ]
        }
      ]
    },
    {
      "cell_type": "code",
      "source": [
        "model.summary"
      ],
      "metadata": {
        "colab": {
          "base_uri": "https://localhost:8080/"
        },
        "id": "mstE0CwSEWXb",
        "outputId": "3f665d16-66c1-4d4a-a1da-36d340c042b1"
      },
      "execution_count": null,
      "outputs": [
        {
          "output_type": "execute_result",
          "data": {
            "text/plain": [
              "<bound method Model.summary of <keras.engine.sequential.Sequential object at 0x781cecc7d390>>"
            ]
          },
          "metadata": {},
          "execution_count": 119
        }
      ]
    },
    {
      "cell_type": "code",
      "source": [
        "from keras.utils import plot_model\n",
        "from PIL import Image\n",
        "\n",
        "plot_model(model, to_file='cnn_model.png', show_shapes= True, show_layer_names=True )\n",
        "display(Image.open('cnn_model.png'))"
      ],
      "metadata": {
        "colab": {
          "base_uri": "https://localhost:8080/",
          "height": 1000
        },
        "id": "RJJfvApIjtzU",
        "outputId": "f28d5d64-bf9a-49a1-af4b-d2aea54e723a"
      },
      "execution_count": null,
      "outputs": [
        {
          "output_type": "display_data",
          "data": {
            "text/plain": [
              "<PIL.PngImagePlugin.PngImageFile image mode=RGB size=421x1401>"
            ],
            "image/png": "[encoded data removed]"
          },
          "metadata": {}
        }
      ]
    },
    {
      "cell_type": "markdown",
      "source": [
        "# loss and accuracy visualization"
      ],
      "metadata": {
        "id": "AQrFu1vqf9Hm"
      }
    },
    {
      "cell_type": "code",
      "source": [
        "import matplotlib.pyplot as plt\n",
        "\n",
        "#plot the loss :\n",
        "plt.plot(history.history['loss'], label = 'Training Loss')\n",
        "plt.plot(history.history['val_loss'], label = 'Validation Loss')\n",
        "\n",
        "plt.legend()\n",
        "plt.show()\n",
        "plt.savefig('LossVal_loss')\n",
        "\n",
        "\n",
        "#plot the accuracy:\n",
        "plt.plot(history.history['accuracy'], label = 'Training accuracy')\n",
        "plt.plot(history.history['val_accuracy'], label = 'Validation accuracy')\n",
        "\n",
        "plt.legend()\n",
        "plt.show()\n",
        "plt.savefig('AccuracyVal_Accuracy')\n",
        "\n"
      ],
      "metadata": {
        "colab": {
          "base_uri": "https://localhost:8080/",
          "height": 861
        },
        "id": "q-GXvHmfdp-H",
        "outputId": "1b490a8b-8b68-4168-ba10-7e895d6376bb"
      },
      "execution_count": null,
      "outputs": [
        {
          "output_type": "display_data",
          "data": {
            "text/plain": [
              "<Figure size 640x480 with 1 Axes>"
            ],
            "image/png": "[encoded data removed]"
          },
          "metadata": {}
        },
        {
          "output_type": "display_data",
          "data": {
            "text/plain": [
              "<Figure size 640x480 with 1 Axes>"
            ],
            "image/png": "[encoded data removed]"
          },
          "metadata": {}
        },
        {
          "output_type": "display_data",
          "data": {
            "text/plain": [
              "<Figure size 640x480 with 0 Axes>"
            ]
          },
          "metadata": {}
        }
      ]
    },
    {
      "cell_type": "markdown",
      "source": [
        "# saving the models"
      ],
      "metadata": {
        "id": "JKUKGW0thW2u"
      }
    },
    {
      "cell_type": "code",
      "source": [
        "from keras.models import load_model\n",
        "model.save('Model.h5')\n",
        "model= load_model('Model.h5')"
      ],
      "metadata": {
        "id": "wWL651qRdp65"
      },
      "execution_count": null,
      "outputs": []
    },
    {
      "cell_type": "code",
      "source": [
        "import numpy as np\n",
        "\n",
        "from keras.utils import img_to_array\n",
        "from PIL import Image\n",
        "\n",
        "class_names = ['Cloudy', 'Desert', 'Green_area', 'Water']"
      ],
      "metadata": {
        "id": "cxlo6wuedp09"
      },
      "execution_count": 154,
      "outputs": []
    },
    {
      "cell_type": "code",
      "source": [
        "from keras.utils.image_utils import load_img\n",
        "\n",
        "img = load_img(\"/content/desert.png\", target_size=(255,255))"
      ],
      "metadata": {
        "id": "sCJZO1q8dpvf"
      },
      "execution_count": 155,
      "outputs": []
    },
    {
      "cell_type": "code",
      "source": [
        "img_array = img_to_array(img)\n",
        "img_array"
      ],
      "metadata": {
        "id": "T0hB-_cUdpsV",
        "colab": {
          "base_uri": "https://localhost:8080/"
        },
        "outputId": "fbce1a39-a163-4e91-de96-ee37f14335f6"
      },
      "execution_count": 156,
      "outputs": [
        {
          "output_type": "execute_result",
          "data": {
            "text/plain": [
              "array([[[255., 235., 209.],\n",
              "        [255., 232., 203.],\n",
              "        [255., 232., 203.],\n",
              "        ...,\n",
              "        [255., 240., 218.],\n",
              "        [255., 240., 218.],\n",
              "        [255., 240., 218.]],\n",
              "\n",
              "       [[255., 232., 203.],\n",
              "        [255., 235., 209.],\n",
              "        [255., 235., 209.],\n",
              "        ...,\n",
              "        [255., 240., 218.],\n",
              "        [255., 240., 218.],\n",
              "        [255., 240., 218.]],\n",
              "\n",
              "       [[255., 235., 209.],\n",
              "        [255., 232., 203.],\n",
              "        [255., 235., 209.],\n",
              "        ...,\n",
              "        [255., 240., 218.],\n",
              "        [255., 240., 218.],\n",
              "        [255., 243., 224.]],\n",
              "\n",
              "       ...,\n",
              "\n",
              "       [[ 72.,  44.,  26.],\n",
              "        [ 72.,  44.,  26.],\n",
              "        [ 72.,  44.,  26.],\n",
              "        ...,\n",
              "        [115.,  64.,  37.],\n",
              "        [115.,  64.,  37.],\n",
              "        [118.,  69.,  36.]],\n",
              "\n",
              "       [[ 72.,  44.,  26.],\n",
              "        [ 72.,  44.,  26.],\n",
              "        [ 72.,  44.,  26.],\n",
              "        ...,\n",
              "        [132.,  76.,  44.],\n",
              "        [115.,  64.,  37.],\n",
              "        [109.,  65.,  33.]],\n",
              "\n",
              "       [[ 72.,  44.,  26.],\n",
              "        [ 72.,  44.,  26.],\n",
              "        [ 72.,  44.,  26.],\n",
              "        ...,\n",
              "        [140.,  83.,  34.],\n",
              "        [130.,  71.,  44.],\n",
              "        [118.,  69.,  36.]]], dtype=float32)"
            ]
          },
          "metadata": {},
          "execution_count": 156
        }
      ]
    },
    {
      "cell_type": "code",
      "source": [
        "img_array.shape"
      ],
      "metadata": {
        "id": "SAbdunKjjtwY",
        "colab": {
          "base_uri": "https://localhost:8080/"
        },
        "outputId": "3aefa9b7-7e81-4ba8-da06-000469af6e7b"
      },
      "execution_count": 157,
      "outputs": [
        {
          "output_type": "execute_result",
          "data": {
            "text/plain": [
              "(255, 255, 3)"
            ]
          },
          "metadata": {},
          "execution_count": 157
        }
      ]
    },
    {
      "cell_type": "code",
      "source": [
        "img_array = img_array /255.0\n",
        "img_array"
      ],
      "metadata": {
        "colab": {
          "base_uri": "https://localhost:8080/"
        },
        "id": "HcEy0JdFrW1z",
        "outputId": "095a8cd3-8a9d-4191-fb63-0f801d4d3539"
      },
      "execution_count": 158,
      "outputs": [
        {
          "output_type": "execute_result",
          "data": {
            "text/plain": [
              "array([[[1.        , 0.92156863, 0.81960785],\n",
              "        [1.        , 0.9098039 , 0.79607844],\n",
              "        [1.        , 0.9098039 , 0.79607844],\n",
              "        ...,\n",
              "        [1.        , 0.9411765 , 0.85490197],\n",
              "        [1.        , 0.9411765 , 0.85490197],\n",
              "        [1.        , 0.9411765 , 0.85490197]],\n",
              "\n",
              "       [[1.        , 0.9098039 , 0.79607844],\n",
              "        [1.        , 0.92156863, 0.81960785],\n",
              "        [1.        , 0.92156863, 0.81960785],\n",
              "        ...,\n",
              "        [1.        , 0.9411765 , 0.85490197],\n",
              "        [1.        , 0.9411765 , 0.85490197],\n",
              "        [1.        , 0.9411765 , 0.85490197]],\n",
              "\n",
              "       [[1.        , 0.92156863, 0.81960785],\n",
              "        [1.        , 0.9098039 , 0.79607844],\n",
              "        [1.        , 0.92156863, 0.81960785],\n",
              "        ...,\n",
              "        [1.        , 0.9411765 , 0.85490197],\n",
              "        [1.        , 0.9411765 , 0.85490197],\n",
              "        [1.        , 0.9529412 , 0.8784314 ]],\n",
              "\n",
              "       ...,\n",
              "\n",
              "       [[0.28235295, 0.17254902, 0.10196079],\n",
              "        [0.28235295, 0.17254902, 0.10196079],\n",
              "        [0.28235295, 0.17254902, 0.10196079],\n",
              "        ...,\n",
              "        [0.4509804 , 0.2509804 , 0.14509805],\n",
              "        [0.4509804 , 0.2509804 , 0.14509805],\n",
              "        [0.4627451 , 0.27058825, 0.14117648]],\n",
              "\n",
              "       [[0.28235295, 0.17254902, 0.10196079],\n",
              "        [0.28235295, 0.17254902, 0.10196079],\n",
              "        [0.28235295, 0.17254902, 0.10196079],\n",
              "        ...,\n",
              "        [0.5176471 , 0.29803923, 0.17254902],\n",
              "        [0.4509804 , 0.2509804 , 0.14509805],\n",
              "        [0.42745098, 0.25490198, 0.12941177]],\n",
              "\n",
              "       [[0.28235295, 0.17254902, 0.10196079],\n",
              "        [0.28235295, 0.17254902, 0.10196079],\n",
              "        [0.28235295, 0.17254902, 0.10196079],\n",
              "        ...,\n",
              "        [0.54901963, 0.3254902 , 0.13333334],\n",
              "        [0.50980395, 0.2784314 , 0.17254902],\n",
              "        [0.4627451 , 0.27058825, 0.14117648]]], dtype=float32)"
            ]
          },
          "metadata": {},
          "execution_count": 158
        }
      ]
    },
    {
      "cell_type": "code",
      "source": [
        "import numpy as np\n",
        "img_array = np.reshape(img_array, (1,255,255,3))"
      ],
      "metadata": {
        "id": "KAL4H7ZArhR-"
      },
      "execution_count": 159,
      "outputs": []
    },
    {
      "cell_type": "markdown",
      "source": [
        "# Using Our Model For Predictions"
      ],
      "metadata": {
        "id": "wYkVVx-Cr3Ik"
      }
    },
    {
      "cell_type": "code",
      "source": [
        "predictions = model.predict(img_array)"
      ],
      "metadata": {
        "colab": {
          "base_uri": "https://localhost:8080/"
        },
        "id": "gOJEtI45r1Jq",
        "outputId": "b7b7cccb-1e8b-48e8-e79a-b9f5ba40bf1c"
      },
      "execution_count": 160,
      "outputs": [
        {
          "output_type": "stream",
          "name": "stdout",
          "text": [
            "1/1 [==============================] - 0s 53ms/step\n"
          ]
        }
      ]
    },
    {
      "cell_type": "code",
      "source": [
        "class_index = np.argmax(predictions[0])\n",
        "\n",
        "predicted_label = class_names[class_index]\n",
        "print(\"The image is predicted to be '{}'. \" .format(predicted_label))"
      ],
      "metadata": {
        "colab": {
          "base_uri": "https://localhost:8080/"
        },
        "id": "iKfD5ZaXr85f",
        "outputId": "2cc7a1f3-429e-4802-eea8-46ce9ed3a3ab"
      },
      "execution_count": 161,
      "outputs": [
        {
          "output_type": "stream",
          "name": "stdout",
          "text": [
            "The image is predicted to be 'Desert'. \n"
          ]
        }
      ]
    },
    {
      "cell_type": "code",
      "source": [
        "from sklearn.metrics import confusion_matrix\n",
        "predictions= model.predict_generator(test_generator)"
      ],
      "metadata": {
        "colab": {
          "base_uri": "https://localhost:8080/"
        },
        "id": "UDNcQW-sr82j",
        "outputId": "db97b55a-3c31-4799-a55f-37dd40f39033"
      },
      "execution_count": 162,
      "outputs": [
        {
          "output_type": "stream",
          "name": "stderr",
          "text": [
            "<ipython-input-162-7dfc48111a78>:2: UserWarning: `Model.predict_generator` is deprecated and will be removed in a future version. Please use `Model.predict`, which supports generators.\n",
            "  predictions= model.predict_generator(test_generator)\n"
          ]
        }
      ]
    },
    {
      "cell_type": "code",
      "source": [
        "predictions"
      ],
      "metadata": {
        "colab": {
          "base_uri": "https://localhost:8080/"
        },
        "id": "u2EDIy5Zr8zr",
        "outputId": "812d35ca-e455-4525-c278-9ad2d6a07e01"
      },
      "execution_count": 163,
      "outputs": [
        {
          "output_type": "execute_result",
          "data": {
            "text/plain": [
              "array([[3.9965700e-05, 9.9996001e-01, 0.0000000e+00, 0.0000000e+00],\n",
              "       [3.6070407e-03, 9.9639291e-01, 1.3277211e-25, 9.3816198e-24],\n",
              "       [1.1652729e-05, 3.8131837e-08, 5.5289841e-03, 9.9445921e-01],\n",
              "       ...,\n",
              "       [5.5258954e-04, 3.8300836e-06, 6.2235463e-01, 3.7708893e-01],\n",
              "       [1.9061721e-05, 9.9998093e-01, 0.0000000e+00, 0.0000000e+00],\n",
              "       [2.4588659e-04, 1.5771989e-06, 7.2081465e-01, 2.7893791e-01]],\n",
              "      dtype=float32)"
            ]
          },
          "metadata": {},
          "execution_count": 163
        }
      ]
    },
    {
      "cell_type": "code",
      "source": [
        "actual_label = test_generator.classes\n",
        "predicted_label = np.argmax(predictions, axis =1)\n",
        "\n",
        "# actual_label\n",
        "predicted_label"
      ],
      "metadata": {
        "colab": {
          "base_uri": "https://localhost:8080/"
        },
        "id": "VI_osmO9r8xA",
        "outputId": "ef1997aa-418c-478f-a7df-6596f15643be"
      },
      "execution_count": 164,
      "outputs": [
        {
          "output_type": "execute_result",
          "data": {
            "text/plain": [
              "array([1, 1, 3, ..., 2, 1, 2])"
            ]
          },
          "metadata": {},
          "execution_count": 164
        }
      ]
    },
    {
      "cell_type": "code",
      "source": [
        "cm = confusion_matrix(actual_label, predicted_label)\n",
        "cm"
      ],
      "metadata": {
        "colab": {
          "base_uri": "https://localhost:8080/"
        },
        "id": "ak4O1lEar8rq",
        "outputId": "38a87a17-4888-4082-b2be-16a22b5932e2"
      },
      "execution_count": 165,
      "outputs": [
        {
          "output_type": "execute_result",
          "data": {
            "text/plain": [
              "array([[96, 73, 97, 62],\n",
              "       [58, 57, 72, 40],\n",
              "       [66, 74, 86, 58],\n",
              "       [69, 71, 87, 61]])"
            ]
          },
          "metadata": {},
          "execution_count": 165
        }
      ]
    },
    {
      "cell_type": "code",
      "source": [
        "import matplotlib.pyplot as plt\n",
        "import numpy as np\n",
        "import itertools\n",
        "\n",
        "#confussion matrix :\n",
        "plt.imshow(cm , cmap= plt.cm.Blues)\n",
        "plt.title(\"Confussion Matrix\")\n",
        "plt.colorbar()\n",
        "\n",
        "tick_marks = np.arange(len(class_names))\n",
        "# plt.xticks(tick_marks, class_names, rotatation = 45)\n",
        "plt.xticks(tick_marks, class_names, rotation=45)\n",
        "plt.yticks(tick_marks, class_names,)\n",
        "\n",
        "threshold = cm.max()/2\n",
        "for i, j in itertools.product(range(cm.shape[0]), range(cm.shape[1]) ):\n",
        "  plt.text(j, i, cm[i, j], horizontalalignment = \"center\",\n",
        "  # plt.text(i,j, cm[i, j], horizontalalignment=\"center\",\n",
        "  color = 'white' if cm[i, j] > threshold else \"black\")\n",
        "\n",
        "plt.tight_layout()\n",
        "plt.ylabel(\"True label\")\n",
        "plt.xlabel(\"Predicted label\")\n",
        "plt.show()\n"
      ],
      "metadata": {
        "colab": {
          "base_uri": "https://localhost:8080/",
          "height": 506
        },
        "id": "S65T4PqMr8pF",
        "outputId": "81633479-960a-493b-ddb2-e30e0b7d0eee"
      },
      "execution_count": 174,
      "outputs": [
        {
          "output_type": "display_data",
          "data": {
            "text/plain": [
              "<Figure size 640x480 with 2 Axes>"
            ],
            "image/png": "[encoded data removed]"
          },
          "metadata": {}
        }
      ]
    }
  ]
}